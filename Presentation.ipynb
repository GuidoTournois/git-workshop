{
 "cells": [
  {
   "cell_type": "code",
   "execution_count": 1,
   "metadata": {
    "scrolled": true,
    "slideshow": {
     "slide_type": "skip"
    }
   },
   "outputs": [
    {
     "name": "stdout",
     "output_type": "stream",
     "text": [
      "Requirement already satisfied: RISE in /Users/guidotournois/miniconda3/envs/vantage/lib/python3.7/site-packages (5.5.1)\n",
      "Requirement already satisfied: notebook>=5.5.0 in /Users/guidotournois/miniconda3/envs/vantage/lib/python3.7/site-packages (from RISE) (5.7.0)\n",
      "Requirement already satisfied: jinja2 in /Users/guidotournois/miniconda3/envs/vantage/lib/python3.7/site-packages (from notebook>=5.5.0->RISE) (2.10)\n",
      "Requirement already satisfied: ipython-genutils in /Users/guidotournois/miniconda3/envs/vantage/lib/python3.7/site-packages (from notebook>=5.5.0->RISE) (0.2.0)\n",
      "Requirement already satisfied: jupyter-client>=5.2.0 in /Users/guidotournois/miniconda3/envs/vantage/lib/python3.7/site-packages (from notebook>=5.5.0->RISE) (5.2.3)\n",
      "Requirement already satisfied: traitlets>=4.2.1 in /Users/guidotournois/miniconda3/envs/vantage/lib/python3.7/site-packages (from notebook>=5.5.0->RISE) (4.3.2)\n",
      "Requirement already satisfied: jupyter-core>=4.4.0 in /Users/guidotournois/miniconda3/envs/vantage/lib/python3.7/site-packages (from notebook>=5.5.0->RISE) (4.4.0)\n",
      "Requirement already satisfied: terminado>=0.8.1 in /Users/guidotournois/miniconda3/envs/vantage/lib/python3.7/site-packages (from notebook>=5.5.0->RISE) (0.8.1)\n",
      "Requirement already satisfied: ipykernel in /Users/guidotournois/miniconda3/envs/vantage/lib/python3.7/site-packages (from notebook>=5.5.0->RISE) (5.1.0)\n",
      "Requirement already satisfied: nbformat in /Users/guidotournois/miniconda3/envs/vantage/lib/python3.7/site-packages (from notebook>=5.5.0->RISE) (4.4.0)\n",
      "Requirement already satisfied: Send2Trash in /Users/guidotournois/miniconda3/envs/vantage/lib/python3.7/site-packages (from notebook>=5.5.0->RISE) (1.5.0)\n",
      "Requirement already satisfied: prometheus-client in /Users/guidotournois/miniconda3/envs/vantage/lib/python3.7/site-packages (from notebook>=5.5.0->RISE) (0.4.2)\n",
      "Requirement already satisfied: tornado>=4 in /Users/guidotournois/miniconda3/envs/vantage/lib/python3.7/site-packages (from notebook>=5.5.0->RISE) (5.1.1)\n",
      "Requirement already satisfied: pyzmq>=17 in /Users/guidotournois/miniconda3/envs/vantage/lib/python3.7/site-packages (from notebook>=5.5.0->RISE) (17.1.2)\n",
      "Requirement already satisfied: nbconvert in /Users/guidotournois/miniconda3/envs/vantage/lib/python3.7/site-packages (from notebook>=5.5.0->RISE) (5.4.0)\n",
      "Requirement already satisfied: MarkupSafe>=0.23 in /Users/guidotournois/miniconda3/envs/vantage/lib/python3.7/site-packages (from jinja2->notebook>=5.5.0->RISE) (1.1.0)\n",
      "Requirement already satisfied: python-dateutil>=2.1 in /Users/guidotournois/miniconda3/envs/vantage/lib/python3.7/site-packages (from jupyter-client>=5.2.0->notebook>=5.5.0->RISE) (2.7.5)\n",
      "Requirement already satisfied: six in /Users/guidotournois/miniconda3/envs/vantage/lib/python3.7/site-packages (from traitlets>=4.2.1->notebook>=5.5.0->RISE) (1.12.0)\n",
      "Requirement already satisfied: decorator in /Users/guidotournois/miniconda3/envs/vantage/lib/python3.7/site-packages (from traitlets>=4.2.1->notebook>=5.5.0->RISE) (4.3.0)\n",
      "Requirement already satisfied: ptyprocess; os_name != \"nt\" in /Users/guidotournois/miniconda3/envs/vantage/lib/python3.7/site-packages (from terminado>=0.8.1->notebook>=5.5.0->RISE) (0.6.0)\n",
      "Requirement already satisfied: ipython>=5.0.0 in /Users/guidotournois/miniconda3/envs/vantage/lib/python3.7/site-packages (from ipykernel->notebook>=5.5.0->RISE) (7.1.1)\n",
      "Requirement already satisfied: jsonschema!=2.5.0,>=2.4 in /Users/guidotournois/miniconda3/envs/vantage/lib/python3.7/site-packages (from nbformat->notebook>=5.5.0->RISE) (2.6.0)\n",
      "Requirement already satisfied: bleach in /Users/guidotournois/miniconda3/envs/vantage/lib/python3.7/site-packages (from nbconvert->notebook>=5.5.0->RISE) (3.0.2)\n",
      "Requirement already satisfied: pandocfilters>=1.4.1 in /Users/guidotournois/miniconda3/envs/vantage/lib/python3.7/site-packages (from nbconvert->notebook>=5.5.0->RISE) (1.4.2)\n",
      "Requirement already satisfied: entrypoints>=0.2.2 in /Users/guidotournois/miniconda3/envs/vantage/lib/python3.7/site-packages (from nbconvert->notebook>=5.5.0->RISE) (0.2.3)\n",
      "Requirement already satisfied: defusedxml in /Users/guidotournois/miniconda3/envs/vantage/lib/python3.7/site-packages (from nbconvert->notebook>=5.5.0->RISE) (0.5.0)\n",
      "Requirement already satisfied: mistune>=0.8.1 in /Users/guidotournois/miniconda3/envs/vantage/lib/python3.7/site-packages (from nbconvert->notebook>=5.5.0->RISE) (0.8.4)\n",
      "Requirement already satisfied: testpath in /Users/guidotournois/miniconda3/envs/vantage/lib/python3.7/site-packages (from nbconvert->notebook>=5.5.0->RISE) (0.4.2)\n",
      "Requirement already satisfied: pygments in /Users/guidotournois/miniconda3/envs/vantage/lib/python3.7/site-packages (from nbconvert->notebook>=5.5.0->RISE) (2.2.0)\n",
      "Requirement already satisfied: pickleshare in /Users/guidotournois/miniconda3/envs/vantage/lib/python3.7/site-packages (from ipython>=5.0.0->ipykernel->notebook>=5.5.0->RISE) (0.7.5)\n",
      "Requirement already satisfied: prompt-toolkit<2.1.0,>=2.0.0 in /Users/guidotournois/miniconda3/envs/vantage/lib/python3.7/site-packages (from ipython>=5.0.0->ipykernel->notebook>=5.5.0->RISE) (2.0.7)\n",
      "Requirement already satisfied: setuptools>=18.5 in /Users/guidotournois/miniconda3/envs/vantage/lib/python3.7/site-packages (from ipython>=5.0.0->ipykernel->notebook>=5.5.0->RISE) (40.5.0)\n",
      "Requirement already satisfied: jedi>=0.10 in /Users/guidotournois/miniconda3/envs/vantage/lib/python3.7/site-packages (from ipython>=5.0.0->ipykernel->notebook>=5.5.0->RISE) (0.13.1)\n",
      "Requirement already satisfied: backcall in /Users/guidotournois/miniconda3/envs/vantage/lib/python3.7/site-packages (from ipython>=5.0.0->ipykernel->notebook>=5.5.0->RISE) (0.1.0)\n",
      "Requirement already satisfied: pexpect; sys_platform != \"win32\" in /Users/guidotournois/miniconda3/envs/vantage/lib/python3.7/site-packages (from ipython>=5.0.0->ipykernel->notebook>=5.5.0->RISE) (4.6.0)\n",
      "Requirement already satisfied: appnope; sys_platform == \"darwin\" in /Users/guidotournois/miniconda3/envs/vantage/lib/python3.7/site-packages (from ipython>=5.0.0->ipykernel->notebook>=5.5.0->RISE) (0.1.0)\n",
      "Requirement already satisfied: webencodings in /Users/guidotournois/miniconda3/envs/vantage/lib/python3.7/site-packages (from bleach->nbconvert->notebook>=5.5.0->RISE) (0.5.1)\n",
      "Requirement already satisfied: wcwidth in /Users/guidotournois/miniconda3/envs/vantage/lib/python3.7/site-packages (from prompt-toolkit<2.1.0,>=2.0.0->ipython>=5.0.0->ipykernel->notebook>=5.5.0->RISE) (0.1.7)\n",
      "Requirement already satisfied: parso>=0.3.0 in /Users/guidotournois/miniconda3/envs/vantage/lib/python3.7/site-packages (from jedi>=0.10->ipython>=5.0.0->ipykernel->notebook>=5.5.0->RISE) (0.3.1)\n",
      "\u001b[33mYou are using pip version 10.0.1, however version 20.0.2 is available.\n",
      "You should consider upgrading via the 'pip install --upgrade pip' command.\u001b[0m\n"
     ]
    }
   ],
   "source": [
    "!pip install RISE"
   ]
  },
  {
   "cell_type": "code",
   "execution_count": 2,
   "metadata": {
    "scrolled": false,
    "slideshow": {
     "slide_type": "skip"
    }
   },
   "outputs": [
    {
     "name": "stdout",
     "output_type": "stream",
     "text": [
      "Requirement already satisfied: jupyter_contrib_nbextensions in /Users/guidotournois/miniconda3/envs/vantage/lib/python3.7/site-packages (0.5.1)\n",
      "Requirement already satisfied: jupyter-nbextensions-configurator>=0.4.0 in /Users/guidotournois/miniconda3/envs/vantage/lib/python3.7/site-packages (from jupyter_contrib_nbextensions) (0.4.1)\n",
      "Requirement already satisfied: tornado in /Users/guidotournois/miniconda3/envs/vantage/lib/python3.7/site-packages (from jupyter_contrib_nbextensions) (5.1.1)\n",
      "Requirement already satisfied: lxml in /Users/guidotournois/miniconda3/envs/vantage/lib/python3.7/site-packages (from jupyter_contrib_nbextensions) (4.2.5)\n",
      "Requirement already satisfied: notebook>=4.0 in /Users/guidotournois/miniconda3/envs/vantage/lib/python3.7/site-packages (from jupyter_contrib_nbextensions) (5.7.0)\n",
      "Requirement already satisfied: traitlets>=4.1 in /Users/guidotournois/miniconda3/envs/vantage/lib/python3.7/site-packages (from jupyter_contrib_nbextensions) (4.3.2)\n",
      "Requirement already satisfied: jupyter-contrib-core>=0.3.3 in /Users/guidotournois/miniconda3/envs/vantage/lib/python3.7/site-packages (from jupyter_contrib_nbextensions) (0.3.3)\n",
      "Requirement already satisfied: nbconvert>=4.2 in /Users/guidotournois/miniconda3/envs/vantage/lib/python3.7/site-packages (from jupyter_contrib_nbextensions) (5.4.0)\n",
      "Requirement already satisfied: ipython-genutils in /Users/guidotournois/miniconda3/envs/vantage/lib/python3.7/site-packages (from jupyter_contrib_nbextensions) (0.2.0)\n",
      "Requirement already satisfied: jupyter-highlight-selected-word>=0.1.1 in /Users/guidotournois/miniconda3/envs/vantage/lib/python3.7/site-packages (from jupyter_contrib_nbextensions) (0.2.0)\n",
      "Requirement already satisfied: jupyter-latex-envs>=1.3.8 in /Users/guidotournois/miniconda3/envs/vantage/lib/python3.7/site-packages (from jupyter_contrib_nbextensions) (1.4.6)\n",
      "Requirement already satisfied: pyyaml in /Users/guidotournois/miniconda3/envs/vantage/lib/python3.7/site-packages (from jupyter_contrib_nbextensions) (3.13)\n",
      "Requirement already satisfied: jupyter-core in /Users/guidotournois/miniconda3/envs/vantage/lib/python3.7/site-packages (from jupyter_contrib_nbextensions) (4.4.0)\n",
      "Requirement already satisfied: jupyter-client>=5.2.0 in /Users/guidotournois/miniconda3/envs/vantage/lib/python3.7/site-packages (from notebook>=4.0->jupyter_contrib_nbextensions) (5.2.3)\n",
      "Requirement already satisfied: Send2Trash in /Users/guidotournois/miniconda3/envs/vantage/lib/python3.7/site-packages (from notebook>=4.0->jupyter_contrib_nbextensions) (1.5.0)\n",
      "Requirement already satisfied: pyzmq>=17 in /Users/guidotournois/miniconda3/envs/vantage/lib/python3.7/site-packages (from notebook>=4.0->jupyter_contrib_nbextensions) (17.1.2)\n",
      "Requirement already satisfied: prometheus-client in /Users/guidotournois/miniconda3/envs/vantage/lib/python3.7/site-packages (from notebook>=4.0->jupyter_contrib_nbextensions) (0.4.2)\n",
      "Requirement already satisfied: jinja2 in /Users/guidotournois/miniconda3/envs/vantage/lib/python3.7/site-packages (from notebook>=4.0->jupyter_contrib_nbextensions) (2.10)\n",
      "Requirement already satisfied: ipykernel in /Users/guidotournois/miniconda3/envs/vantage/lib/python3.7/site-packages (from notebook>=4.0->jupyter_contrib_nbextensions) (5.1.0)\n",
      "Requirement already satisfied: nbformat in /Users/guidotournois/miniconda3/envs/vantage/lib/python3.7/site-packages (from notebook>=4.0->jupyter_contrib_nbextensions) (4.4.0)\n",
      "Requirement already satisfied: terminado>=0.8.1 in /Users/guidotournois/miniconda3/envs/vantage/lib/python3.7/site-packages (from notebook>=4.0->jupyter_contrib_nbextensions) (0.8.1)\n",
      "Requirement already satisfied: decorator in /Users/guidotournois/miniconda3/envs/vantage/lib/python3.7/site-packages (from traitlets>=4.1->jupyter_contrib_nbextensions) (4.3.0)\n",
      "Requirement already satisfied: six in /Users/guidotournois/miniconda3/envs/vantage/lib/python3.7/site-packages (from traitlets>=4.1->jupyter_contrib_nbextensions) (1.12.0)\n",
      "Requirement already satisfied: setuptools in /Users/guidotournois/miniconda3/envs/vantage/lib/python3.7/site-packages (from jupyter-contrib-core>=0.3.3->jupyter_contrib_nbextensions) (40.5.0)\n",
      "Requirement already satisfied: testpath in /Users/guidotournois/miniconda3/envs/vantage/lib/python3.7/site-packages (from nbconvert>=4.2->jupyter_contrib_nbextensions) (0.4.2)\n",
      "Requirement already satisfied: entrypoints>=0.2.2 in /Users/guidotournois/miniconda3/envs/vantage/lib/python3.7/site-packages (from nbconvert>=4.2->jupyter_contrib_nbextensions) (0.2.3)\n",
      "Requirement already satisfied: pandocfilters>=1.4.1 in /Users/guidotournois/miniconda3/envs/vantage/lib/python3.7/site-packages (from nbconvert>=4.2->jupyter_contrib_nbextensions) (1.4.2)\n",
      "Requirement already satisfied: mistune>=0.8.1 in /Users/guidotournois/miniconda3/envs/vantage/lib/python3.7/site-packages (from nbconvert>=4.2->jupyter_contrib_nbextensions) (0.8.4)\n",
      "Requirement already satisfied: defusedxml in /Users/guidotournois/miniconda3/envs/vantage/lib/python3.7/site-packages (from nbconvert>=4.2->jupyter_contrib_nbextensions) (0.5.0)\n",
      "Requirement already satisfied: bleach in /Users/guidotournois/miniconda3/envs/vantage/lib/python3.7/site-packages (from nbconvert>=4.2->jupyter_contrib_nbextensions) (3.0.2)\n",
      "Requirement already satisfied: pygments in /Users/guidotournois/miniconda3/envs/vantage/lib/python3.7/site-packages (from nbconvert>=4.2->jupyter_contrib_nbextensions) (2.2.0)\n",
      "Requirement already satisfied: ipython in /Users/guidotournois/miniconda3/envs/vantage/lib/python3.7/site-packages (from jupyter-latex-envs>=1.3.8->jupyter_contrib_nbextensions) (7.1.1)\n",
      "Requirement already satisfied: python-dateutil>=2.1 in /Users/guidotournois/miniconda3/envs/vantage/lib/python3.7/site-packages (from jupyter-client>=5.2.0->notebook>=4.0->jupyter_contrib_nbextensions) (2.7.5)\n",
      "Requirement already satisfied: MarkupSafe>=0.23 in /Users/guidotournois/miniconda3/envs/vantage/lib/python3.7/site-packages (from jinja2->notebook>=4.0->jupyter_contrib_nbextensions) (1.1.0)\n",
      "Requirement already satisfied: jsonschema!=2.5.0,>=2.4 in /Users/guidotournois/miniconda3/envs/vantage/lib/python3.7/site-packages (from nbformat->notebook>=4.0->jupyter_contrib_nbextensions) (2.6.0)\n",
      "Requirement already satisfied: ptyprocess; os_name != \"nt\" in /Users/guidotournois/miniconda3/envs/vantage/lib/python3.7/site-packages (from terminado>=0.8.1->notebook>=4.0->jupyter_contrib_nbextensions) (0.6.0)\n",
      "Requirement already satisfied: webencodings in /Users/guidotournois/miniconda3/envs/vantage/lib/python3.7/site-packages (from bleach->nbconvert>=4.2->jupyter_contrib_nbextensions) (0.5.1)\n",
      "Requirement already satisfied: prompt-toolkit<2.1.0,>=2.0.0 in /Users/guidotournois/miniconda3/envs/vantage/lib/python3.7/site-packages (from ipython->jupyter-latex-envs>=1.3.8->jupyter_contrib_nbextensions) (2.0.7)\n",
      "Requirement already satisfied: backcall in /Users/guidotournois/miniconda3/envs/vantage/lib/python3.7/site-packages (from ipython->jupyter-latex-envs>=1.3.8->jupyter_contrib_nbextensions) (0.1.0)\n",
      "Requirement already satisfied: pexpect; sys_platform != \"win32\" in /Users/guidotournois/miniconda3/envs/vantage/lib/python3.7/site-packages (from ipython->jupyter-latex-envs>=1.3.8->jupyter_contrib_nbextensions) (4.6.0)\n",
      "Requirement already satisfied: pickleshare in /Users/guidotournois/miniconda3/envs/vantage/lib/python3.7/site-packages (from ipython->jupyter-latex-envs>=1.3.8->jupyter_contrib_nbextensions) (0.7.5)\n",
      "Requirement already satisfied: appnope; sys_platform == \"darwin\" in /Users/guidotournois/miniconda3/envs/vantage/lib/python3.7/site-packages (from ipython->jupyter-latex-envs>=1.3.8->jupyter_contrib_nbextensions) (0.1.0)\n",
      "Requirement already satisfied: jedi>=0.10 in /Users/guidotournois/miniconda3/envs/vantage/lib/python3.7/site-packages (from ipython->jupyter-latex-envs>=1.3.8->jupyter_contrib_nbextensions) (0.13.1)\n",
      "Requirement already satisfied: wcwidth in /Users/guidotournois/miniconda3/envs/vantage/lib/python3.7/site-packages (from prompt-toolkit<2.1.0,>=2.0.0->ipython->jupyter-latex-envs>=1.3.8->jupyter_contrib_nbextensions) (0.1.7)\n",
      "Requirement already satisfied: parso>=0.3.0 in /Users/guidotournois/miniconda3/envs/vantage/lib/python3.7/site-packages (from jedi>=0.10->ipython->jupyter-latex-envs>=1.3.8->jupyter_contrib_nbextensions) (0.3.1)\n"
     ]
    },
    {
     "name": "stdout",
     "output_type": "stream",
     "text": [
      "\u001b[33mYou are using pip version 10.0.1, however version 20.0.2 is available.\r\n",
      "You should consider upgrading via the 'pip install --upgrade pip' command.\u001b[0m\r\n"
     ]
    }
   ],
   "source": [
    "!pip install jupyter_contrib_nbextensions"
   ]
  },
  {
   "cell_type": "code",
   "execution_count": 3,
   "metadata": {
    "scrolled": true,
    "slideshow": {
     "slide_type": "skip"
    }
   },
   "outputs": [
    {
     "name": "stdout",
     "output_type": "stream",
     "text": [
      "\u001b[32m[I 12:11:57 InstallContribNbextensionsApp]\u001b[m jupyter contrib nbextension install \n",
      "\u001b[32m[I 12:11:57 InstallContribNbextensionsApp]\u001b[m Installing jupyter_contrib_nbextensions nbextension files to jupyter data directory\n",
      "\u001b[32m[I 12:11:57 InstallContribNbextensionsApp]\u001b[m Installing /Users/guidotournois/miniconda3/envs/vantage/lib/python3.7/site-packages/jupyter_contrib_nbextensions/nbextensions/rubberband -> rubberband\n",
      "\u001b[32m[I 12:11:57 InstallContribNbextensionsApp]\u001b[m Up to date: /usr/local/share/jupyter/nbextensions/rubberband/icon.png\n",
      "\u001b[32m[I 12:11:57 InstallContribNbextensionsApp]\u001b[m Up to date: /usr/local/share/jupyter/nbextensions/rubberband/main.css\n",
      "\u001b[32m[I 12:11:57 InstallContribNbextensionsApp]\u001b[m Up to date: /usr/local/share/jupyter/nbextensions/rubberband/readme.md\n",
      "\u001b[32m[I 12:11:57 InstallContribNbextensionsApp]\u001b[m Up to date: /usr/local/share/jupyter/nbextensions/rubberband/main.js\n",
      "\u001b[32m[I 12:11:57 InstallContribNbextensionsApp]\u001b[m Up to date: /usr/local/share/jupyter/nbextensions/rubberband/rubberband.yaml\n",
      "\u001b[32m[I 12:11:57 InstallContribNbextensionsApp]\u001b[m - Validating: \u001b[32mOK\u001b[0m\n",
      "\u001b[32m[I 12:11:57 InstallContribNbextensionsApp]\u001b[m Installing /Users/guidotournois/miniconda3/envs/vantage/lib/python3.7/site-packages/jupyter_contrib_nbextensions/nbextensions/scroll_down -> scroll_down\n",
      "\u001b[32m[I 12:11:57 InstallContribNbextensionsApp]\u001b[m Up to date: /usr/local/share/jupyter/nbextensions/scroll_down/icon.png\n",
      "\u001b[32m[I 12:11:57 InstallContribNbextensionsApp]\u001b[m Up to date: /usr/local/share/jupyter/nbextensions/scroll_down/config.yaml\n",
      "\u001b[32m[I 12:11:57 InstallContribNbextensionsApp]\u001b[m Up to date: /usr/local/share/jupyter/nbextensions/scroll_down/readme.md\n",
      "\u001b[32m[I 12:11:57 InstallContribNbextensionsApp]\u001b[m Up to date: /usr/local/share/jupyter/nbextensions/scroll_down/main.js\n",
      "\u001b[32m[I 12:11:57 InstallContribNbextensionsApp]\u001b[m - Validating: \u001b[32mOK\u001b[0m\n",
      "\u001b[32m[I 12:11:57 InstallContribNbextensionsApp]\u001b[m Installing /Users/guidotournois/miniconda3/envs/vantage/lib/python3.7/site-packages/jupyter_contrib_nbextensions/nbextensions/hinterland -> hinterland\n",
      "\u001b[32m[I 12:11:57 InstallContribNbextensionsApp]\u001b[m Up to date: /usr/local/share/jupyter/nbextensions/hinterland/hinterland.yaml\n",
      "\u001b[32m[I 12:11:57 InstallContribNbextensionsApp]\u001b[m Up to date: /usr/local/share/jupyter/nbextensions/hinterland/hinterland.js\n",
      "\u001b[32m[I 12:11:57 InstallContribNbextensionsApp]\u001b[m Up to date: /usr/local/share/jupyter/nbextensions/hinterland/README.md\n",
      "\u001b[32m[I 12:11:57 InstallContribNbextensionsApp]\u001b[m - Validating: \u001b[32mOK\u001b[0m\n",
      "\u001b[32m[I 12:11:57 InstallContribNbextensionsApp]\u001b[m Installing /Users/guidotournois/miniconda3/envs/vantage/lib/python3.7/site-packages/jupyter_contrib_nbextensions/nbextensions/snippets -> snippets\n",
      "\u001b[32m[I 12:11:57 InstallContribNbextensionsApp]\u001b[m Up to date: /usr/local/share/jupyter/nbextensions/snippets/snippets.yaml\n",
      "\u001b[32m[I 12:11:57 InstallContribNbextensionsApp]\u001b[m Up to date: /usr/local/share/jupyter/nbextensions/snippets/snippets.json\n",
      "\u001b[32m[I 12:11:57 InstallContribNbextensionsApp]\u001b[m Up to date: /usr/local/share/jupyter/nbextensions/snippets/README.md\n",
      "\u001b[32m[I 12:11:57 InstallContribNbextensionsApp]\u001b[m Up to date: /usr/local/share/jupyter/nbextensions/snippets/main.js\n",
      "\u001b[32m[I 12:11:57 InstallContribNbextensionsApp]\u001b[m Up to date: /usr/local/share/jupyter/nbextensions/snippets/snippets-demo.gif\n",
      "\u001b[32m[I 12:11:57 InstallContribNbextensionsApp]\u001b[m - Validating: \u001b[32mOK\u001b[0m\n",
      "\u001b[32m[I 12:11:57 InstallContribNbextensionsApp]\u001b[m Installing /Users/guidotournois/miniconda3/envs/vantage/lib/python3.7/site-packages/jupyter_contrib_nbextensions/nbextensions/toggle_all_line_numbers -> toggle_all_line_numbers\n",
      "\u001b[32m[I 12:11:57 InstallContribNbextensionsApp]\u001b[m Up to date: /usr/local/share/jupyter/nbextensions/toggle_all_line_numbers/icon.png\n",
      "\u001b[32m[I 12:11:57 InstallContribNbextensionsApp]\u001b[m Up to date: /usr/local/share/jupyter/nbextensions/toggle_all_line_numbers/main.yaml\n",
      "\u001b[32m[I 12:11:57 InstallContribNbextensionsApp]\u001b[m Up to date: /usr/local/share/jupyter/nbextensions/toggle_all_line_numbers/readme.md\n",
      "\u001b[32m[I 12:11:57 InstallContribNbextensionsApp]\u001b[m Up to date: /usr/local/share/jupyter/nbextensions/toggle_all_line_numbers/main.js\n",
      "\u001b[32m[I 12:11:57 InstallContribNbextensionsApp]\u001b[m - Validating: \u001b[32mOK\u001b[0m\n",
      "\u001b[32m[I 12:11:57 InstallContribNbextensionsApp]\u001b[m Installing /Users/guidotournois/miniconda3/envs/vantage/lib/python3.7/site-packages/jupyter_contrib_nbextensions/nbextensions/notify -> notify\n",
      "\u001b[32m[I 12:11:57 InstallContribNbextensionsApp]\u001b[m Up to date: /usr/local/share/jupyter/nbextensions/notify/notify.js\n",
      "\u001b[32m[I 12:11:57 InstallContribNbextensionsApp]\u001b[m Up to date: /usr/local/share/jupyter/nbextensions/notify/notify.mp3\n",
      "\u001b[32m[I 12:11:57 InstallContribNbextensionsApp]\u001b[m Up to date: /usr/local/share/jupyter/nbextensions/notify/readme.md\n",
      "\u001b[32m[I 12:11:57 InstallContribNbextensionsApp]\u001b[m Up to date: /usr/local/share/jupyter/nbextensions/notify/notify.yaml\n",
      "\u001b[32m[I 12:11:57 InstallContribNbextensionsApp]\u001b[m Up to date: /usr/local/share/jupyter/nbextensions/notify/notification.png\n",
      "\u001b[32m[I 12:11:57 InstallContribNbextensionsApp]\u001b[m - Validating: \u001b[32mOK\u001b[0m\n",
      "\u001b[32m[I 12:11:57 InstallContribNbextensionsApp]\u001b[m Installing /Users/guidotournois/miniconda3/envs/vantage/lib/python3.7/site-packages/jupyter_contrib_nbextensions/nbextensions/runtools -> runtools\n",
      "\u001b[32m[I 12:11:57 InstallContribNbextensionsApp]\u001b[m Up to date: /usr/local/share/jupyter/nbextensions/runtools/cellstate.js\n",
      "\u001b[32m[I 12:11:57 InstallContribNbextensionsApp]\u001b[m Up to date: /usr/local/share/jupyter/nbextensions/runtools/icon.png\n",
      "\u001b[32m[I 12:11:57 InstallContribNbextensionsApp]\u001b[m Up to date: /usr/local/share/jupyter/nbextensions/runtools/runtools_execute.png\n",
      "\u001b[32m[I 12:11:57 InstallContribNbextensionsApp]\u001b[m Up to date: /usr/local/share/jupyter/nbextensions/runtools/annotations.odg\n",
      "\u001b[32m[I 12:11:57 InstallContribNbextensionsApp]\u001b[m Up to date: /usr/local/share/jupyter/nbextensions/runtools/runtools.yaml\n",
      "\u001b[32m[I 12:11:57 InstallContribNbextensionsApp]\u001b[m Up to date: /usr/local/share/jupyter/nbextensions/runtools/main.css\n",
      "\u001b[32m[I 12:11:57 InstallContribNbextensionsApp]\u001b[m Up to date: /usr/local/share/jupyter/nbextensions/runtools/runtools_nb.png\n",
      "\u001b[32m[I 12:11:57 InstallContribNbextensionsApp]\u001b[m Up to date: /usr/local/share/jupyter/nbextensions/runtools/readme.md\n",
      "\u001b[32m[I 12:11:57 InstallContribNbextensionsApp]\u001b[m Up to date: /usr/local/share/jupyter/nbextensions/runtools/runtools_marker.png\n",
      "\u001b[32m[I 12:11:57 InstallContribNbextensionsApp]\u001b[m Up to date: /usr/local/share/jupyter/nbextensions/runtools/main.js\n",
      "\u001b[32m[I 12:11:57 InstallContribNbextensionsApp]\u001b[m Up to date: /usr/local/share/jupyter/nbextensions/runtools/runtools_show_hide.png\n",
      "\u001b[32m[I 12:11:57 InstallContribNbextensionsApp]\u001b[m Up to date: /usr/local/share/jupyter/nbextensions/runtools/runtools_lock.png\n",
      "\u001b[32m[I 12:11:57 InstallContribNbextensionsApp]\u001b[m Up to date: /usr/local/share/jupyter/nbextensions/runtools/demo.gif\n",
      "\u001b[32m[I 12:11:57 InstallContribNbextensionsApp]\u001b[m Up to date: /usr/local/share/jupyter/nbextensions/runtools/gutter.css\n",
      "\u001b[32m[I 12:11:57 InstallContribNbextensionsApp]\u001b[m - Validating: \u001b[32mOK\u001b[0m\n",
      "\u001b[32m[I 12:11:57 InstallContribNbextensionsApp]\u001b[m Installing /Users/guidotournois/miniconda3/envs/vantage/lib/python3.7/site-packages/jupyter_contrib_nbextensions/nbextensions/tree-filter -> tree-filter\n",
      "\u001b[32m[I 12:11:57 InstallContribNbextensionsApp]\u001b[m Up to date: /usr/local/share/jupyter/nbextensions/tree-filter/tree-filter.yaml\n",
      "\u001b[32m[I 12:11:57 InstallContribNbextensionsApp]\u001b[m Up to date: /usr/local/share/jupyter/nbextensions/tree-filter/index.js\n",
      "\u001b[32m[I 12:11:57 InstallContribNbextensionsApp]\u001b[m Up to date: /usr/local/share/jupyter/nbextensions/tree-filter/readme.md\n",
      "\u001b[32m[I 12:11:57 InstallContribNbextensionsApp]\u001b[m Up to date: /usr/local/share/jupyter/nbextensions/tree-filter/demo.gif\n",
      "\u001b[32m[I 12:11:57 InstallContribNbextensionsApp]\u001b[m - Validating: \u001b[32mOK\u001b[0m\n",
      "\u001b[32m[I 12:11:57 InstallContribNbextensionsApp]\u001b[m Installing /Users/guidotournois/miniconda3/envs/vantage/lib/python3.7/site-packages/jupyter_contrib_nbextensions/nbextensions/table_beautifier -> table_beautifier\n",
      "\u001b[32m[I 12:11:57 InstallContribNbextensionsApp]\u001b[m Up to date: /usr/local/share/jupyter/nbextensions/table_beautifier/main.css\n",
      "\u001b[32m[I 12:11:57 InstallContribNbextensionsApp]\u001b[m Up to date: /usr/local/share/jupyter/nbextensions/table_beautifier/README.md\n",
      "\u001b[32m[I 12:11:57 InstallContribNbextensionsApp]\u001b[m Up to date: /usr/local/share/jupyter/nbextensions/table_beautifier/main.js\n",
      "\u001b[32m[I 12:11:57 InstallContribNbextensionsApp]\u001b[m Up to date: /usr/local/share/jupyter/nbextensions/table_beautifier/table_beautifier.yaml\n",
      "\u001b[32m[I 12:11:57 InstallContribNbextensionsApp]\u001b[m - Validating: \u001b[32mOK\u001b[0m\n",
      "\u001b[32m[I 12:11:57 InstallContribNbextensionsApp]\u001b[m Installing /Users/guidotournois/miniconda3/envs/vantage/lib/python3.7/site-packages/jupyter_contrib_nbextensions/nbextensions/freeze -> freeze\n",
      "\u001b[32m[I 12:11:57 InstallContribNbextensionsApp]\u001b[m Up to date: /usr/local/share/jupyter/nbextensions/freeze/icon.png\n",
      "\u001b[32m[I 12:11:57 InstallContribNbextensionsApp]\u001b[m Up to date: /usr/local/share/jupyter/nbextensions/freeze/config.yaml\n",
      "\u001b[32m[I 12:11:57 InstallContribNbextensionsApp]\u001b[m Up to date: /usr/local/share/jupyter/nbextensions/freeze/readme.md\n",
      "\u001b[32m[I 12:11:57 InstallContribNbextensionsApp]\u001b[m Up to date: /usr/local/share/jupyter/nbextensions/freeze/main.js\n",
      "\u001b[32m[I 12:11:57 InstallContribNbextensionsApp]\u001b[m - Validating: \u001b[32mOK\u001b[0m\n",
      "\u001b[32m[I 12:11:57 InstallContribNbextensionsApp]\u001b[m Installing /Users/guidotournois/miniconda3/envs/vantage/lib/python3.7/site-packages/jupyter_contrib_nbextensions/nbextensions/exercise2 -> exercise2\n",
      "\u001b[32m[I 12:11:57 InstallContribNbextensionsApp]\u001b[m Up to date: /usr/local/share/jupyter/nbextensions/exercise2/icon.png\n",
      "\u001b[32m[I 12:11:57 InstallContribNbextensionsApp]\u001b[m Up to date: /usr/local/share/jupyter/nbextensions/exercise2/exercise2.yaml\n",
      "\u001b[32m[I 12:11:57 InstallContribNbextensionsApp]\u001b[m Up to date: /usr/local/share/jupyter/nbextensions/exercise2/main.css\n",
      "\u001b[32m[I 12:11:57 InstallContribNbextensionsApp]\u001b[m Up to date: /usr/local/share/jupyter/nbextensions/exercise2/image.gif\n",
      "\u001b[32m[I 12:11:57 InstallContribNbextensionsApp]\u001b[m Up to date: /usr/local/share/jupyter/nbextensions/exercise2/readme.md\n",
      "\u001b[32m[I 12:11:57 InstallContribNbextensionsApp]\u001b[m Up to date: /usr/local/share/jupyter/nbextensions/exercise2/main.js\n",
      "\u001b[32m[I 12:11:57 InstallContribNbextensionsApp]\u001b[m - Validating: \u001b[32mOK\u001b[0m\n",
      "\u001b[32m[I 12:11:57 InstallContribNbextensionsApp]\u001b[m Installing /Users/guidotournois/miniconda3/envs/vantage/lib/python3.7/site-packages/jupyter_contrib_nbextensions/nbextensions/execution_dependencies -> execution_dependencies\n",
      "\u001b[32m[I 12:11:57 InstallContribNbextensionsApp]\u001b[m Up to date: /usr/local/share/jupyter/nbextensions/execution_dependencies/execution_dependencies.yml\n",
      "\u001b[32m[I 12:11:57 InstallContribNbextensionsApp]\u001b[m Up to date: /usr/local/share/jupyter/nbextensions/execution_dependencies/README.md\n",
      "\u001b[32m[I 12:11:57 InstallContribNbextensionsApp]\u001b[m Up to date: /usr/local/share/jupyter/nbextensions/execution_dependencies/execution_dependencies.js\n",
      "\u001b[32m[I 12:11:57 InstallContribNbextensionsApp]\u001b[m - Validating: \u001b[32mOK\u001b[0m\n",
      "\u001b[32m[I 12:11:57 InstallContribNbextensionsApp]\u001b[m Installing /Users/guidotournois/miniconda3/envs/vantage/lib/python3.7/site-packages/jupyter_contrib_nbextensions/nbextensions/skill -> skill\n",
      "\u001b[32m[I 12:11:57 InstallContribNbextensionsApp]\u001b[m Up to date: /usr/local/share/jupyter/nbextensions/skill/skill.js\n",
      "\u001b[32m[I 12:11:57 InstallContribNbextensionsApp]\u001b[m Up to date: /usr/local/share/jupyter/nbextensions/skill/README.md\n",
      "\u001b[32m[I 12:11:57 InstallContribNbextensionsApp]\u001b[m Up to date: /usr/local/share/jupyter/nbextensions/skill/main.js\n",
      "\u001b[32m[I 12:11:57 InstallContribNbextensionsApp]\u001b[m Up to date: /usr/local/share/jupyter/nbextensions/skill/skill.yaml\n",
      "\u001b[32m[I 12:11:57 InstallContribNbextensionsApp]\u001b[m - Validating: \u001b[32mOK\u001b[0m\n",
      "\u001b[32m[I 12:11:57 InstallContribNbextensionsApp]\u001b[m Installing /Users/guidotournois/miniconda3/envs/vantage/lib/python3.7/site-packages/jupyter_contrib_nbextensions/nbextensions/splitcell -> splitcell\n",
      "\u001b[32m[I 12:11:57 InstallContribNbextensionsApp]\u001b[m Up to date: /usr/local/share/jupyter/nbextensions/splitcell/icon.png\n",
      "\u001b[32m[I 12:11:57 InstallContribNbextensionsApp]\u001b[m Up to date: /usr/local/share/jupyter/nbextensions/splitcell/readme.md\n",
      "\u001b[32m[I 12:11:57 InstallContribNbextensionsApp]\u001b[m Up to date: /usr/local/share/jupyter/nbextensions/splitcell/splitcell.yaml\n",
      "\u001b[32m[I 12:11:57 InstallContribNbextensionsApp]\u001b[m Up to date: /usr/local/share/jupyter/nbextensions/splitcell/splitcell.js\n",
      "\u001b[32m[I 12:11:57 InstallContribNbextensionsApp]\u001b[m - Validating: \u001b[32mOK\u001b[0m\n",
      "\u001b[32m[I 12:11:57 InstallContribNbextensionsApp]\u001b[m Installing /Users/guidotournois/miniconda3/envs/vantage/lib/python3.7/site-packages/jupyter_contrib_nbextensions/nbextensions/autosavetime -> autosavetime\n",
      "\u001b[32m[I 12:11:57 InstallContribNbextensionsApp]\u001b[m Up to date: /usr/local/share/jupyter/nbextensions/autosavetime/icon.png\n",
      "\u001b[32m[I 12:11:57 InstallContribNbextensionsApp]\u001b[m Up to date: /usr/local/share/jupyter/nbextensions/autosavetime/README.md\n",
      "\u001b[32m[I 12:11:57 InstallContribNbextensionsApp]\u001b[m Up to date: /usr/local/share/jupyter/nbextensions/autosavetime/autosavetime.yaml\n",
      "\u001b[32m[I 12:11:57 InstallContribNbextensionsApp]\u001b[m Up to date: /usr/local/share/jupyter/nbextensions/autosavetime/main.js\n",
      "\u001b[32m[I 12:11:57 InstallContribNbextensionsApp]\u001b[m - Validating: \u001b[32mOK\u001b[0m\n",
      "\u001b[32m[I 12:11:57 InstallContribNbextensionsApp]\u001b[m Installing /Users/guidotournois/miniconda3/envs/vantage/lib/python3.7/site-packages/jupyter_contrib_nbextensions/nbextensions/select_keymap -> select_keymap\n",
      "\u001b[32m[I 12:11:57 InstallContribNbextensionsApp]\u001b[m Up to date: /usr/local/share/jupyter/nbextensions/select_keymap/select_keymap.png\n",
      "\u001b[32m[I 12:11:57 InstallContribNbextensionsApp]\u001b[m Up to date: /usr/local/share/jupyter/nbextensions/select_keymap/README.md\n",
      "\u001b[32m[I 12:11:57 InstallContribNbextensionsApp]\u001b[m Up to date: /usr/local/share/jupyter/nbextensions/select_keymap/main.js\n",
      "\u001b[32m[I 12:11:57 InstallContribNbextensionsApp]\u001b[m Up to date: /usr/local/share/jupyter/nbextensions/select_keymap/select_keymap.yaml\n",
      "\u001b[32m[I 12:11:57 InstallContribNbextensionsApp]\u001b[m - Validating: \u001b[32mOK\u001b[0m\n",
      "\u001b[32m[I 12:11:57 InstallContribNbextensionsApp]\u001b[m Installing /Users/guidotournois/miniconda3/envs/vantage/lib/python3.7/site-packages/jupyter_contrib_nbextensions/nbextensions/livemdpreview -> livemdpreview\n",
      "\u001b[32m[I 12:11:57 InstallContribNbextensionsApp]\u001b[m Up to date: /usr/local/share/jupyter/nbextensions/livemdpreview/livemdpreview.yml\n",
      "\u001b[32m[I 12:11:57 InstallContribNbextensionsApp]\u001b[m Up to date: /usr/local/share/jupyter/nbextensions/livemdpreview/livemdpreview.js\n",
      "\u001b[32m[I 12:11:57 InstallContribNbextensionsApp]\u001b[m - Validating: \u001b[32mOK\u001b[0m\n",
      "\u001b[32m[I 12:11:57 InstallContribNbextensionsApp]\u001b[m Installing /Users/guidotournois/miniconda3/envs/vantage/lib/python3.7/site-packages/jupyter_contrib_nbextensions/nbextensions/gist_it -> gist_it\n",
      "\u001b[32m[I 12:11:57 InstallContribNbextensionsApp]\u001b[m Up to date: /usr/local/share/jupyter/nbextensions/gist_it/icon.png\n",
      "\u001b[32m[I 12:11:57 InstallContribNbextensionsApp]\u001b[m Up to date: /usr/local/share/jupyter/nbextensions/gist_it/gist_it.yaml\n",
      "\u001b[32m[I 12:11:57 InstallContribNbextensionsApp]\u001b[m Up to date: /usr/local/share/jupyter/nbextensions/gist_it/readme.md\n",
      "\u001b[32m[I 12:11:57 InstallContribNbextensionsApp]\u001b[m Up to date: /usr/local/share/jupyter/nbextensions/gist_it/main.js\n",
      "\u001b[32m[I 12:11:57 InstallContribNbextensionsApp]\u001b[m - Validating: \u001b[32mOK\u001b[0m\n",
      "\u001b[32m[I 12:11:57 InstallContribNbextensionsApp]\u001b[m Installing /Users/guidotournois/miniconda3/envs/vantage/lib/python3.7/site-packages/jupyter_contrib_nbextensions/nbextensions/cell_filter -> cell_filter\n",
      "\u001b[32m[I 12:11:57 InstallContribNbextensionsApp]\u001b[m Up to date: /usr/local/share/jupyter/nbextensions/cell_filter/cell_filter.yml\n",
      "\u001b[32m[I 12:11:57 InstallContribNbextensionsApp]\u001b[m Up to date: /usr/local/share/jupyter/nbextensions/cell_filter/cell_filter.js\n",
      "\u001b[32m[I 12:11:57 InstallContribNbextensionsApp]\u001b[m Up to date: /usr/local/share/jupyter/nbextensions/cell_filter/README.md\n",
      "\u001b[32m[I 12:11:57 InstallContribNbextensionsApp]\u001b[m - Validating: \u001b[32mOK\u001b[0m\n",
      "\u001b[32m[I 12:11:57 InstallContribNbextensionsApp]\u001b[m Installing /Users/guidotournois/miniconda3/envs/vantage/lib/python3.7/site-packages/jupyter_contrib_nbextensions/nbextensions/scratchpad -> scratchpad\n",
      "\u001b[32m[I 12:11:57 InstallContribNbextensionsApp]\u001b[m Up to date: /usr/local/share/jupyter/nbextensions/scratchpad/LICENSE\n",
      "\u001b[32m[I 12:11:57 InstallContribNbextensionsApp]\u001b[m Up to date: /usr/local/share/jupyter/nbextensions/scratchpad/scratchpad.yaml\n",
      "\u001b[32m[I 12:11:57 InstallContribNbextensionsApp]\u001b[m Up to date: /usr/local/share/jupyter/nbextensions/scratchpad/README.md\n",
      "\u001b[32m[I 12:11:57 InstallContribNbextensionsApp]\u001b[m Up to date: /usr/local/share/jupyter/nbextensions/scratchpad/main.js\n",
      "\u001b[32m[I 12:11:57 InstallContribNbextensionsApp]\u001b[m Up to date: /usr/local/share/jupyter/nbextensions/scratchpad/scratchpad.css\n",
      "\u001b[32m[I 12:11:57 InstallContribNbextensionsApp]\u001b[m Up to date: /usr/local/share/jupyter/nbextensions/scratchpad/demo.gif\n",
      "\u001b[32m[I 12:11:57 InstallContribNbextensionsApp]\u001b[m - Validating: \u001b[32mOK\u001b[0m\n",
      "\u001b[32m[I 12:11:57 InstallContribNbextensionsApp]\u001b[m Installing /Users/guidotournois/miniconda3/envs/vantage/lib/python3.7/site-packages/jupyter_contrib_nbextensions/nbextensions/toc2 -> toc2\n",
      "\u001b[32m[I 12:11:57 InstallContribNbextensionsApp]\u001b[m Up to date: /usr/local/share/jupyter/nbextensions/toc2/toc2.yaml\n",
      "\u001b[32m[I 12:11:57 InstallContribNbextensionsApp]\u001b[m Up to date: /usr/local/share/jupyter/nbextensions/toc2/icon.png\n",
      "\u001b[32m[I 12:11:57 InstallContribNbextensionsApp]\u001b[m Up to date: /usr/local/share/jupyter/nbextensions/toc2/demo_dark.png\n",
      "\u001b[32m[I 12:11:57 InstallContribNbextensionsApp]\u001b[m Up to date: /usr/local/share/jupyter/nbextensions/toc2/main.css\n",
      "\u001b[32m[I 12:11:57 InstallContribNbextensionsApp]\u001b[m Up to date: /usr/local/share/jupyter/nbextensions/toc2/README.md\n",
      "\u001b[32m[I 12:11:57 InstallContribNbextensionsApp]\u001b[m Up to date: /usr/local/share/jupyter/nbextensions/toc2/main.js\n",
      "\u001b[32m[I 12:11:57 InstallContribNbextensionsApp]\u001b[m Up to date: /usr/local/share/jupyter/nbextensions/toc2/demo3.gif\n",
      "\u001b[32m[I 12:11:57 InstallContribNbextensionsApp]\u001b[m Up to date: /usr/local/share/jupyter/nbextensions/toc2/demo2.gif\n",
      "\u001b[32m[I 12:11:57 InstallContribNbextensionsApp]\u001b[m Up to date: /usr/local/share/jupyter/nbextensions/toc2/toc2.js\n",
      "\u001b[32m[I 12:11:57 InstallContribNbextensionsApp]\u001b[m Up to date: /usr/local/share/jupyter/nbextensions/toc2/demo.gif\n",
      "\u001b[32m[I 12:11:57 InstallContribNbextensionsApp]\u001b[m Up to date: /usr/local/share/jupyter/nbextensions/toc2/image.png\n",
      "\u001b[32m[I 12:11:57 InstallContribNbextensionsApp]\u001b[m - Validating: \u001b[32mOK\u001b[0m\n",
      "\u001b[32m[I 12:11:57 InstallContribNbextensionsApp]\u001b[m Installing /Users/guidotournois/miniconda3/envs/vantage/lib/python3.7/site-packages/jupyter_contrib_nbextensions/nbextensions/nbTranslate -> nbTranslate\n",
      "\u001b[32m[I 12:11:57 InstallContribNbextensionsApp]\u001b[m Up to date: /usr/local/share/jupyter/nbextensions/nbTranslate/nbTranslate.yaml\n",
      "\u001b[32m[I 12:11:57 InstallContribNbextensionsApp]\u001b[m Up to date: /usr/local/share/jupyter/nbextensions/nbTranslate/nbTranslate.js\n",
      "\u001b[32m[I 12:11:57 InstallContribNbextensionsApp]\u001b[m Up to date: /usr/local/share/jupyter/nbextensions/nbTranslate/README.md\n",
      "\u001b[32m[I 12:11:57 InstallContribNbextensionsApp]\u001b[m Up to date: /usr/local/share/jupyter/nbextensions/nbTranslate/main.js\n",
      "\u001b[32m[I 12:11:57 InstallContribNbextensionsApp]\u001b[m Up to date: /usr/local/share/jupyter/nbextensions/nbTranslate/demo1.gif\n",
      "\u001b[32m[I 12:11:57 InstallContribNbextensionsApp]\u001b[m Up to date: /usr/local/share/jupyter/nbextensions/nbTranslate/demo2.gif\n",
      "\u001b[32m[I 12:11:57 InstallContribNbextensionsApp]\u001b[m Up to date: /usr/local/share/jupyter/nbextensions/nbTranslate/languages.js\n",
      "\u001b[32m[I 12:11:57 InstallContribNbextensionsApp]\u001b[m Up to date: /usr/local/share/jupyter/nbextensions/nbTranslate/mutils.js\n",
      "\u001b[32m[I 12:11:57 InstallContribNbextensionsApp]\u001b[m - Validating: \u001b[32mOK\u001b[0m\n",
      "\u001b[32m[I 12:11:57 InstallContribNbextensionsApp]\u001b[m Installing /Users/guidotournois/miniconda3/envs/vantage/lib/python3.7/site-packages/jupyter_contrib_nbextensions/nbextensions/equation-numbering -> equation-numbering\n",
      "\u001b[32m[I 12:11:57 InstallContribNbextensionsApp]\u001b[m Up to date: /usr/local/share/jupyter/nbextensions/equation-numbering/icon.png\n",
      "\u001b[32m[I 12:11:57 InstallContribNbextensionsApp]\u001b[m Up to date: /usr/local/share/jupyter/nbextensions/equation-numbering/readme.md\n",
      "\u001b[32m[I 12:11:57 InstallContribNbextensionsApp]\u001b[m Up to date: /usr/local/share/jupyter/nbextensions/equation-numbering/main.js\n",
      "\u001b[32m[I 12:11:57 InstallContribNbextensionsApp]\u001b[m Up to date: /usr/local/share/jupyter/nbextensions/equation-numbering/info.yaml\n",
      "\u001b[32m[I 12:11:57 InstallContribNbextensionsApp]\u001b[m Up to date: /usr/local/share/jupyter/nbextensions/equation-numbering/button.png\n",
      "\u001b[32m[I 12:11:57 InstallContribNbextensionsApp]\u001b[m - Validating: \u001b[32mOK\u001b[0m\n",
      "\u001b[32m[I 12:11:57 InstallContribNbextensionsApp]\u001b[m Installing /Users/guidotournois/miniconda3/envs/vantage/lib/python3.7/site-packages/jupyter_contrib_nbextensions/nbextensions/navigation-hotkeys -> navigation-hotkeys\n",
      "\u001b[32m[I 12:11:57 InstallContribNbextensionsApp]\u001b[m Up to date: /usr/local/share/jupyter/nbextensions/navigation-hotkeys/icon.png\n",
      "\u001b[32m[I 12:11:57 InstallContribNbextensionsApp]\u001b[m Up to date: /usr/local/share/jupyter/nbextensions/navigation-hotkeys/readme.md\n",
      "\u001b[32m[I 12:11:57 InstallContribNbextensionsApp]\u001b[m Up to date: /usr/local/share/jupyter/nbextensions/navigation-hotkeys/main.js\n",
      "\u001b[32m[I 12:11:57 InstallContribNbextensionsApp]\u001b[m Up to date: /usr/local/share/jupyter/nbextensions/navigation-hotkeys/hotkeys.yaml\n",
      "\u001b[32m[I 12:11:57 InstallContribNbextensionsApp]\u001b[m - Validating: \u001b[32mOK\u001b[0m\n",
      "\u001b[32m[I 12:11:57 InstallContribNbextensionsApp]\u001b[m Installing /Users/guidotournois/miniconda3/envs/vantage/lib/python3.7/site-packages/jupyter_contrib_nbextensions/nbextensions/snippets_menu -> snippets_menu\n",
      "\u001b[32m[I 12:11:57 InstallContribNbextensionsApp]\u001b[m Up to date: /usr/local/share/jupyter/nbextensions/snippets_menu/snippets_menu.css\n",
      "\u001b[32m[I 12:11:57 InstallContribNbextensionsApp]\u001b[m Up to date: /usr/local/share/jupyter/nbextensions/snippets_menu/snippets_submenu_python.js\n",
      "\u001b[32m[I 12:11:57 InstallContribNbextensionsApp]\u001b[m Up to date: /usr/local/share/jupyter/nbextensions/snippets_menu/config.yaml\n",
      "\u001b[32m[I 12:11:57 InstallContribNbextensionsApp]\u001b[m Up to date: /usr/local/share/jupyter/nbextensions/snippets_menu/readme.md\n",
      "\u001b[32m[I 12:11:57 InstallContribNbextensionsApp]\u001b[m Up to date: /usr/local/share/jupyter/nbextensions/snippets_menu/main.js\n",
      "\u001b[32m[I 12:11:57 InstallContribNbextensionsApp]\u001b[m Up to date: /usr/local/share/jupyter/nbextensions/snippets_menu/snippets_submenu_markdown.js\n",
      "\u001b[32m[I 12:11:57 InstallContribNbextensionsApp]\u001b[m Up to date: /usr/local/share/jupyter/nbextensions/snippets_menu/thumbnail.png\n",
      "\u001b[32m[I 12:11:57 InstallContribNbextensionsApp]\u001b[m Up to date: /usr/local/share/jupyter/nbextensions/snippets_menu/screenshot1.png\n",
      "\u001b[32m[I 12:11:57 InstallContribNbextensionsApp]\u001b[m Up to date: /usr/local/share/jupyter/nbextensions/snippets_menu/screenshot2.png\n",
      "\u001b[32m[I 12:11:57 InstallContribNbextensionsApp]\u001b[m Up to date: /usr/local/share/jupyter/nbextensions/snippets_menu/screenshot3.png\n",
      "\u001b[32m[I 12:11:57 InstallContribNbextensionsApp]\u001b[m Up to date: /usr/local/share/jupyter/nbextensions/snippets_menu/examples_for_custom.js\n",
      "\u001b[32m[I 12:11:57 InstallContribNbextensionsApp]\u001b[m Up to date: /usr/local/share/jupyter/nbextensions/snippets_menu/snippets_submenus_python/numpy_ufuncs.js\n",
      "\u001b[32m[I 12:11:57 InstallContribNbextensionsApp]\u001b[m Up to date: /usr/local/share/jupyter/nbextensions/snippets_menu/snippets_submenus_python/numba.js\n",
      "\u001b[32m[I 12:11:57 InstallContribNbextensionsApp]\u001b[m Up to date: /usr/local/share/jupyter/nbextensions/snippets_menu/snippets_submenus_python/sympy_assumptions.js\n",
      "\u001b[32m[I 12:11:57 InstallContribNbextensionsApp]\u001b[m Up to date: /usr/local/share/jupyter/nbextensions/snippets_menu/snippets_submenus_python/sympy.js\n",
      "\u001b[32m[I 12:11:57 InstallContribNbextensionsApp]\u001b[m Up to date: /usr/local/share/jupyter/nbextensions/snippets_menu/snippets_submenus_python/numpy.js\n",
      "\u001b[32m[I 12:11:57 InstallContribNbextensionsApp]\u001b[m Up to date: /usr/local/share/jupyter/nbextensions/snippets_menu/snippets_submenus_python/astropy.js\n",
      "\u001b[32m[I 12:11:57 InstallContribNbextensionsApp]\u001b[m Up to date: /usr/local/share/jupyter/nbextensions/snippets_menu/snippets_submenus_python/pandas.js\n",
      "\u001b[32m[I 12:11:57 InstallContribNbextensionsApp]\u001b[m Up to date: /usr/local/share/jupyter/nbextensions/snippets_menu/snippets_submenus_python/numpy_polynomial.js\n",
      "\u001b[32m[I 12:11:57 InstallContribNbextensionsApp]\u001b[m Up to date: /usr/local/share/jupyter/nbextensions/snippets_menu/snippets_submenus_python/scipy_constants.js\n",
      "\u001b[32m[I 12:11:57 InstallContribNbextensionsApp]\u001b[m Up to date: /usr/local/share/jupyter/nbextensions/snippets_menu/snippets_submenus_python/matplotlib.js\n",
      "\u001b[32m[I 12:11:57 InstallContribNbextensionsApp]\u001b[m Up to date: /usr/local/share/jupyter/nbextensions/snippets_menu/snippets_submenus_python/sympy_functions.js\n",
      "\u001b[32m[I 12:11:57 InstallContribNbextensionsApp]\u001b[m Up to date: /usr/local/share/jupyter/nbextensions/snippets_menu/snippets_submenus_python/h5py.js\n",
      "\u001b[32m[I 12:11:57 InstallContribNbextensionsApp]\u001b[m Up to date: /usr/local/share/jupyter/nbextensions/snippets_menu/snippets_submenus_python/scipy_special.js\n",
      "\u001b[32m[I 12:11:57 InstallContribNbextensionsApp]\u001b[m Up to date: /usr/local/share/jupyter/nbextensions/snippets_menu/snippets_submenus_python/python_regex.js\n",
      "\u001b[32m[I 12:11:57 InstallContribNbextensionsApp]\u001b[m Up to date: /usr/local/share/jupyter/nbextensions/snippets_menu/snippets_submenus_python/python.js\n",
      "\u001b[32m[I 12:11:57 InstallContribNbextensionsApp]\u001b[m Up to date: /usr/local/share/jupyter/nbextensions/snippets_menu/snippets_submenus_python/scipy.js\n",
      "\u001b[32m[I 12:11:57 InstallContribNbextensionsApp]\u001b[m - Validating: \u001b[32mOK\u001b[0m\n",
      "\u001b[32m[I 12:11:57 InstallContribNbextensionsApp]\u001b[m Installing /Users/guidotournois/miniconda3/envs/vantage/lib/python3.7/site-packages/jupyter_contrib_nbextensions/nbextensions/printview -> printview\n",
      "\u001b[32m[I 12:11:57 InstallContribNbextensionsApp]\u001b[m Up to date: /usr/local/share/jupyter/nbextensions/printview/icon.png\n",
      "\u001b[32m[I 12:11:57 InstallContribNbextensionsApp]\u001b[m Up to date: /usr/local/share/jupyter/nbextensions/printview/printview-button.png\n",
      "\u001b[32m[I 12:11:57 InstallContribNbextensionsApp]\u001b[m Up to date: /usr/local/share/jupyter/nbextensions/printview/readme.md\n",
      "\u001b[32m[I 12:11:57 InstallContribNbextensionsApp]\u001b[m Up to date: /usr/local/share/jupyter/nbextensions/printview/main.js\n",
      "\u001b[32m[I 12:11:57 InstallContribNbextensionsApp]\u001b[m Up to date: /usr/local/share/jupyter/nbextensions/printview/printview.yaml\n",
      "\u001b[32m[I 12:11:57 InstallContribNbextensionsApp]\u001b[m - Validating: \u001b[32mOK\u001b[0m\n",
      "\u001b[32m[I 12:11:57 InstallContribNbextensionsApp]\u001b[m Installing /Users/guidotournois/miniconda3/envs/vantage/lib/python3.7/site-packages/jupyter_contrib_nbextensions/nbextensions/export_embedded -> export_embedded\n",
      "\u001b[32m[I 12:11:57 InstallContribNbextensionsApp]\u001b[m Up to date: /usr/local/share/jupyter/nbextensions/export_embedded/export_embedded.yaml\n",
      "\u001b[32m[I 12:11:57 InstallContribNbextensionsApp]\u001b[m Up to date: /usr/local/share/jupyter/nbextensions/export_embedded/icon.png\n",
      "\u001b[32m[I 12:11:57 InstallContribNbextensionsApp]\u001b[m Up to date: /usr/local/share/jupyter/nbextensions/export_embedded/readme.md\n",
      "\u001b[32m[I 12:11:57 InstallContribNbextensionsApp]\u001b[m Up to date: /usr/local/share/jupyter/nbextensions/export_embedded/main.js\n",
      "\u001b[32m[I 12:11:57 InstallContribNbextensionsApp]\u001b[m - Validating: \u001b[32mOK\u001b[0m\n",
      "\u001b[32m[I 12:11:57 InstallContribNbextensionsApp]\u001b[m Installing /Users/guidotournois/miniconda3/envs/vantage/lib/python3.7/site-packages/jupyter_contrib_nbextensions/nbextensions/autoscroll -> autoscroll\n",
      "\u001b[32m[I 12:11:57 InstallContribNbextensionsApp]\u001b[m Up to date: /usr/local/share/jupyter/nbextensions/autoscroll/icon.png\n",
      "\u001b[32m[I 12:11:57 InstallContribNbextensionsApp]\u001b[m Up to date: /usr/local/share/jupyter/nbextensions/autoscroll/autoscroll.yaml\n",
      "\u001b[32m[I 12:11:57 InstallContribNbextensionsApp]\u001b[m Up to date: /usr/local/share/jupyter/nbextensions/autoscroll/README.md\n",
      "\u001b[32m[I 12:11:57 InstallContribNbextensionsApp]\u001b[m Up to date: /usr/local/share/jupyter/nbextensions/autoscroll/main.js\n",
      "\u001b[32m[I 12:11:57 InstallContribNbextensionsApp]\u001b[m - Validating: \u001b[32mOK\u001b[0m\n",
      "\u001b[32m[I 12:11:57 InstallContribNbextensionsApp]\u001b[m Installing /Users/guidotournois/miniconda3/envs/vantage/lib/python3.7/site-packages/jupyter_contrib_nbextensions/nbextensions/hide_input -> hide_input\n",
      "\u001b[32m[I 12:11:57 InstallContribNbextensionsApp]\u001b[m Up to date: /usr/local/share/jupyter/nbextensions/hide_input/icon.png\n",
      "\u001b[32m[I 12:11:57 InstallContribNbextensionsApp]\u001b[m Up to date: /usr/local/share/jupyter/nbextensions/hide_input/readme.md\n",
      "\u001b[32m[I 12:11:57 InstallContribNbextensionsApp]\u001b[m Up to date: /usr/local/share/jupyter/nbextensions/hide_input/main.js\n",
      "\u001b[32m[I 12:11:57 InstallContribNbextensionsApp]\u001b[m Up to date: /usr/local/share/jupyter/nbextensions/hide_input/hide-input.yaml\n",
      "\u001b[32m[I 12:11:57 InstallContribNbextensionsApp]\u001b[m - Validating: \u001b[32mOK\u001b[0m\n",
      "\u001b[32m[I 12:11:57 InstallContribNbextensionsApp]\u001b[m Installing /Users/guidotournois/miniconda3/envs/vantage/lib/python3.7/site-packages/jupyter_contrib_nbextensions/nbextensions/hide_input_all -> hide_input_all\n",
      "\u001b[32m[I 12:11:57 InstallContribNbextensionsApp]\u001b[m Up to date: /usr/local/share/jupyter/nbextensions/hide_input_all/icon.png\n",
      "\u001b[32m[I 12:11:57 InstallContribNbextensionsApp]\u001b[m Up to date: /usr/local/share/jupyter/nbextensions/hide_input_all/hide_input_all.yaml\n",
      "\u001b[32m[I 12:11:57 InstallContribNbextensionsApp]\u001b[m Up to date: /usr/local/share/jupyter/nbextensions/hide_input_all/hide_input_all_show.png\n",
      "\u001b[32m[I 12:11:57 InstallContribNbextensionsApp]\u001b[m Up to date: /usr/local/share/jupyter/nbextensions/hide_input_all/readme.md\n",
      "\u001b[32m[I 12:11:57 InstallContribNbextensionsApp]\u001b[m Up to date: /usr/local/share/jupyter/nbextensions/hide_input_all/main.js\n",
      "\u001b[32m[I 12:11:57 InstallContribNbextensionsApp]\u001b[m Up to date: /usr/local/share/jupyter/nbextensions/hide_input_all/hide_input_all_hide.png\n",
      "\u001b[32m[I 12:11:57 InstallContribNbextensionsApp]\u001b[m - Validating: \u001b[32mOK\u001b[0m\n",
      "\u001b[32m[I 12:11:57 InstallContribNbextensionsApp]\u001b[m Installing /Users/guidotournois/miniconda3/envs/vantage/lib/python3.7/site-packages/jupyter_contrib_nbextensions/nbextensions/keyboard_shortcut_editor -> keyboard_shortcut_editor\n",
      "\u001b[32m[I 12:11:57 InstallContribNbextensionsApp]\u001b[m Up to date: /usr/local/share/jupyter/nbextensions/keyboard_shortcut_editor/keyboard_shortcut_editor.yaml\n",
      "\u001b[32m[I 12:11:57 InstallContribNbextensionsApp]\u001b[m Up to date: /usr/local/share/jupyter/nbextensions/keyboard_shortcut_editor/icon.png\n",
      "\u001b[32m[I 12:11:57 InstallContribNbextensionsApp]\u001b[m Up to date: /usr/local/share/jupyter/nbextensions/keyboard_shortcut_editor/readme_comma.png\n",
      "\u001b[32m[I 12:11:57 InstallContribNbextensionsApp]\u001b[m Up to date: /usr/local/share/jupyter/nbextensions/keyboard_shortcut_editor/readme_shortcut_editor_blank.png\n",
      "\u001b[32m[I 12:11:57 InstallContribNbextensionsApp]\u001b[m Up to date: /usr/local/share/jupyter/nbextensions/keyboard_shortcut_editor/readme_shortcut_editor_success.png\n",
      "\u001b[32m[I 12:11:57 InstallContribNbextensionsApp]\u001b[m Up to date: /usr/local/share/jupyter/nbextensions/keyboard_shortcut_editor/main.css\n",
      "\u001b[32m[I 12:11:57 InstallContribNbextensionsApp]\u001b[m Up to date: /usr/local/share/jupyter/nbextensions/keyboard_shortcut_editor/README.md\n",
      "\u001b[32m[I 12:11:57 InstallContribNbextensionsApp]\u001b[m Up to date: /usr/local/share/jupyter/nbextensions/keyboard_shortcut_editor/readme_reset_disabled.png\n",
      "\u001b[32m[I 12:11:57 InstallContribNbextensionsApp]\u001b[m Up to date: /usr/local/share/jupyter/nbextensions/keyboard_shortcut_editor/readme_add_new_link.png\n",
      "\u001b[32m[I 12:11:57 InstallContribNbextensionsApp]\u001b[m Up to date: /usr/local/share/jupyter/nbextensions/keyboard_shortcut_editor/main.js\n",
      "\u001b[32m[I 12:11:57 InstallContribNbextensionsApp]\u001b[m Up to date: /usr/local/share/jupyter/nbextensions/keyboard_shortcut_editor/readme_dropdown.png\n",
      "\u001b[32m[I 12:11:57 InstallContribNbextensionsApp]\u001b[m Up to date: /usr/local/share/jupyter/nbextensions/keyboard_shortcut_editor/quickhelp_shim.js\n",
      "\u001b[32m[I 12:11:57 InstallContribNbextensionsApp]\u001b[m Up to date: /usr/local/share/jupyter/nbextensions/keyboard_shortcut_editor/readme_add_new_select_action.png\n",
      "\u001b[32m[I 12:11:57 InstallContribNbextensionsApp]\u001b[m Up to date: /usr/local/share/jupyter/nbextensions/keyboard_shortcut_editor/kse_components.js\n",
      "\u001b[32m[I 12:11:57 InstallContribNbextensionsApp]\u001b[m Up to date: /usr/local/share/jupyter/nbextensions/keyboard_shortcut_editor/readme_undefined_key.png\n",
      "\u001b[32m[I 12:11:57 InstallContribNbextensionsApp]\u001b[m Up to date: /usr/local/share/jupyter/nbextensions/keyboard_shortcut_editor/readme_conflict.png\n",
      "\u001b[32m[I 12:11:57 InstallContribNbextensionsApp]\u001b[m Up to date: /usr/local/share/jupyter/nbextensions/keyboard_shortcut_editor/readme_menu_item.png\n",
      "\u001b[32m[I 12:11:57 InstallContribNbextensionsApp]\u001b[m - Validating: \u001b[32mOK\u001b[0m\n",
      "\u001b[32m[I 12:11:57 InstallContribNbextensionsApp]\u001b[m Installing /Users/guidotournois/miniconda3/envs/vantage/lib/python3.7/site-packages/jupyter_contrib_nbextensions/nbextensions/help_panel -> help_panel\n",
      "\u001b[32m[I 12:11:57 InstallContribNbextensionsApp]\u001b[m Up to date: /usr/local/share/jupyter/nbextensions/help_panel/icon.png\n",
      "\u001b[32m[I 12:11:57 InstallContribNbextensionsApp]\u001b[m Up to date: /usr/local/share/jupyter/nbextensions/help_panel/help_panel_ext.png\n",
      "\u001b[32m[I 12:11:57 InstallContribNbextensionsApp]\u001b[m Up to date: /usr/local/share/jupyter/nbextensions/help_panel/readme.md\n",
      "\u001b[32m[I 12:11:57 InstallContribNbextensionsApp]\u001b[m Up to date: /usr/local/share/jupyter/nbextensions/help_panel/help_panel_ext_fullscreen.png\n",
      "\u001b[32m[I 12:11:57 InstallContribNbextensionsApp]\u001b[m Up to date: /usr/local/share/jupyter/nbextensions/help_panel/help_panel.yaml\n",
      "\u001b[32m[I 12:11:57 InstallContribNbextensionsApp]\u001b[m Up to date: /usr/local/share/jupyter/nbextensions/help_panel/help_panel.css\n",
      "\u001b[32m[I 12:11:57 InstallContribNbextensionsApp]\u001b[m Up to date: /usr/local/share/jupyter/nbextensions/help_panel/help_panel.js\n",
      "\u001b[32m[I 12:11:57 InstallContribNbextensionsApp]\u001b[m Up to date: /usr/local/share/jupyter/nbextensions/help_panel/img/handle-v.png\n",
      "\u001b[32m[I 12:11:57 InstallContribNbextensionsApp]\u001b[m - Validating: \u001b[32mOK\u001b[0m\n",
      "\u001b[32m[I 12:11:57 InstallContribNbextensionsApp]\u001b[m Installing /Users/guidotournois/miniconda3/envs/vantage/lib/python3.7/site-packages/jupyter_contrib_nbextensions/nbextensions/move_selected_cells -> move_selected_cells\n",
      "\u001b[32m[I 12:11:57 InstallContribNbextensionsApp]\u001b[m Up to date: /usr/local/share/jupyter/nbextensions/move_selected_cells/README.md\n",
      "\u001b[32m[I 12:11:57 InstallContribNbextensionsApp]\u001b[m Up to date: /usr/local/share/jupyter/nbextensions/move_selected_cells/main.js\n",
      "\u001b[32m[I 12:11:57 InstallContribNbextensionsApp]\u001b[m Up to date: /usr/local/share/jupyter/nbextensions/move_selected_cells/move_selected_cells.yaml\n",
      "\u001b[32m[I 12:11:57 InstallContribNbextensionsApp]\u001b[m - Validating: \u001b[32mOK\u001b[0m\n",
      "\u001b[32m[I 12:11:57 InstallContribNbextensionsApp]\u001b[m Installing /Users/guidotournois/miniconda3/envs/vantage/lib/python3.7/site-packages/jupyter_contrib_nbextensions/nbextensions/zenmode -> zenmode\n",
      "\u001b[32m[I 12:11:57 InstallContribNbextensionsApp]\u001b[m Up to date: /usr/local/share/jupyter/nbextensions/zenmode/main.css\n",
      "\u001b[32m[I 12:11:57 InstallContribNbextensionsApp]\u001b[m Up to date: /usr/local/share/jupyter/nbextensions/zenmode/README.md\n",
      "\u001b[32m[I 12:11:57 InstallContribNbextensionsApp]\u001b[m Up to date: /usr/local/share/jupyter/nbextensions/zenmode/main.js\n",
      "\u001b[32m[I 12:11:57 InstallContribNbextensionsApp]\u001b[m Up to date: /usr/local/share/jupyter/nbextensions/zenmode/zenmode.yaml\n",
      "\u001b[32m[I 12:11:57 InstallContribNbextensionsApp]\u001b[m Up to date: /usr/local/share/jupyter/nbextensions/zenmode/images/back12.jpg\n",
      "\u001b[32m[I 12:11:57 InstallContribNbextensionsApp]\u001b[m Up to date: /usr/local/share/jupyter/nbextensions/zenmode/images/back11.jpg\n",
      "\u001b[32m[I 12:11:57 InstallContribNbextensionsApp]\u001b[m Up to date: /usr/local/share/jupyter/nbextensions/zenmode/images/back2.jpg\n",
      "\u001b[32m[I 12:11:57 InstallContribNbextensionsApp]\u001b[m Up to date: /usr/local/share/jupyter/nbextensions/zenmode/images/back3.jpg\n",
      "\u001b[32m[I 12:11:57 InstallContribNbextensionsApp]\u001b[m Up to date: /usr/local/share/jupyter/nbextensions/zenmode/images/back1.jpg\n",
      "\u001b[32m[I 12:11:57 InstallContribNbextensionsApp]\u001b[m Up to date: /usr/local/share/jupyter/nbextensions/zenmode/images/ipynblogo1.png\n",
      "\u001b[32m[I 12:11:57 InstallContribNbextensionsApp]\u001b[m Up to date: /usr/local/share/jupyter/nbextensions/zenmode/images/ipynblogo0.png\n",
      "\u001b[32m[I 12:11:57 InstallContribNbextensionsApp]\u001b[m Up to date: /usr/local/share/jupyter/nbextensions/zenmode/images/back21.jpg\n",
      "\u001b[32m[I 12:11:57 InstallContribNbextensionsApp]\u001b[m Up to date: /usr/local/share/jupyter/nbextensions/zenmode/images/back22.jpg\n",
      "\u001b[32m[I 12:11:57 InstallContribNbextensionsApp]\u001b[m - Validating: \u001b[32mOK\u001b[0m\n",
      "\u001b[32m[I 12:11:57 InstallContribNbextensionsApp]\u001b[m Installing /Users/guidotournois/miniconda3/envs/vantage/lib/python3.7/site-packages/jupyter_contrib_nbextensions/nbextensions/skip-traceback -> skip-traceback\n",
      "\u001b[32m[I 12:11:57 InstallContribNbextensionsApp]\u001b[m Up to date: /usr/local/share/jupyter/nbextensions/skip-traceback/icon.png\n",
      "\u001b[32m[I 12:11:57 InstallContribNbextensionsApp]\u001b[m Up to date: /usr/local/share/jupyter/nbextensions/skip-traceback/traceback.png\n",
      "\u001b[32m[I 12:11:57 InstallContribNbextensionsApp]\u001b[m Up to date: /usr/local/share/jupyter/nbextensions/skip-traceback/readme.md\n",
      "\u001b[32m[I 12:11:57 InstallContribNbextensionsApp]\u001b[m Up to date: /usr/local/share/jupyter/nbextensions/skip-traceback/main.js\n",
      "\u001b[32m[I 12:11:57 InstallContribNbextensionsApp]\u001b[m Up to date: /usr/local/share/jupyter/nbextensions/skip-traceback/skip-traceback.yaml\n",
      "\u001b[32m[I 12:11:57 InstallContribNbextensionsApp]\u001b[m Up to date: /usr/local/share/jupyter/nbextensions/skip-traceback/skip-traceback.png\n",
      "\u001b[32m[I 12:11:57 InstallContribNbextensionsApp]\u001b[m - Validating: \u001b[32mOK\u001b[0m\n",
      "\u001b[32m[I 12:11:57 InstallContribNbextensionsApp]\u001b[m Installing /Users/guidotournois/miniconda3/envs/vantage/lib/python3.7/site-packages/jupyter_contrib_nbextensions/nbextensions/python-markdown -> python-markdown\n",
      "\u001b[32m[I 12:11:57 InstallContribNbextensionsApp]\u001b[m Up to date: /usr/local/share/jupyter/nbextensions/python-markdown/untrusted.png\n",
      "\u001b[32m[I 12:11:57 InstallContribNbextensionsApp]\u001b[m Up to date: /usr/local/share/jupyter/nbextensions/python-markdown/python-markdown-pre.png\n",
      "\u001b[32m[I 12:11:57 InstallContribNbextensionsApp]\u001b[m Up to date: /usr/local/share/jupyter/nbextensions/python-markdown/main.css\n",
      "\u001b[32m[I 12:11:57 InstallContribNbextensionsApp]\u001b[m Up to date: /usr/local/share/jupyter/nbextensions/python-markdown/readme.md\n",
      "\u001b[32m[I 12:11:57 InstallContribNbextensionsApp]\u001b[m Up to date: /usr/local/share/jupyter/nbextensions/python-markdown/main.js\n",
      "\u001b[32m[I 12:11:57 InstallContribNbextensionsApp]\u001b[m Up to date: /usr/local/share/jupyter/nbextensions/python-markdown/python-markdown.png\n",
      "\u001b[32m[I 12:11:57 InstallContribNbextensionsApp]\u001b[m Up to date: /usr/local/share/jupyter/nbextensions/python-markdown/trusted.png\n",
      "\u001b[32m[I 12:11:57 InstallContribNbextensionsApp]\u001b[m Up to date: /usr/local/share/jupyter/nbextensions/python-markdown/python-markdown.yaml\n",
      "\u001b[32m[I 12:11:57 InstallContribNbextensionsApp]\u001b[m Up to date: /usr/local/share/jupyter/nbextensions/python-markdown/python-markdown-post.png\n",
      "\u001b[32m[I 12:11:57 InstallContribNbextensionsApp]\u001b[m - Validating: \u001b[32mOK\u001b[0m\n",
      "\u001b[32m[I 12:11:57 InstallContribNbextensionsApp]\u001b[m Installing /Users/guidotournois/miniconda3/envs/vantage/lib/python3.7/site-packages/jupyter_contrib_nbextensions/nbextensions/codefolding -> codefolding\n",
      "\u001b[32m[I 12:11:57 InstallContribNbextensionsApp]\u001b[m Up to date: /usr/local/share/jupyter/nbextensions/codefolding/codefolding_editor.yaml\n",
      "\u001b[32m[I 12:11:57 InstallContribNbextensionsApp]\u001b[m Up to date: /usr/local/share/jupyter/nbextensions/codefolding/icon.png\n",
      "\u001b[32m[I 12:11:57 InstallContribNbextensionsApp]\u001b[m Up to date: /usr/local/share/jupyter/nbextensions/codefolding/codefolding_firstline_folded.png\n",
      "\u001b[32m[I 12:11:57 InstallContribNbextensionsApp]\u001b[m Up to date: /usr/local/share/jupyter/nbextensions/codefolding/codefolding_indent_folded_2.png\n",
      "\u001b[32m[I 12:11:57 InstallContribNbextensionsApp]\u001b[m Up to date: /usr/local/share/jupyter/nbextensions/codefolding/codefolding_indent_folded_1.png\n",
      "\u001b[32m[I 12:11:57 InstallContribNbextensionsApp]\u001b[m Up to date: /usr/local/share/jupyter/nbextensions/codefolding/edit.js\n",
      "\u001b[32m[I 12:11:57 InstallContribNbextensionsApp]\u001b[m Up to date: /usr/local/share/jupyter/nbextensions/codefolding/magic-fold.js\n",
      "\u001b[32m[I 12:11:57 InstallContribNbextensionsApp]\u001b[m Up to date: /usr/local/share/jupyter/nbextensions/codefolding/firstline-fold.js\n",
      "\u001b[32m[I 12:11:57 InstallContribNbextensionsApp]\u001b[m Up to date: /usr/local/share/jupyter/nbextensions/codefolding/codefolding_firstline_unfolded.png\n",
      "\u001b[32m[I 12:11:57 InstallContribNbextensionsApp]\u001b[m Up to date: /usr/local/share/jupyter/nbextensions/codefolding/readme.md\n",
      "\u001b[32m[I 12:11:57 InstallContribNbextensionsApp]\u001b[m Up to date: /usr/local/share/jupyter/nbextensions/codefolding/main.js\n",
      "\u001b[32m[I 12:11:57 InstallContribNbextensionsApp]\u001b[m Up to date: /usr/local/share/jupyter/nbextensions/codefolding/magic-unfolded.png\n",
      "\u001b[32m[I 12:11:57 InstallContribNbextensionsApp]\u001b[m Up to date: /usr/local/share/jupyter/nbextensions/codefolding/foldgutter.css\n",
      "\u001b[32m[I 12:11:57 InstallContribNbextensionsApp]\u001b[m Up to date: /usr/local/share/jupyter/nbextensions/codefolding/magic-folded.png\n",
      "\u001b[32m[I 12:11:57 InstallContribNbextensionsApp]\u001b[m Up to date: /usr/local/share/jupyter/nbextensions/codefolding/codefolding.yaml\n",
      "\u001b[32m[I 12:11:57 InstallContribNbextensionsApp]\u001b[m Up to date: /usr/local/share/jupyter/nbextensions/codefolding/codefolding_editor.png\n",
      "\u001b[32m[I 12:11:57 InstallContribNbextensionsApp]\u001b[m Up to date: /usr/local/share/jupyter/nbextensions/codefolding/codefolding_indent_unfolded.png\n",
      "\u001b[32m[I 12:11:57 InstallContribNbextensionsApp]\u001b[m - Validating: \u001b[32mOK\u001b[0m\n",
      "\u001b[32m[I 12:11:57 InstallContribNbextensionsApp]\u001b[m Installing /Users/guidotournois/miniconda3/envs/vantage/lib/python3.7/site-packages/jupyter_contrib_nbextensions/nbextensions/codefolding -> codefolding\n",
      "\u001b[32m[I 12:11:57 InstallContribNbextensionsApp]\u001b[m Up to date: /usr/local/share/jupyter/nbextensions/codefolding/codefolding_editor.yaml\n",
      "\u001b[32m[I 12:11:57 InstallContribNbextensionsApp]\u001b[m Up to date: /usr/local/share/jupyter/nbextensions/codefolding/icon.png\n",
      "\u001b[32m[I 12:11:57 InstallContribNbextensionsApp]\u001b[m Up to date: /usr/local/share/jupyter/nbextensions/codefolding/codefolding_firstline_folded.png\n",
      "\u001b[32m[I 12:11:57 InstallContribNbextensionsApp]\u001b[m Up to date: /usr/local/share/jupyter/nbextensions/codefolding/codefolding_indent_folded_2.png\n",
      "\u001b[32m[I 12:11:57 InstallContribNbextensionsApp]\u001b[m Up to date: /usr/local/share/jupyter/nbextensions/codefolding/codefolding_indent_folded_1.png\n",
      "\u001b[32m[I 12:11:57 InstallContribNbextensionsApp]\u001b[m Up to date: /usr/local/share/jupyter/nbextensions/codefolding/edit.js\n",
      "\u001b[32m[I 12:11:57 InstallContribNbextensionsApp]\u001b[m Up to date: /usr/local/share/jupyter/nbextensions/codefolding/magic-fold.js\n",
      "\u001b[32m[I 12:11:57 InstallContribNbextensionsApp]\u001b[m Up to date: /usr/local/share/jupyter/nbextensions/codefolding/firstline-fold.js\n",
      "\u001b[32m[I 12:11:57 InstallContribNbextensionsApp]\u001b[m Up to date: /usr/local/share/jupyter/nbextensions/codefolding/codefolding_firstline_unfolded.png\n",
      "\u001b[32m[I 12:11:57 InstallContribNbextensionsApp]\u001b[m Up to date: /usr/local/share/jupyter/nbextensions/codefolding/readme.md\n",
      "\u001b[32m[I 12:11:57 InstallContribNbextensionsApp]\u001b[m Up to date: /usr/local/share/jupyter/nbextensions/codefolding/main.js\n",
      "\u001b[32m[I 12:11:57 InstallContribNbextensionsApp]\u001b[m Up to date: /usr/local/share/jupyter/nbextensions/codefolding/magic-unfolded.png\n",
      "\u001b[32m[I 12:11:57 InstallContribNbextensionsApp]\u001b[m Up to date: /usr/local/share/jupyter/nbextensions/codefolding/foldgutter.css\n",
      "\u001b[32m[I 12:11:57 InstallContribNbextensionsApp]\u001b[m Up to date: /usr/local/share/jupyter/nbextensions/codefolding/magic-folded.png\n",
      "\u001b[32m[I 12:11:57 InstallContribNbextensionsApp]\u001b[m Up to date: /usr/local/share/jupyter/nbextensions/codefolding/codefolding.yaml\n",
      "\u001b[32m[I 12:11:57 InstallContribNbextensionsApp]\u001b[m Up to date: /usr/local/share/jupyter/nbextensions/codefolding/codefolding_editor.png\n",
      "\u001b[32m[I 12:11:57 InstallContribNbextensionsApp]\u001b[m Up to date: /usr/local/share/jupyter/nbextensions/codefolding/codefolding_indent_unfolded.png\n",
      "\u001b[32m[I 12:11:57 InstallContribNbextensionsApp]\u001b[m - Validating: \u001b[32mOK\u001b[0m\n",
      "\u001b[32m[I 12:11:57 InstallContribNbextensionsApp]\u001b[m Installing /Users/guidotournois/miniconda3/envs/vantage/lib/python3.7/site-packages/jupyter_contrib_nbextensions/nbextensions/collapsible_headings -> collapsible_headings\n",
      "\u001b[32m[I 12:11:57 InstallContribNbextensionsApp]\u001b[m Up to date: /usr/local/share/jupyter/nbextensions/collapsible_headings/icon.png\n",
      "\u001b[32m[I 12:11:57 InstallContribNbextensionsApp]\u001b[m Up to date: /usr/local/share/jupyter/nbextensions/collapsible_headings/screenshot.png\n",
      "\u001b[32m[I 12:11:57 InstallContribNbextensionsApp]\u001b[m Up to date: /usr/local/share/jupyter/nbextensions/collapsible_headings/main.css\n",
      "\u001b[32m[I 12:11:57 InstallContribNbextensionsApp]\u001b[m Up to date: /usr/local/share/jupyter/nbextensions/collapsible_headings/readme.md\n",
      "\u001b[32m[I 12:11:57 InstallContribNbextensionsApp]\u001b[m Up to date: /usr/local/share/jupyter/nbextensions/collapsible_headings/main.js\n",
      "\u001b[32m[I 12:11:57 InstallContribNbextensionsApp]\u001b[m Up to date: /usr/local/share/jupyter/nbextensions/collapsible_headings/collapsible_headings.yaml\n",
      "\u001b[32m[I 12:11:57 InstallContribNbextensionsApp]\u001b[m - Validating: \u001b[32mOK\u001b[0m\n",
      "\u001b[32m[I 12:11:57 InstallContribNbextensionsApp]\u001b[m Installing /Users/guidotournois/miniconda3/envs/vantage/lib/python3.7/site-packages/jupyter_contrib_nbextensions/nbextensions/exercise -> exercise\n",
      "\u001b[32m[I 12:11:57 InstallContribNbextensionsApp]\u001b[m Up to date: /usr/local/share/jupyter/nbextensions/exercise/icon.png\n",
      "\u001b[32m[I 12:11:57 InstallContribNbextensionsApp]\u001b[m Up to date: /usr/local/share/jupyter/nbextensions/exercise/history.md\n",
      "\u001b[32m[I 12:11:57 InstallContribNbextensionsApp]\u001b[m Up to date: /usr/local/share/jupyter/nbextensions/exercise/main.css\n",
      "\u001b[32m[I 12:11:57 InstallContribNbextensionsApp]\u001b[m Up to date: /usr/local/share/jupyter/nbextensions/exercise/image.gif\n",
      "\u001b[32m[I 12:11:57 InstallContribNbextensionsApp]\u001b[m Up to date: /usr/local/share/jupyter/nbextensions/exercise/readme.md\n",
      "\u001b[32m[I 12:11:57 InstallContribNbextensionsApp]\u001b[m Up to date: /usr/local/share/jupyter/nbextensions/exercise/main.js\n",
      "\u001b[32m[I 12:11:57 InstallContribNbextensionsApp]\u001b[m Up to date: /usr/local/share/jupyter/nbextensions/exercise/exercise.yaml\n",
      "\u001b[32m[I 12:11:57 InstallContribNbextensionsApp]\u001b[m - Validating: \u001b[32mOK\u001b[0m\n",
      "\u001b[32m[I 12:11:57 InstallContribNbextensionsApp]\u001b[m Installing /Users/guidotournois/miniconda3/envs/vantage/lib/python3.7/site-packages/jupyter_contrib_nbextensions/nbextensions/codemirror_mode_extensions -> codemirror_mode_extensions\n",
      "\u001b[32m[I 12:11:57 InstallContribNbextensionsApp]\u001b[m Up to date: /usr/local/share/jupyter/nbextensions/codemirror_mode_extensions/codemirror_mode_extensions.yaml\n",
      "\u001b[32m[I 12:11:57 InstallContribNbextensionsApp]\u001b[m Up to date: /usr/local/share/jupyter/nbextensions/codemirror_mode_extensions/main.js\n",
      "\u001b[32m[I 12:11:57 InstallContribNbextensionsApp]\u001b[m - Validating: \u001b[32mOK\u001b[0m\n",
      "\u001b[32m[I 12:11:57 InstallContribNbextensionsApp]\u001b[m Installing /Users/guidotournois/miniconda3/envs/vantage/lib/python3.7/site-packages/jupyter_contrib_nbextensions/nbextensions/ruler -> ruler\n",
      "\u001b[32m[I 12:11:57 InstallContribNbextensionsApp]\u001b[m Up to date: /usr/local/share/jupyter/nbextensions/ruler/icon.png\n",
      "\u001b[32m[I 12:11:57 InstallContribNbextensionsApp]\u001b[m Up to date: /usr/local/share/jupyter/nbextensions/ruler/edit.js\n",
      "\u001b[32m[I 12:11:57 InstallContribNbextensionsApp]\u001b[m Up to date: /usr/local/share/jupyter/nbextensions/ruler/ruler_editor.yaml\n",
      "\u001b[32m[I 12:11:57 InstallContribNbextensionsApp]\u001b[m Up to date: /usr/local/share/jupyter/nbextensions/ruler/readme.md\n",
      "\u001b[32m[I 12:11:57 InstallContribNbextensionsApp]\u001b[m Up to date: /usr/local/share/jupyter/nbextensions/ruler/main.js\n",
      "\u001b[32m[I 12:11:57 InstallContribNbextensionsApp]\u001b[m Up to date: /usr/local/share/jupyter/nbextensions/ruler/ruler.yaml\n",
      "\u001b[32m[I 12:11:57 InstallContribNbextensionsApp]\u001b[m - Validating: \u001b[32mOK\u001b[0m\n",
      "\u001b[32m[I 12:11:57 InstallContribNbextensionsApp]\u001b[m Installing /Users/guidotournois/miniconda3/envs/vantage/lib/python3.7/site-packages/jupyter_contrib_nbextensions/nbextensions/ruler -> ruler\n",
      "\u001b[32m[I 12:11:57 InstallContribNbextensionsApp]\u001b[m Up to date: /usr/local/share/jupyter/nbextensions/ruler/icon.png\n",
      "\u001b[32m[I 12:11:57 InstallContribNbextensionsApp]\u001b[m Up to date: /usr/local/share/jupyter/nbextensions/ruler/edit.js\n",
      "\u001b[32m[I 12:11:57 InstallContribNbextensionsApp]\u001b[m Up to date: /usr/local/share/jupyter/nbextensions/ruler/ruler_editor.yaml\n",
      "\u001b[32m[I 12:11:57 InstallContribNbextensionsApp]\u001b[m Up to date: /usr/local/share/jupyter/nbextensions/ruler/readme.md\n",
      "\u001b[32m[I 12:11:57 InstallContribNbextensionsApp]\u001b[m Up to date: /usr/local/share/jupyter/nbextensions/ruler/main.js\n",
      "\u001b[32m[I 12:11:57 InstallContribNbextensionsApp]\u001b[m Up to date: /usr/local/share/jupyter/nbextensions/ruler/ruler.yaml\n",
      "\u001b[32m[I 12:11:57 InstallContribNbextensionsApp]\u001b[m - Validating: \u001b[32mOK\u001b[0m\n",
      "\u001b[32m[I 12:11:57 InstallContribNbextensionsApp]\u001b[m Installing /Users/guidotournois/miniconda3/envs/vantage/lib/python3.7/site-packages/jupyter_contrib_nbextensions/nbextensions/contrib_nbextensions_help_item -> contrib_nbextensions_help_item\n",
      "\u001b[32m[I 12:11:57 InstallContribNbextensionsApp]\u001b[m Up to date: /usr/local/share/jupyter/nbextensions/contrib_nbextensions_help_item/README.md\n",
      "\u001b[32m[I 12:11:57 InstallContribNbextensionsApp]\u001b[m Up to date: /usr/local/share/jupyter/nbextensions/contrib_nbextensions_help_item/main.js\n",
      "\u001b[32m[I 12:11:57 InstallContribNbextensionsApp]\u001b[m Up to date: /usr/local/share/jupyter/nbextensions/contrib_nbextensions_help_item/contrib_nbextensions_help_item.yaml\n",
      "\u001b[32m[I 12:11:57 InstallContribNbextensionsApp]\u001b[m - Validating: \u001b[32mOK\u001b[0m\n",
      "\u001b[32m[I 12:11:57 InstallContribNbextensionsApp]\u001b[m Installing /Users/guidotournois/miniconda3/envs/vantage/lib/python3.7/site-packages/jupyter_contrib_nbextensions/nbextensions/datestamper -> datestamper\n",
      "\u001b[32m[I 12:11:57 InstallContribNbextensionsApp]\u001b[m Up to date: /usr/local/share/jupyter/nbextensions/datestamper/icon.png\n"
     ]
    },
    {
     "name": "stdout",
     "output_type": "stream",
     "text": [
      "\u001b[32m[I 12:11:57 InstallContribNbextensionsApp]\u001b[m Up to date: /usr/local/share/jupyter/nbextensions/datestamper/main.yaml\r\n",
      "\u001b[32m[I 12:11:57 InstallContribNbextensionsApp]\u001b[m Up to date: /usr/local/share/jupyter/nbextensions/datestamper/readme.md\r\n",
      "\u001b[32m[I 12:11:57 InstallContribNbextensionsApp]\u001b[m Up to date: /usr/local/share/jupyter/nbextensions/datestamper/main.js\r\n",
      "\u001b[32m[I 12:11:57 InstallContribNbextensionsApp]\u001b[m - Validating: \u001b[32mOK\u001b[0m\r\n",
      "\u001b[32m[I 12:11:57 InstallContribNbextensionsApp]\u001b[m Installing /Users/guidotournois/miniconda3/envs/vantage/lib/python3.7/site-packages/jupyter_contrib_nbextensions/nbextensions/init_cell -> init_cell\r\n",
      "\u001b[32m[I 12:11:57 InstallContribNbextensionsApp]\u001b[m Up to date: /usr/local/share/jupyter/nbextensions/init_cell/init_cell.yaml\r\n",
      "\u001b[32m[I 12:11:57 InstallContribNbextensionsApp]\u001b[m Up to date: /usr/local/share/jupyter/nbextensions/init_cell/icon.png\r\n",
      "\u001b[32m[I 12:11:57 InstallContribNbextensionsApp]\u001b[m Up to date: /usr/local/share/jupyter/nbextensions/init_cell/README.md\r\n",
      "\u001b[32m[I 12:11:57 InstallContribNbextensionsApp]\u001b[m Up to date: /usr/local/share/jupyter/nbextensions/init_cell/main.js\r\n",
      "\u001b[32m[I 12:11:57 InstallContribNbextensionsApp]\u001b[m Up to date: /usr/local/share/jupyter/nbextensions/init_cell/cell_toolbar_menu.png\r\n",
      "\u001b[32m[I 12:11:57 InstallContribNbextensionsApp]\u001b[m - Validating: \u001b[32mOK\u001b[0m\r\n",
      "\u001b[32m[I 12:11:57 InstallContribNbextensionsApp]\u001b[m Installing /Users/guidotournois/miniconda3/envs/vantage/lib/python3.7/site-packages/jupyter_contrib_nbextensions/nbextensions/limit_output -> limit_output\r\n",
      "\u001b[32m[I 12:11:57 InstallContribNbextensionsApp]\u001b[m Up to date: /usr/local/share/jupyter/nbextensions/limit_output/icon.png\r\n",
      "\u001b[32m[I 12:11:57 InstallContribNbextensionsApp]\u001b[m Up to date: /usr/local/share/jupyter/nbextensions/limit_output/readme.md\r\n",
      "\u001b[32m[I 12:11:57 InstallContribNbextensionsApp]\u001b[m Up to date: /usr/local/share/jupyter/nbextensions/limit_output/main.js\r\n",
      "\u001b[32m[I 12:11:57 InstallContribNbextensionsApp]\u001b[m Up to date: /usr/local/share/jupyter/nbextensions/limit_output/limit-output.yaml\r\n",
      "\u001b[32m[I 12:11:57 InstallContribNbextensionsApp]\u001b[m - Validating: \u001b[32mOK\u001b[0m\r\n",
      "\u001b[32m[I 12:11:57 InstallContribNbextensionsApp]\u001b[m Installing /Users/guidotournois/miniconda3/envs/vantage/lib/python3.7/site-packages/jupyter_contrib_nbextensions/nbextensions/qtconsole -> qtconsole\r\n",
      "\u001b[32m[I 12:11:57 InstallContribNbextensionsApp]\u001b[m Up to date: /usr/local/share/jupyter/nbextensions/qtconsole/qtconsole.js\r\n",
      "\u001b[32m[I 12:11:57 InstallContribNbextensionsApp]\u001b[m Up to date: /usr/local/share/jupyter/nbextensions/qtconsole/qtconsole.yaml\r\n",
      "\u001b[32m[I 12:11:57 InstallContribNbextensionsApp]\u001b[m Up to date: /usr/local/share/jupyter/nbextensions/qtconsole/README.md\r\n",
      "\u001b[32m[I 12:11:57 InstallContribNbextensionsApp]\u001b[m - Validating: \u001b[32mOK\u001b[0m\r\n",
      "\u001b[32m[I 12:11:57 InstallContribNbextensionsApp]\u001b[m Installing /Users/guidotournois/miniconda3/envs/vantage/lib/python3.7/site-packages/jupyter_contrib_nbextensions/nbextensions/addbefore -> addbefore\r\n",
      "\u001b[32m[I 12:11:57 InstallContribNbextensionsApp]\u001b[m Up to date: /usr/local/share/jupyter/nbextensions/addbefore/icon.png\r\n",
      "\u001b[32m[I 12:11:57 InstallContribNbextensionsApp]\u001b[m Up to date: /usr/local/share/jupyter/nbextensions/addbefore/readme.md\r\n",
      "\u001b[32m[I 12:11:57 InstallContribNbextensionsApp]\u001b[m Up to date: /usr/local/share/jupyter/nbextensions/addbefore/main.js\r\n",
      "\u001b[32m[I 12:11:57 InstallContribNbextensionsApp]\u001b[m Up to date: /usr/local/share/jupyter/nbextensions/addbefore/addbefore.yaml\r\n",
      "\u001b[32m[I 12:11:57 InstallContribNbextensionsApp]\u001b[m - Validating: \u001b[32mOK\u001b[0m\r\n",
      "\u001b[32m[I 12:11:57 InstallContribNbextensionsApp]\u001b[m Installing /Users/guidotournois/miniconda3/envs/vantage/lib/python3.7/site-packages/jupyter_contrib_nbextensions/nbextensions/highlighter -> highlighter\r\n",
      "\u001b[32m[I 12:11:57 InstallContribNbextensionsApp]\u001b[m Up to date: /usr/local/share/jupyter/nbextensions/highlighter/icon.png\r\n",
      "\u001b[32m[I 12:11:57 InstallContribNbextensionsApp]\u001b[m Up to date: /usr/local/share/jupyter/nbextensions/highlighter/export_highlights.pdf\r\n",
      "\u001b[32m[I 12:11:57 InstallContribNbextensionsApp]\u001b[m Up to date: /usr/local/share/jupyter/nbextensions/highlighter/demo_highlighter.html\r\n",
      "\u001b[32m[I 12:11:57 InstallContribNbextensionsApp]\u001b[m Up to date: /usr/local/share/jupyter/nbextensions/highlighter/demo_highlighter.ipynb\r\n",
      "\u001b[32m[I 12:11:57 InstallContribNbextensionsApp]\u001b[m Up to date: /usr/local/share/jupyter/nbextensions/highlighter/tst_highlights.ipynb\r\n",
      "\u001b[32m[I 12:11:57 InstallContribNbextensionsApp]\u001b[m Up to date: /usr/local/share/jupyter/nbextensions/highlighter/export_highlights.ipynb\r\n",
      "\u001b[32m[I 12:11:57 InstallContribNbextensionsApp]\u001b[m Up to date: /usr/local/share/jupyter/nbextensions/highlighter/tst_highlights.html\r\n",
      "\u001b[32m[I 12:11:57 InstallContribNbextensionsApp]\u001b[m Up to date: /usr/local/share/jupyter/nbextensions/highlighter/export_highlights.tex\r\n",
      "\u001b[32m[I 12:11:57 InstallContribNbextensionsApp]\u001b[m Up to date: /usr/local/share/jupyter/nbextensions/highlighter/image.gif\r\n",
      "\u001b[32m[I 12:11:57 InstallContribNbextensionsApp]\u001b[m Up to date: /usr/local/share/jupyter/nbextensions/highlighter/readme.md\r\n",
      "\u001b[32m[I 12:11:57 InstallContribNbextensionsApp]\u001b[m Up to date: /usr/local/share/jupyter/nbextensions/highlighter/highlighter.css\r\n",
      "\u001b[32m[I 12:11:57 InstallContribNbextensionsApp]\u001b[m Up to date: /usr/local/share/jupyter/nbextensions/highlighter/tst_highlights.pdf\r\n",
      "\u001b[32m[I 12:11:57 InstallContribNbextensionsApp]\u001b[m Up to date: /usr/local/share/jupyter/nbextensions/highlighter/export_highlights.html\r\n",
      "\u001b[32m[I 12:11:57 InstallContribNbextensionsApp]\u001b[m Up to date: /usr/local/share/jupyter/nbextensions/highlighter/tst_highlights.tex\r\n",
      "\u001b[32m[I 12:11:57 InstallContribNbextensionsApp]\u001b[m Up to date: /usr/local/share/jupyter/nbextensions/highlighter/highlighter.yaml\r\n",
      "\u001b[32m[I 12:11:57 InstallContribNbextensionsApp]\u001b[m Up to date: /usr/local/share/jupyter/nbextensions/highlighter/highlighter.js\r\n",
      "\u001b[32m[I 12:11:57 InstallContribNbextensionsApp]\u001b[m - Validating: \u001b[32mOK\u001b[0m\r\n",
      "\u001b[32m[I 12:11:57 InstallContribNbextensionsApp]\u001b[m Installing /Users/guidotournois/miniconda3/envs/vantage/lib/python3.7/site-packages/jupyter_contrib_nbextensions/nbextensions/comment-uncomment -> comment-uncomment\r\n",
      "\u001b[32m[I 12:11:57 InstallContribNbextensionsApp]\u001b[m Up to date: /usr/local/share/jupyter/nbextensions/comment-uncomment/icon.png\r\n",
      "\u001b[32m[I 12:11:57 InstallContribNbextensionsApp]\u001b[m Up to date: /usr/local/share/jupyter/nbextensions/comment-uncomment/readme.md\r\n",
      "\u001b[32m[I 12:11:57 InstallContribNbextensionsApp]\u001b[m Up to date: /usr/local/share/jupyter/nbextensions/comment-uncomment/main.js\r\n",
      "\u001b[32m[I 12:11:57 InstallContribNbextensionsApp]\u001b[m Up to date: /usr/local/share/jupyter/nbextensions/comment-uncomment/comment-uncomment.yaml\r\n",
      "\u001b[32m[I 12:11:57 InstallContribNbextensionsApp]\u001b[m - Validating: \u001b[32mOK\u001b[0m\r\n",
      "\u001b[32m[I 12:11:57 InstallContribNbextensionsApp]\u001b[m Installing /Users/guidotournois/miniconda3/envs/vantage/lib/python3.7/site-packages/jupyter_contrib_nbextensions/nbextensions/code_font_size -> code_font_size\r\n",
      "\u001b[32m[I 12:11:57 InstallContribNbextensionsApp]\u001b[m Up to date: /usr/local/share/jupyter/nbextensions/code_font_size/code_font_size.yaml\r\n",
      "\u001b[32m[I 12:11:57 InstallContribNbextensionsApp]\u001b[m Up to date: /usr/local/share/jupyter/nbextensions/code_font_size/code_font_size.js\r\n",
      "\u001b[32m[I 12:11:57 InstallContribNbextensionsApp]\u001b[m Up to date: /usr/local/share/jupyter/nbextensions/code_font_size/README.md\r\n",
      "\u001b[32m[I 12:11:57 InstallContribNbextensionsApp]\u001b[m - Validating: \u001b[32mOK\u001b[0m\r\n",
      "\u001b[32m[I 12:11:57 InstallContribNbextensionsApp]\u001b[m Installing /Users/guidotournois/miniconda3/envs/vantage/lib/python3.7/site-packages/jupyter_contrib_nbextensions/nbextensions/varInspector -> varInspector\r\n",
      "\u001b[32m[I 12:11:57 InstallContribNbextensionsApp]\u001b[m Up to date: /usr/local/share/jupyter/nbextensions/varInspector/icon.png\r\n",
      "\u001b[32m[I 12:11:57 InstallContribNbextensionsApp]\u001b[m Up to date: /usr/local/share/jupyter/nbextensions/varInspector/jquery.tablesorter.min.js\r\n",
      "\u001b[32m[I 12:11:57 InstallContribNbextensionsApp]\u001b[m Up to date: /usr/local/share/jupyter/nbextensions/varInspector/varInspector.yaml\r\n",
      "\u001b[32m[I 12:11:57 InstallContribNbextensionsApp]\u001b[m Up to date: /usr/local/share/jupyter/nbextensions/varInspector/main.css\r\n",
      "\u001b[32m[I 12:11:57 InstallContribNbextensionsApp]\u001b[m Up to date: /usr/local/share/jupyter/nbextensions/varInspector/var_list.py\r\n",
      "\u001b[32m[I 12:11:57 InstallContribNbextensionsApp]\u001b[m Up to date: /usr/local/share/jupyter/nbextensions/varInspector/README.md\r\n",
      "\u001b[32m[I 12:11:57 InstallContribNbextensionsApp]\u001b[m Up to date: /usr/local/share/jupyter/nbextensions/varInspector/main.js\r\n",
      "\u001b[32m[I 12:11:57 InstallContribNbextensionsApp]\u001b[m Up to date: /usr/local/share/jupyter/nbextensions/varInspector/var_list.r\r\n",
      "\u001b[32m[I 12:11:57 InstallContribNbextensionsApp]\u001b[m Up to date: /usr/local/share/jupyter/nbextensions/varInspector/tablesorter_LICENSE.txt\r\n",
      "\u001b[32m[I 12:11:57 InstallContribNbextensionsApp]\u001b[m Up to date: /usr/local/share/jupyter/nbextensions/varInspector/demo.gif\r\n",
      "\u001b[32m[I 12:11:57 InstallContribNbextensionsApp]\u001b[m Up to date: /usr/local/share/jupyter/nbextensions/varInspector/__pycache__/var_list.cpython-37.pyc\r\n",
      "\u001b[32m[I 12:11:57 InstallContribNbextensionsApp]\u001b[m - Validating: \u001b[32mOK\u001b[0m\r\n",
      "\u001b[32m[I 12:11:57 InstallContribNbextensionsApp]\u001b[m Installing /Users/guidotournois/miniconda3/envs/vantage/lib/python3.7/site-packages/jupyter_contrib_nbextensions/nbextensions/execute_time -> execute_time\r\n",
      "\u001b[32m[I 12:11:57 InstallContribNbextensionsApp]\u001b[m Up to date: /usr/local/share/jupyter/nbextensions/execute_time/ExecuteTime.js\r\n",
      "\u001b[32m[I 12:11:57 InstallContribNbextensionsApp]\u001b[m Up to date: /usr/local/share/jupyter/nbextensions/execute_time/icon.png\r\n",
      "\u001b[32m[I 12:11:57 InstallContribNbextensionsApp]\u001b[m Up to date: /usr/local/share/jupyter/nbextensions/execute_time/execution-timings-box.png\r\n",
      "\u001b[32m[I 12:11:57 InstallContribNbextensionsApp]\u001b[m Up to date: /usr/local/share/jupyter/nbextensions/execute_time/ExecuteTime.css\r\n",
      "\u001b[32m[I 12:11:57 InstallContribNbextensionsApp]\u001b[m Up to date: /usr/local/share/jupyter/nbextensions/execute_time/ExecuteTime.yaml\r\n",
      "\u001b[32m[I 12:11:57 InstallContribNbextensionsApp]\u001b[m Up to date: /usr/local/share/jupyter/nbextensions/execute_time/execution-timings-menu.png\r\n",
      "\u001b[32m[I 12:11:57 InstallContribNbextensionsApp]\u001b[m Up to date: /usr/local/share/jupyter/nbextensions/execute_time/readme.md\r\n",
      "\u001b[32m[I 12:11:57 InstallContribNbextensionsApp]\u001b[m - Validating: \u001b[32mOK\u001b[0m\r\n",
      "\u001b[32m[I 12:11:57 InstallContribNbextensionsApp]\u001b[m Installing /Users/guidotournois/miniconda3/envs/vantage/lib/python3.7/site-packages/jupyter_contrib_nbextensions/nbextensions/spellchecker -> spellchecker\r\n",
      "\u001b[32m[I 12:11:57 InstallContribNbextensionsApp]\u001b[m Up to date: /usr/local/share/jupyter/nbextensions/spellchecker/download_new_dict.py\r\n",
      "\u001b[32m[I 12:11:57 InstallContribNbextensionsApp]\u001b[m Up to date: /usr/local/share/jupyter/nbextensions/spellchecker/screenshot.png\r\n",
      "\u001b[32m[I 12:11:57 InstallContribNbextensionsApp]\u001b[m Up to date: /usr/local/share/jupyter/nbextensions/spellchecker/config.yaml\r\n",
      "\u001b[32m[I 12:11:57 InstallContribNbextensionsApp]\u001b[m Up to date: /usr/local/share/jupyter/nbextensions/spellchecker/main.css\r\n",
      "\u001b[32m[I 12:11:57 InstallContribNbextensionsApp]\u001b[m Up to date: /usr/local/share/jupyter/nbextensions/spellchecker/README.md\r\n",
      "\u001b[32m[I 12:11:57 InstallContribNbextensionsApp]\u001b[m Up to date: /usr/local/share/jupyter/nbextensions/spellchecker/main.js\r\n",
      "\u001b[32m[I 12:11:57 InstallContribNbextensionsApp]\u001b[m Up to date: /usr/local/share/jupyter/nbextensions/spellchecker/typo/typo.js\r\n",
      "\u001b[32m[I 12:11:57 InstallContribNbextensionsApp]\u001b[m Up to date: /usr/local/share/jupyter/nbextensions/spellchecker/typo/LICENSE.txt\r\n",
      "\u001b[32m[I 12:11:57 InstallContribNbextensionsApp]\u001b[m Up to date: /usr/local/share/jupyter/nbextensions/spellchecker/__pycache__/download_new_dict.cpython-37.pyc\r\n",
      "\u001b[32m[I 12:11:57 InstallContribNbextensionsApp]\u001b[m - Validating: \u001b[32mOK\u001b[0m\r\n",
      "\u001b[32m[I 12:11:57 InstallContribNbextensionsApp]\u001b[m Installing /Users/guidotournois/miniconda3/envs/vantage/lib/python3.7/site-packages/jupyter_contrib_nbextensions/nbextensions/code_prettify -> code_prettify\r\n",
      "\u001b[32m[I 12:11:57 InstallContribNbextensionsApp]\u001b[m Up to date: /usr/local/share/jupyter/nbextensions/code_prettify/demo-py.gif\r\n",
      "\u001b[32m[I 12:11:57 InstallContribNbextensionsApp]\u001b[m Up to date: /usr/local/share/jupyter/nbextensions/code_prettify/kernel_exec_on_cell.js\r\n",
      "\u001b[32m[I 12:11:57 InstallContribNbextensionsApp]\u001b[m Up to date: /usr/local/share/jupyter/nbextensions/code_prettify/demo-jv.gif\r\n",
      "\u001b[32m[I 12:11:57 InstallContribNbextensionsApp]\u001b[m Up to date: /usr/local/share/jupyter/nbextensions/code_prettify/README_2to3.md\r\n",
      "\u001b[32m[I 12:11:57 InstallContribNbextensionsApp]\u001b[m Up to date: /usr/local/share/jupyter/nbextensions/code_prettify/2to3.yaml\r\n",
      "\u001b[32m[I 12:11:57 InstallContribNbextensionsApp]\u001b[m Up to date: /usr/local/share/jupyter/nbextensions/code_prettify/README_autopep8.md\r\n",
      "\u001b[32m[I 12:11:57 InstallContribNbextensionsApp]\u001b[m Up to date: /usr/local/share/jupyter/nbextensions/code_prettify/demo_2to3.gif\r\n",
      "\u001b[32m[I 12:11:57 InstallContribNbextensionsApp]\u001b[m Up to date: /usr/local/share/jupyter/nbextensions/code_prettify/README_isort.md\r\n",
      "\u001b[32m[I 12:11:57 InstallContribNbextensionsApp]\u001b[m Up to date: /usr/local/share/jupyter/nbextensions/code_prettify/README_code_prettify.md\r\n",
      "\u001b[32m[I 12:11:57 InstallContribNbextensionsApp]\u001b[m Up to date: /usr/local/share/jupyter/nbextensions/code_prettify/README.md\r\n",
      "\u001b[32m[I 12:11:57 InstallContribNbextensionsApp]\u001b[m Up to date: /usr/local/share/jupyter/nbextensions/code_prettify/code_prettify.js\r\n",
      "\u001b[32m[I 12:11:57 InstallContribNbextensionsApp]\u001b[m Up to date: /usr/local/share/jupyter/nbextensions/code_prettify/autopep8.js\r\n",
      "\u001b[32m[I 12:11:57 InstallContribNbextensionsApp]\u001b[m Up to date: /usr/local/share/jupyter/nbextensions/code_prettify/demo-R.gif\r\n",
      "\u001b[32m[I 12:11:57 InstallContribNbextensionsApp]\u001b[m Up to date: /usr/local/share/jupyter/nbextensions/code_prettify/isort.js\r\n",
      "\u001b[32m[I 12:11:57 InstallContribNbextensionsApp]\u001b[m Up to date: /usr/local/share/jupyter/nbextensions/code_prettify/code_prettify.yaml\r\n",
      "\u001b[32m[I 12:11:57 InstallContribNbextensionsApp]\u001b[m Up to date: /usr/local/share/jupyter/nbextensions/code_prettify/2to3.js\r\n",
      "\u001b[32m[I 12:11:57 InstallContribNbextensionsApp]\u001b[m Up to date: /usr/local/share/jupyter/nbextensions/code_prettify/autopep8.yaml\r\n",
      "\u001b[32m[I 12:11:57 InstallContribNbextensionsApp]\u001b[m Up to date: /usr/local/share/jupyter/nbextensions/code_prettify/isort.yaml\r\n",
      "\u001b[32m[I 12:11:57 InstallContribNbextensionsApp]\u001b[m - Validating: \u001b[32mOK\u001b[0m\r\n",
      "\u001b[32m[I 12:11:57 InstallContribNbextensionsApp]\u001b[m Installing /Users/guidotournois/miniconda3/envs/vantage/lib/python3.7/site-packages/jupyter_contrib_nbextensions/nbextensions/code_prettify -> code_prettify\r\n",
      "\u001b[32m[I 12:11:57 InstallContribNbextensionsApp]\u001b[m Up to date: /usr/local/share/jupyter/nbextensions/code_prettify/demo-py.gif\r\n",
      "\u001b[32m[I 12:11:57 InstallContribNbextensionsApp]\u001b[m Up to date: /usr/local/share/jupyter/nbextensions/code_prettify/kernel_exec_on_cell.js\r\n",
      "\u001b[32m[I 12:11:57 InstallContribNbextensionsApp]\u001b[m Up to date: /usr/local/share/jupyter/nbextensions/code_prettify/demo-jv.gif\r\n",
      "\u001b[32m[I 12:11:57 InstallContribNbextensionsApp]\u001b[m Up to date: /usr/local/share/jupyter/nbextensions/code_prettify/README_2to3.md\r\n",
      "\u001b[32m[I 12:11:57 InstallContribNbextensionsApp]\u001b[m Up to date: /usr/local/share/jupyter/nbextensions/code_prettify/2to3.yaml\r\n",
      "\u001b[32m[I 12:11:57 InstallContribNbextensionsApp]\u001b[m Up to date: /usr/local/share/jupyter/nbextensions/code_prettify/README_autopep8.md\r\n",
      "\u001b[32m[I 12:11:57 InstallContribNbextensionsApp]\u001b[m Up to date: /usr/local/share/jupyter/nbextensions/code_prettify/demo_2to3.gif\r\n",
      "\u001b[32m[I 12:11:57 InstallContribNbextensionsApp]\u001b[m Up to date: /usr/local/share/jupyter/nbextensions/code_prettify/README_isort.md\r\n",
      "\u001b[32m[I 12:11:57 InstallContribNbextensionsApp]\u001b[m Up to date: /usr/local/share/jupyter/nbextensions/code_prettify/README_code_prettify.md\r\n",
      "\u001b[32m[I 12:11:57 InstallContribNbextensionsApp]\u001b[m Up to date: /usr/local/share/jupyter/nbextensions/code_prettify/README.md\r\n",
      "\u001b[32m[I 12:11:57 InstallContribNbextensionsApp]\u001b[m Up to date: /usr/local/share/jupyter/nbextensions/code_prettify/code_prettify.js\r\n",
      "\u001b[32m[I 12:11:57 InstallContribNbextensionsApp]\u001b[m Up to date: /usr/local/share/jupyter/nbextensions/code_prettify/autopep8.js\r\n",
      "\u001b[32m[I 12:11:57 InstallContribNbextensionsApp]\u001b[m Up to date: /usr/local/share/jupyter/nbextensions/code_prettify/demo-R.gif\r\n",
      "\u001b[32m[I 12:11:57 InstallContribNbextensionsApp]\u001b[m Up to date: /usr/local/share/jupyter/nbextensions/code_prettify/isort.js\r\n",
      "\u001b[32m[I 12:11:57 InstallContribNbextensionsApp]\u001b[m Up to date: /usr/local/share/jupyter/nbextensions/code_prettify/code_prettify.yaml\r\n",
      "\u001b[32m[I 12:11:57 InstallContribNbextensionsApp]\u001b[m Up to date: /usr/local/share/jupyter/nbextensions/code_prettify/2to3.js\r\n",
      "\u001b[32m[I 12:11:57 InstallContribNbextensionsApp]\u001b[m Up to date: /usr/local/share/jupyter/nbextensions/code_prettify/autopep8.yaml\r\n",
      "\u001b[32m[I 12:11:57 InstallContribNbextensionsApp]\u001b[m Up to date: /usr/local/share/jupyter/nbextensions/code_prettify/isort.yaml\r\n",
      "\u001b[32m[I 12:11:57 InstallContribNbextensionsApp]\u001b[m - Validating: \u001b[32mOK\u001b[0m\r\n",
      "\u001b[32m[I 12:11:57 InstallContribNbextensionsApp]\u001b[m Installing /Users/guidotournois/miniconda3/envs/vantage/lib/python3.7/site-packages/jupyter_contrib_nbextensions/nbextensions/code_prettify -> code_prettify\r\n",
      "\u001b[32m[I 12:11:57 InstallContribNbextensionsApp]\u001b[m Up to date: /usr/local/share/jupyter/nbextensions/code_prettify/demo-py.gif\r\n",
      "\u001b[32m[I 12:11:57 InstallContribNbextensionsApp]\u001b[m Up to date: /usr/local/share/jupyter/nbextensions/code_prettify/kernel_exec_on_cell.js\r\n",
      "\u001b[32m[I 12:11:57 InstallContribNbextensionsApp]\u001b[m Up to date: /usr/local/share/jupyter/nbextensions/code_prettify/demo-jv.gif\r\n",
      "\u001b[32m[I 12:11:57 InstallContribNbextensionsApp]\u001b[m Up to date: /usr/local/share/jupyter/nbextensions/code_prettify/README_2to3.md\r\n",
      "\u001b[32m[I 12:11:57 InstallContribNbextensionsApp]\u001b[m Up to date: /usr/local/share/jupyter/nbextensions/code_prettify/2to3.yaml\r\n",
      "\u001b[32m[I 12:11:57 InstallContribNbextensionsApp]\u001b[m Up to date: /usr/local/share/jupyter/nbextensions/code_prettify/README_autopep8.md\r\n",
      "\u001b[32m[I 12:11:57 InstallContribNbextensionsApp]\u001b[m Up to date: /usr/local/share/jupyter/nbextensions/code_prettify/demo_2to3.gif\r\n",
      "\u001b[32m[I 12:11:57 InstallContribNbextensionsApp]\u001b[m Up to date: /usr/local/share/jupyter/nbextensions/code_prettify/README_isort.md\r\n",
      "\u001b[32m[I 12:11:57 InstallContribNbextensionsApp]\u001b[m Up to date: /usr/local/share/jupyter/nbextensions/code_prettify/README_code_prettify.md\r\n",
      "\u001b[32m[I 12:11:57 InstallContribNbextensionsApp]\u001b[m Up to date: /usr/local/share/jupyter/nbextensions/code_prettify/README.md\r\n",
      "\u001b[32m[I 12:11:57 InstallContribNbextensionsApp]\u001b[m Up to date: /usr/local/share/jupyter/nbextensions/code_prettify/code_prettify.js\r\n",
      "\u001b[32m[I 12:11:57 InstallContribNbextensionsApp]\u001b[m Up to date: /usr/local/share/jupyter/nbextensions/code_prettify/autopep8.js\r\n",
      "\u001b[32m[I 12:11:57 InstallContribNbextensionsApp]\u001b[m Up to date: /usr/local/share/jupyter/nbextensions/code_prettify/demo-R.gif\r\n",
      "\u001b[32m[I 12:11:57 InstallContribNbextensionsApp]\u001b[m Up to date: /usr/local/share/jupyter/nbextensions/code_prettify/isort.js\r\n",
      "\u001b[32m[I 12:11:57 InstallContribNbextensionsApp]\u001b[m Up to date: /usr/local/share/jupyter/nbextensions/code_prettify/code_prettify.yaml\r\n",
      "\u001b[32m[I 12:11:57 InstallContribNbextensionsApp]\u001b[m Up to date: /usr/local/share/jupyter/nbextensions/code_prettify/2to3.js\r\n",
      "\u001b[32m[I 12:11:57 InstallContribNbextensionsApp]\u001b[m Up to date: /usr/local/share/jupyter/nbextensions/code_prettify/autopep8.yaml\r\n",
      "\u001b[32m[I 12:11:57 InstallContribNbextensionsApp]\u001b[m Up to date: /usr/local/share/jupyter/nbextensions/code_prettify/isort.yaml\r\n",
      "\u001b[32m[I 12:11:57 InstallContribNbextensionsApp]\u001b[m - Validating: \u001b[32mOK\u001b[0m\r\n",
      "\u001b[32m[I 12:11:57 InstallContribNbextensionsApp]\u001b[m Installing /Users/guidotournois/miniconda3/envs/vantage/lib/python3.7/site-packages/jupyter_contrib_nbextensions/nbextensions/code_prettify -> code_prettify\r\n",
      "\u001b[32m[I 12:11:57 InstallContribNbextensionsApp]\u001b[m Up to date: /usr/local/share/jupyter/nbextensions/code_prettify/demo-py.gif\r\n",
      "\u001b[32m[I 12:11:57 InstallContribNbextensionsApp]\u001b[m Up to date: /usr/local/share/jupyter/nbextensions/code_prettify/kernel_exec_on_cell.js\r\n",
      "\u001b[32m[I 12:11:57 InstallContribNbextensionsApp]\u001b[m Up to date: /usr/local/share/jupyter/nbextensions/code_prettify/demo-jv.gif\r\n",
      "\u001b[32m[I 12:11:57 InstallContribNbextensionsApp]\u001b[m Up to date: /usr/local/share/jupyter/nbextensions/code_prettify/README_2to3.md\r\n",
      "\u001b[32m[I 12:11:57 InstallContribNbextensionsApp]\u001b[m Up to date: /usr/local/share/jupyter/nbextensions/code_prettify/2to3.yaml\r\n",
      "\u001b[32m[I 12:11:57 InstallContribNbextensionsApp]\u001b[m Up to date: /usr/local/share/jupyter/nbextensions/code_prettify/README_autopep8.md\r\n",
      "\u001b[32m[I 12:11:57 InstallContribNbextensionsApp]\u001b[m Up to date: /usr/local/share/jupyter/nbextensions/code_prettify/demo_2to3.gif\r\n",
      "\u001b[32m[I 12:11:57 InstallContribNbextensionsApp]\u001b[m Up to date: /usr/local/share/jupyter/nbextensions/code_prettify/README_isort.md\r\n",
      "\u001b[32m[I 12:11:57 InstallContribNbextensionsApp]\u001b[m Up to date: /usr/local/share/jupyter/nbextensions/code_prettify/README_code_prettify.md\r\n",
      "\u001b[32m[I 12:11:57 InstallContribNbextensionsApp]\u001b[m Up to date: /usr/local/share/jupyter/nbextensions/code_prettify/README.md\r\n",
      "\u001b[32m[I 12:11:57 InstallContribNbextensionsApp]\u001b[m Up to date: /usr/local/share/jupyter/nbextensions/code_prettify/code_prettify.js\r\n",
      "\u001b[32m[I 12:11:57 InstallContribNbextensionsApp]\u001b[m Up to date: /usr/local/share/jupyter/nbextensions/code_prettify/autopep8.js\r\n",
      "\u001b[32m[I 12:11:57 InstallContribNbextensionsApp]\u001b[m Up to date: /usr/local/share/jupyter/nbextensions/code_prettify/demo-R.gif\r\n",
      "\u001b[32m[I 12:11:57 InstallContribNbextensionsApp]\u001b[m Up to date: /usr/local/share/jupyter/nbextensions/code_prettify/isort.js\r\n",
      "\u001b[32m[I 12:11:57 InstallContribNbextensionsApp]\u001b[m Up to date: /usr/local/share/jupyter/nbextensions/code_prettify/code_prettify.yaml\r\n",
      "\u001b[32m[I 12:11:57 InstallContribNbextensionsApp]\u001b[m Up to date: /usr/local/share/jupyter/nbextensions/code_prettify/2to3.js\r\n",
      "\u001b[32m[I 12:11:57 InstallContribNbextensionsApp]\u001b[m Up to date: /usr/local/share/jupyter/nbextensions/code_prettify/autopep8.yaml\r\n",
      "\u001b[32m[I 12:11:57 InstallContribNbextensionsApp]\u001b[m Up to date: /usr/local/share/jupyter/nbextensions/code_prettify/isort.yaml\r\n",
      "\u001b[32m[I 12:11:57 InstallContribNbextensionsApp]\u001b[m - Validating: \u001b[32mOK\u001b[0m\r\n",
      "\u001b[32m[I 12:11:57 InstallContribNbextensionsApp]\u001b[m Installing /Users/guidotournois/miniconda3/envs/vantage/lib/python3.7/site-packages/jupyter_contrib_nbextensions/nbextensions/load_tex_macros -> load_tex_macros\r\n",
      "\u001b[32m[I 12:11:57 InstallContribNbextensionsApp]\u001b[m Up to date: /usr/local/share/jupyter/nbextensions/load_tex_macros/load_tex_macros.yaml\r\n",
      "\u001b[32m[I 12:11:57 InstallContribNbextensionsApp]\u001b[m Up to date: /usr/local/share/jupyter/nbextensions/load_tex_macros/icon.png\r\n",
      "\u001b[32m[I 12:11:57 InstallContribNbextensionsApp]\u001b[m Up to date: /usr/local/share/jupyter/nbextensions/load_tex_macros/readme.md\r\n",
      "\u001b[32m[I 12:11:57 InstallContribNbextensionsApp]\u001b[m Up to date: /usr/local/share/jupyter/nbextensions/load_tex_macros/main.js\r\n",
      "\u001b[32m[I 12:11:57 InstallContribNbextensionsApp]\u001b[m - Validating: \u001b[32mOK\u001b[0m\r\n",
      "\u001b[32m[I 12:11:57 InstallContribNbextensionsApp]\u001b[m Installing /Users/guidotournois/miniconda3/envs/vantage/lib/python3.7/site-packages/jupyter_contrib_nbextensions/nbextensions/hide_header -> hide_header\r\n",
      "\u001b[32m[I 12:11:57 InstallContribNbextensionsApp]\u001b[m Up to date: /usr/local/share/jupyter/nbextensions/hide_header/hide_header.yaml\r\n",
      "\u001b[32m[I 12:11:57 InstallContribNbextensionsApp]\u001b[m Up to date: /usr/local/share/jupyter/nbextensions/hide_header/README.md\r\n",
      "\u001b[32m[I 12:11:57 InstallContribNbextensionsApp]\u001b[m Up to date: /usr/local/share/jupyter/nbextensions/hide_header/main.js\r\n",
      "\u001b[32m[I 12:11:57 InstallContribNbextensionsApp]\u001b[m - Validating: \u001b[32mOK\u001b[0m\r\n",
      "\u001b[32m[I 12:11:57 InstallContribNbextensionsApp]\u001b[m Installing /Users/guidotournois/miniconda3/envs/vantage/lib/python3.7/site-packages/jupyter_highlight_selected_word/static/highlight_selected_word -> highlight_selected_word\r\n",
      "\u001b[32m[I 12:11:57 InstallContribNbextensionsApp]\u001b[m Up to date: /usr/local/share/jupyter/nbextensions/highlight_selected_word/configurator.yaml\r\n",
      "\u001b[32m[I 12:11:57 InstallContribNbextensionsApp]\u001b[m Up to date: /usr/local/share/jupyter/nbextensions/highlight_selected_word/README.md\r\n",
      "\u001b[32m[I 12:11:57 InstallContribNbextensionsApp]\u001b[m Up to date: /usr/local/share/jupyter/nbextensions/highlight_selected_word/main.js\r\n",
      "\u001b[32m[I 12:11:57 InstallContribNbextensionsApp]\u001b[m - Validating: \u001b[32mOK\u001b[0m\r\n",
      "\u001b[32m[I 12:11:57 InstallContribNbextensionsApp]\u001b[m Installing /Users/guidotournois/miniconda3/envs/vantage/lib/python3.7/site-packages/latex_envs/static -> latex_envs\r\n",
      "\u001b[32m[I 12:11:57 InstallContribNbextensionsApp]\u001b[m Up to date: /usr/local/share/jupyter/nbextensions/latex_envs/icon.png\r\n",
      "\u001b[32m[I 12:11:57 InstallContribNbextensionsApp]\u001b[m Up to date: /usr/local/share/jupyter/nbextensions/latex_envs/latex_envs.yaml\r\n",
      "\u001b[32m[I 12:11:57 InstallContribNbextensionsApp]\u001b[m Up to date: /usr/local/share/jupyter/nbextensions/latex_envs/configuration_toolbar.png\r\n",
      "\u001b[32m[I 12:11:57 InstallContribNbextensionsApp]\u001b[m Up to date: /usr/local/share/jupyter/nbextensions/latex_envs/bibInNb4.js\r\n",
      "\u001b[32m[I 12:11:57 InstallContribNbextensionsApp]\u001b[m Up to date: /usr/local/share/jupyter/nbextensions/latex_envs/example_user_envs.json\r\n",
      "\u001b[32m[I 12:11:57 InstallContribNbextensionsApp]\u001b[m Up to date: /usr/local/share/jupyter/nbextensions/latex_envs/envsLatex.js\r\n",
      "\u001b[32m[I 12:11:57 InstallContribNbextensionsApp]\u001b[m Up to date: /usr/local/share/jupyter/nbextensions/latex_envs/main_toolbar.png\r\n",
      "\u001b[32m[I 12:11:57 InstallContribNbextensionsApp]\u001b[m Up to date: /usr/local/share/jupyter/nbextensions/latex_envs/envsLatex.json\r\n",
      "\u001b[32m[I 12:11:57 InstallContribNbextensionsApp]\u001b[m Up to date: /usr/local/share/jupyter/nbextensions/latex_envs/README.md\r\n",
      "\u001b[32m[I 12:11:57 InstallContribNbextensionsApp]\u001b[m Up to date: /usr/local/share/jupyter/nbextensions/latex_envs/thmsInNb4.js\r\n",
      "\u001b[32m[I 12:11:57 InstallContribNbextensionsApp]\u001b[m Up to date: /usr/local/share/jupyter/nbextensions/latex_envs/initNb.js\r\n",
      "\u001b[32m[I 12:11:57 InstallContribNbextensionsApp]\u001b[m Up to date: /usr/local/share/jupyter/nbextensions/latex_envs/latex_envs.css\r\n",
      "\u001b[32m[I 12:11:57 InstallContribNbextensionsApp]\u001b[m Up to date: /usr/local/share/jupyter/nbextensions/latex_envs/latex_envs.js\r\n",
      "\u001b[32m[I 12:11:57 InstallContribNbextensionsApp]\u001b[m Up to date: /usr/local/share/jupyter/nbextensions/latex_envs/bibtex2.js\r\n",
      "\u001b[32m[I 12:11:57 InstallContribNbextensionsApp]\u001b[m Up to date: /usr/local/share/jupyter/nbextensions/latex_envs/example.png\r\n",
      "\u001b[32m[I 12:11:57 InstallContribNbextensionsApp]\u001b[m Up to date: /usr/local/share/jupyter/nbextensions/latex_envs/doc/IEEEtran.bst\r\n",
      "\u001b[32m[I 12:11:57 InstallContribNbextensionsApp]\u001b[m Up to date: /usr/local/share/jupyter/nbextensions/latex_envs/doc/documentation.pdf\r\n",
      "\u001b[32m[I 12:11:57 InstallContribNbextensionsApp]\u001b[m Up to date: /usr/local/share/jupyter/nbextensions/latex_envs/doc/configuration_toolbar.png\r\n",
      "\u001b[32m[I 12:11:57 InstallContribNbextensionsApp]\u001b[m Up to date: /usr/local/share/jupyter/nbextensions/latex_envs/doc/biblio_ipython.bib\r\n",
      "\u001b[32m[I 12:11:57 InstallContribNbextensionsApp]\u001b[m Up to date: /usr/local/share/jupyter/nbextensions/latex_envs/doc/config_toolbar.png\r\n",
      "\u001b[32m[I 12:11:57 InstallContribNbextensionsApp]\u001b[m Up to date: /usr/local/share/jupyter/nbextensions/latex_envs/doc/documentation.tex\r\n",
      "\u001b[32m[I 12:11:57 InstallContribNbextensionsApp]\u001b[m Up to date: /usr/local/share/jupyter/nbextensions/latex_envs/doc/main_toolbar.png\r\n",
      "\u001b[32m[I 12:11:57 InstallContribNbextensionsApp]\u001b[m Up to date: /usr/local/share/jupyter/nbextensions/latex_envs/doc/README.md\r\n",
      "\u001b[32m[I 12:11:57 InstallContribNbextensionsApp]\u001b[m Up to date: /usr/local/share/jupyter/nbextensions/latex_envs/doc/latex_env_doc.ipynb\r\n",
      "\u001b[32m[I 12:11:57 InstallContribNbextensionsApp]\u001b[m Up to date: /usr/local/share/jupyter/nbextensions/latex_envs/doc/LaTeX_envs_menu.png\r\n",
      "\u001b[32m[I 12:11:57 InstallContribNbextensionsApp]\u001b[m Up to date: /usr/local/share/jupyter/nbextensions/latex_envs/doc/latex_env_doc.tex\r\n",
      "\u001b[32m[I 12:11:57 InstallContribNbextensionsApp]\u001b[m Up to date: /usr/local/share/jupyter/nbextensions/latex_envs/doc/header.tex\r\n",
      "\u001b[32m[I 12:11:57 InstallContribNbextensionsApp]\u001b[m Up to date: /usr/local/share/jupyter/nbextensions/latex_envs/doc/Toggles.png\r\n",
      "\u001b[32m[I 12:11:57 InstallContribNbextensionsApp]\u001b[m Up to date: /usr/local/share/jupyter/nbextensions/latex_envs/doc/latex_env_doc.html\r\n",
      "\u001b[32m[I 12:11:57 InstallContribNbextensionsApp]\u001b[m Up to date: /usr/local/share/jupyter/nbextensions/latex_envs/doc/example.png\r\n",
      "\u001b[32m[I 12:11:57 InstallContribNbextensionsApp]\u001b[m Up to date: /usr/local/share/jupyter/nbextensions/latex_envs/doc/.ipynb_checkpoints/latex_env_doc-checkpoint.ipynb\r\n",
      "\u001b[32m[I 12:11:57 InstallContribNbextensionsApp]\u001b[m Up to date: /usr/local/share/jupyter/nbextensions/latex_envs/doc/latex_env_doc_files/latex_env_doc_51_0.png\r\n",
      "\u001b[32m[I 12:11:57 InstallContribNbextensionsApp]\u001b[m Up to date: /usr/local/share/jupyter/nbextensions/latex_envs/doc/latex_env_doc_files/latex_env_doc_48_0.png\r\n",
      "\u001b[32m[I 12:11:57 InstallContribNbextensionsApp]\u001b[m Up to date: /usr/local/share/jupyter/nbextensions/latex_envs/doc/latex_env_doc_files/latex_env_doc_50_0.png\r\n",
      "\u001b[32m[I 12:11:57 InstallContribNbextensionsApp]\u001b[m Up to date: /usr/local/share/jupyter/nbextensions/latex_envs/doc/latex_env_doc_files/latex_env_doc_49_0.png\r\n",
      "\u001b[32m[I 12:11:57 InstallContribNbextensionsApp]\u001b[m Up to date: /usr/local/share/jupyter/nbextensions/latex_envs/doc/latex_env_doc_files/latex_env_doc_52_0.png\r\n",
      "\u001b[32m[I 12:11:57 InstallContribNbextensionsApp]\u001b[m Up to date: /usr/local/share/jupyter/nbextensions/latex_envs/doc/latex_env_doc_files/latex_env_doc_41_0.png\r\n",
      "\u001b[32m[I 12:11:57 InstallContribNbextensionsApp]\u001b[m Up to date: /usr/local/share/jupyter/nbextensions/latex_envs/doc/latex_env_doc_files/latex_env_doc_43_0.png\r\n",
      "\u001b[32m[I 12:11:57 InstallContribNbextensionsApp]\u001b[m Up to date: /usr/local/share/jupyter/nbextensions/latex_envs/doc/latex_env_doc_files/latex_env_doc_24_2.png\r\n",
      "\u001b[32m[I 12:11:57 InstallContribNbextensionsApp]\u001b[m Up to date: /usr/local/share/jupyter/nbextensions/latex_envs/doc/latex_env_doc_files/latex_env_doc_47_0.png\r\n",
      "\u001b[32m[I 12:11:57 InstallContribNbextensionsApp]\u001b[m Up to date: /usr/local/share/jupyter/nbextensions/latex_envs/doc/latex_env_doc_files/latex_env_doc_45_0.png\r\n",
      "\u001b[32m[I 12:11:57 InstallContribNbextensionsApp]\u001b[m Up to date: /usr/local/share/jupyter/nbextensions/latex_envs/doc/latex_env_doc_files/latex_env_doc_26_2.png\r\n",
      "\u001b[32m[I 12:11:57 InstallContribNbextensionsApp]\u001b[m Up to date: /usr/local/share/jupyter/nbextensions/latex_envs/doc/latex_env_doc_files/latex_env_doc_42_0.png\r\n",
      "\u001b[32m[I 12:11:57 InstallContribNbextensionsApp]\u001b[m Up to date: /usr/local/share/jupyter/nbextensions/latex_envs/doc/latex_env_doc_files/latex_env_doc_23_2.png\r\n",
      "\u001b[32m[I 12:11:57 InstallContribNbextensionsApp]\u001b[m Up to date: /usr/local/share/jupyter/nbextensions/latex_envs/doc/latex_env_doc_files/latex_env_doc_44_0.png\r\n",
      "\u001b[32m[I 12:11:57 InstallContribNbextensionsApp]\u001b[m Up to date: /usr/local/share/jupyter/nbextensions/latex_envs/doc/latex_env_doc_files/latex_env_doc_27_2.png\r\n",
      "\u001b[32m[I 12:11:57 InstallContribNbextensionsApp]\u001b[m Up to date: /usr/local/share/jupyter/nbextensions/latex_envs/doc/latex_env_doc_files/latex_env_doc_46_0.png\r\n",
      "\u001b[32m[I 12:11:57 InstallContribNbextensionsApp]\u001b[m - Validating: \u001b[32mOK\u001b[0m\r\n",
      "\u001b[32m[I 12:11:57 InstallContribNbextensionsApp]\u001b[m Installing jupyter_contrib_nbextensions items to config in /usr/local/etc/jupyter\r\n",
      "Enabling: jupyter_nbextensions_configurator\r\n",
      "- Writing config: /usr/local/etc/jupyter\r\n",
      "    - Validating...\r\n",
      "      jupyter_nbextensions_configurator 0.4.1 \u001b[32mOK\u001b[0m\r\n",
      "Enabling notebook nbextension nbextensions_configurator/config_menu/main...\r\n",
      "Enabling tree nbextension nbextensions_configurator/tree_tab/main...\r\n",
      "\u001b[32m[I 12:11:57 InstallContribNbextensionsApp]\u001b[m Enabling notebook extension contrib_nbextensions_help_item/main...\r\n",
      "\u001b[32m[I 12:11:57 InstallContribNbextensionsApp]\u001b[m       - Validating: \u001b[32mOK\u001b[0m\r\n",
      "\u001b[32m[I 12:11:57 InstallContribNbextensionsApp]\u001b[m - Editing config: /usr/local/etc/jupyter/jupyter_nbconvert_config.json\r\n",
      "\u001b[32m[I 12:11:57 InstallContribNbextensionsApp]\u001b[m --  Configuring nbconvert template path\r\n",
      "\u001b[32m[I 12:11:57 InstallContribNbextensionsApp]\u001b[m --  Configuring nbconvert preprocessors\r\n",
      "\u001b[32m[I 12:11:57 InstallContribNbextensionsApp]\u001b[m - Writing config: /usr/local/etc/jupyter/jupyter_nbconvert_config.json\r\n",
      "\u001b[32m[I 12:11:57 InstallContribNbextensionsApp]\u001b[m --  Writing updated config file /usr/local/etc/jupyter/jupyter_nbconvert_config.json\r\n"
     ]
    }
   ],
   "source": [
    "!jupyter contrib nbextension install"
   ]
  },
  {
   "cell_type": "code",
   "execution_count": 13,
   "metadata": {
    "scrolled": true,
    "slideshow": {
     "slide_type": "skip"
    }
   },
   "outputs": [
    {
     "name": "stdout",
     "output_type": "stream",
     "text": [
      "[NbConvertApp] Converting notebook Presentation.ipynb to slides\n",
      "[NbConvertApp] Writing 365261 bytes to Presentation.slides.html\n",
      "[NbConvertApp] Redirecting reveal.js requests to https://cdnjs.cloudflare.com/ajax/libs/reveal.js/3.5.0\n",
      "Serving your slides at http://127.0.0.1:8000/Presentation.slides.html\n",
      "Use Control-C to stop this server\n",
      "WARNING:tornado.access:404 GET /custom.css (127.0.0.1) 0.44ms\n",
      "WARNING:tornado.access:404 GET /custom.css (127.0.0.1) 0.80ms\n",
      "WARNING:tornado.access:404 GET /custom.css (127.0.0.1) 0.64ms\n",
      "^C\n",
      "\n",
      "Interrupted\n"
     ]
    }
   ],
   "source": [
    "!jupyter nbconvert --to slides Presentation.ipynb --post serve"
   ]
  },
  {
   "cell_type": "markdown",
   "metadata": {
    "slideshow": {
     "slide_type": "slide"
    }
   },
   "source": [
    "<center><img src=\"http://www.globalnerdy.com/wordpress/wp-content/uploads/2018/02/bro-do-you-even-git.jpg\" style=\"width: 700px;\"/></center>"
   ]
  },
  {
   "cell_type": "markdown",
   "metadata": {
    "collapsed": true,
    "slideshow": {
     "slide_type": "slide"
    }
   },
   "source": [
    "## Git train Vantage-AI\n",
    "\n",
    "\n",
    "<br><br><br>\n",
    "<center><img src=\"https://www.bergler.nl/wp-content/uploads/2018/02/git.jpg\" style=\"width: 500px;\" align=\"middle\"/></center>\n"
   ]
  },
  {
   "cell_type": "markdown",
   "metadata": {
    "slideshow": {
     "slide_type": "subslide"
    }
   },
   "source": [
    "# Goals of today\n",
    "* Understand the concept of git and version control\n",
    "* Learn the git basics\n",
    "* What is a good commit message\n",
    "* Git your way out of trouble\n",
    "* Learn what GitFlow is\n",
    "* Know where to find your answers in case everything goes wrong\n",
    "* Enjoy 🌈"
   ]
  },
  {
   "cell_type": "markdown",
   "metadata": {
    "slideshow": {
     "slide_type": "slide"
    }
   },
   "source": [
    "# Introduction to git"
   ]
  },
  {
   "cell_type": "markdown",
   "metadata": {
    "slideshow": {
     "slide_type": "subslide"
    }
   },
   "source": [
    "<center><img src=\"https://files.meetup.com/18422985/yuSjmlk.png\" alt=\"Drawing\" style=\"width: 900px;\"/></center>"
   ]
  },
  {
   "cell_type": "markdown",
   "metadata": {
    "slideshow": {
     "slide_type": "subslide"
    }
   },
   "source": [
    "# Companies using git\n",
    "* Google, Microsoft, Intel, Amazon, LinkedIn, Cisco, IBM, Accenture, Facebook, Rackspace, Yahoo, Apple, T-Mobile, Zendesk Lenovo, Atlassian, Netflix, Twitter, Dropbox, Paypall, Nasa, BigData Republic, Vantage-AI many others"
   ]
  },
  {
   "cell_type": "markdown",
   "metadata": {
    "slideshow": {
     "slide_type": "subslide"
    }
   },
   "source": [
    "## Alternatives for git? Sure!\n",
    "* Mercurial\n",
    "* Perforce\n",
    "* Trac\n",
    "* Bazaar"
   ]
  },
  {
   "cell_type": "markdown",
   "metadata": {
    "slideshow": {
     "slide_type": "fragment"
    }
   },
   "source": [
    "# However\n",
    "* Everbody just uses git\n",
    "* git is used at most of our clients"
   ]
  },
  {
   "cell_type": "markdown",
   "metadata": {
    "slideshow": {
     "slide_type": "subslide"
    }
   },
   "source": [
    "# Git comes in many flavours\n",
    "<table>\n",
    "<tr>\n",
    "    <td style=\"text-align:center;\"> <img src=\"https://pngimg.com/uploads/github/github_PNG40.png\"\n",
    "         style=\"height: 150px;\"/> <br> <a href=\"https://github.com/\"> Github</a></td>\n",
    "    <td style=\"text-align:center;\"> <img src=\"https://upload.wikimedia.org/wikipedia/commons/thumb/1/18/GitLab_Logo.svg/260px-GitLab_Logo.svg.png\" style=\"height: 150px;\"/> <br> <a href=\"https://gitlab.com/\"> Gitlab </a> </td>\n",
    "    <td style=\"text-align:center;\"> <img src=\"https://cdn.worldvectorlogo.com/logos/bitbucket.svg\" style=\"height: 150px;\"/> <br> <a href=\"https://bitbucket.org/\">Bitbucket</a> </td>\n",
    "    <td style=\"text-align:center;\"><img src=\"https://www.forecast.app/hubfs/New%20Website%20/integrations-logos/Azure%20DevOps.png\" style=\"height: 150px;\"/> <br> <a href=\"https://dev.azure.com/\"> Azure DevOps </a></td>\n",
    "        <td style=\"text-align:center;\"> <img src=\"https://a.fsdn.com/con/img/sandiego/logo-180x180.png\" style=\"height: 150px;\"/> <br> <a href=\"https://sourceforge.net/\">SourceForge</a> </td>\n",
    "\n",
    "</table>"
   ]
  },
  {
   "cell_type": "code",
   "execution_count": 11,
   "metadata": {
    "slideshow": {
     "slide_type": "notes"
    }
   },
   "outputs": [],
   "source": [
    "# </tr>\n",
    "#     <tr>\n",
    "#     <td style=\"text-align:center;\"><a href=\"https://github.com/\"> Github</a> </td>\n",
    "#     <td style=\"text-align:center;\"><a href=\"https://gitlab.com/\"> Gitlab </a> </td>\n",
    "#     <td style=\"text-align:center;\"><a href=\"https://bitbucket.org/\">Bitbucket</a> </td>\n",
    "#     <td style=\"text-align:center;\"><a href=\"https://dev.azure.com/\"> Azure DevOps </a> </td>\n",
    "#     <td style=\"text-align:center;\"><a href=\"https://sourceforge.net/\">SourceForge</a> </td>\n",
    "# </tr>"
   ]
  },
  {
   "cell_type": "markdown",
   "metadata": {
    "slideshow": {
     "slide_type": "slide"
    }
   },
   "source": [
    "# Outline\n",
    "* Introduction ✓\n",
    "* General idea\n",
    "* Setup*\n",
    "* Creating your first repo*\n",
    "* Every day commands*\n",
    "* Every week commands*\n",
    "* Every month commands*\n",
    "* Fixing Mistakes*\n",
    "* GitFlow"
   ]
  },
  {
   "cell_type": "markdown",
   "metadata": {
    "slideshow": {
     "slide_type": "slide"
    }
   },
   "source": [
    "# General idea"
   ]
  },
  {
   "cell_type": "markdown",
   "metadata": {
    "slideshow": {
     "slide_type": "subslide"
    }
   },
   "source": [
    "<center><img src=\"https://imgs.xkcd.com/comics/git.png\" alt=\"Drawing\" style=\"width: 400px;\"/></center>"
   ]
  },
  {
   "cell_type": "markdown",
   "metadata": {
    "slideshow": {
     "slide_type": "subslide"
    }
   },
   "source": [
    "# Why to use git?\n",
    "* Git is a free, fast and open source distributed version control system \n",
    "* Git let's you store everything\n",
    "* Git let's you go back in time\n",
    "* Git facilitates sensible collaboration with others in the same code base\n",
    "* Hard to master, but very powerfull"
   ]
  },
  {
   "cell_type": "markdown",
   "metadata": {
    "slideshow": {
     "slide_type": "subslide"
    }
   },
   "source": [
    "<center><img src=\"https://images3.memedroid.com/images/UPLOADED29/5b7d571106c71.jpeg\" style=\"width:500px\"></center>"
   ]
  },
  {
   "cell_type": "markdown",
   "metadata": {
    "slideshow": {
     "slide_type": "subslide"
    }
   },
   "source": [
    "\n",
    "# 4 git stages for a file in working directory\n",
    "\n",
    "<br>\n",
    "<center><img src=\"https://git-scm.com/book/en/v2/images/lifecycle.png\" style=\"width: 700px;\"/></center>\n",
    "\n"
   ]
  },
  {
   "cell_type": "markdown",
   "metadata": {
    "slideshow": {
     "slide_type": "subslide"
    }
   },
   "source": [
    "# Committing to your changes\n",
    "<center><img src=\"https://res.cloudinary.com/practicaldev/image/fetch/s--Si7ksd-d--/c_limit%2Cf_auto%2Cfl_progressive%2Cq_auto%2Cw_880/https://cdn-images-1.medium.com/max/800/1%2AdiRLm1S5hkVoh5qeArND0Q.png\" style=\"width: 700px;\"/></center>\n"
   ]
  },
  {
   "cell_type": "markdown",
   "metadata": {
    "slideshow": {
     "slide_type": "subslide"
    }
   },
   "source": [
    "<br>\n",
    "<center><img src=\"https://git-scm.com/book/en/v2/images/areas.png\" style=\"width: 700px;\"/></center>"
   ]
  },
  {
   "cell_type": "markdown",
   "metadata": {
    "slideshow": {
     "slide_type": "subslide"
    }
   },
   "source": [
    "# Everything combined\n",
    "<center><img src=\"https://pixelpioneers.co/imager/uploads/photos/271/git-local-remote_25c2603fcd80fc2aa4a784bfc41e1600.png\" style=\"width: 500px;\"/></center>"
   ]
  },
  {
   "cell_type": "markdown",
   "metadata": {
    "slideshow": {
     "slide_type": "subslide"
    }
   },
   "source": [
    "# Working together via the remote repo\n",
    "<center><img src=\"https://git-scm.com/book/en/v2/images/centralized_workflow.png\" style=\"width: 700px;\"/></center>\n"
   ]
  },
  {
   "cell_type": "markdown",
   "metadata": {
    "slideshow": {
     "slide_type": "subslide"
    }
   },
   "source": [
    "![](https://www.meme-arsenal.com/memes/407a8577a3913d64ce16b2b4c180e1ef.jpg)"
   ]
  },
  {
   "cell_type": "markdown",
   "metadata": {
    "slideshow": {
     "slide_type": "slide"
    }
   },
   "source": [
    "# Outline\n",
    "* Introduction ✓\n",
    "* General idea ✓\n",
    "* Setup*\n",
    "* Creating your first repo*\n",
    "* Every day commands*\n",
    "* Every week commands*\n",
    "* Every month commands*\n",
    "* Fixing Mistakes*\n",
    "* GitFlow"
   ]
  },
  {
   "cell_type": "markdown",
   "metadata": {
    "slideshow": {
     "slide_type": "slide"
    }
   },
   "source": [
    "# Setup, before first time use of git \n",
    "* Let git know who you are\n",
    "* SSH keys (Vantage AI requires 2-step verification) "
   ]
  },
  {
   "cell_type": "markdown",
   "metadata": {
    "slideshow": {
     "slide_type": "subslide"
    }
   },
   "source": [
    "# Setup\n",
    "## Let git know who you are\n",
    "* Go to terminal\n",
    "* ```$ git config --global user.name \"Your Name\"```\n",
    "* ```$ git config --global user.email guido@example.com```"
   ]
  },
  {
   "cell_type": "markdown",
   "metadata": {
    "slideshow": {
     "slide_type": "subslide"
    }
   },
   "source": [
    "# Setup\n",
    "## SSH keys (Vantage AI requires 2-step verification)  \n",
    "* You must verify that your computer is allowed to push to the remote\n",
    "* Because Vantage AI requires two step verification, we need SSH keys\n",
    "* Google for ```github ssh key```\n",
    "* Follow steps\n",
    "https://help.github.com/en/enterprise/2.17/user/authenticating-to-github/connecting-to-github-with-ssh\n"
   ]
  },
  {
   "cell_type": "markdown",
   "metadata": {
    "slideshow": {
     "slide_type": "slide"
    }
   },
   "source": [
    "# Outline\n",
    "* Introduction ✓\n",
    "* General idea ✓\n",
    "* Setup* ✓\n",
    "* Creating your first repo*\n",
    "* Every day commands*\n",
    "* Every week commands*\n",
    "* Every month commands*\n",
    "* Fixing Mistakes*\n",
    "* GitFlow"
   ]
  },
  {
   "cell_type": "markdown",
   "metadata": {
    "slideshow": {
     "slide_type": "slide"
    }
   },
   "source": [
    "# Creating or cloning your first repo"
   ]
  },
  {
   "cell_type": "markdown",
   "metadata": {
    "slideshow": {
     "slide_type": "subslide"
    }
   },
   "source": [
    "# Clone an existing repo with:\n",
    "\n",
    "`$ git clone git@github.com:Vantage-AI/Vantage_AI_dashboard.git`"
   ]
  },
  {
   "cell_type": "markdown",
   "metadata": {
    "slideshow": {
     "slide_type": "fragment"
    }
   },
   "source": [
    "# Or set up your own git repo"
   ]
  },
  {
   "cell_type": "markdown",
   "metadata": {
    "slideshow": {
     "slide_type": "subslide"
    }
   },
   "source": [
    "## Set up a git repository locally\n",
    "* Initialize a folder as a git repository: `$ git init`\n",
    "* Create a README.md\n",
    "* Stage files to track: `$ git add README.md`\n",
    "* Commit files <br>\n",
    "`$ git commit -m \"Add readme to repo\"` or just use ( `git commit` )"
   ]
  },
  {
   "cell_type": "markdown",
   "metadata": {
    "slideshow": {
     "slide_type": "subslide"
    }
   },
   "source": [
    "![](https://media.makeameme.org/created/git-init-i.jpg)"
   ]
  },
  {
   "cell_type": "markdown",
   "metadata": {
    "slideshow": {
     "slide_type": "subslide"
    }
   },
   "source": [
    "## Set up a remote repository\n",
    "* Go to https://github.com/new or some other website that let's you host git remotes\n",
    "* Enter a name of your repo and create!\n",
    "* You should see something as https://github.com/GuidoTournois/test"
   ]
  },
  {
   "cell_type": "markdown",
   "metadata": {
    "slideshow": {
     "slide_type": "subslide"
    }
   },
   "source": [
    "## Synchronise you local repo with the remote repo\n",
    "* Add remote:<br>\n",
    "`$ git remote add origin` <br>\n",
    "`$ git@github.com:<username>/<repositoryname>.git`<br>\n",
    "* `$ git push -u origin master`\n",
    "<br><br>\n",
    "*The -u option automatically links your repo to a central one (origin master). That way, in the future, Git \"knows\" where you want to push to and where you want to pull from, so you can use git pull or git push without arguments.*"
   ]
  },
  {
   "cell_type": "markdown",
   "metadata": {
    "slideshow": {
     "slide_type": "subslide"
    }
   },
   "source": [
    "# `.gitignore`\n",
    "* Ignore unwanted files from git"
   ]
  },
  {
   "cell_type": "markdown",
   "metadata": {},
   "source": [
    "* Such as: .pyc, .ipynb_checkpoints, .env, config.yaml"
   ]
  },
  {
   "cell_type": "markdown",
   "metadata": {},
   "source": [
    "* or passwords"
   ]
  },
  {
   "cell_type": "markdown",
   "metadata": {
    "slideshow": {
     "slide_type": "subslide"
    }
   },
   "source": [
    "# ProTip: Set a global .gitignore.\n",
    "`$ nano ~/.gitignore_global`<br>\n",
    "`$ git config --global core.excludesfile ~/.gitignore_global`"
   ]
  },
  {
   "cell_type": "markdown",
   "metadata": {
    "slideshow": {
     "slide_type": "slide"
    }
   },
   "source": [
    "## Assignment - Setup a repo\n",
    "Create a new repository with README.md and .gitignore file containing the following:\n",
    "\n",
    "* README.md: <br>\n",
    "`# BOOM \n",
    "This is my first repository`\n",
    "\n",
    "* .gitignore: <br>\n",
    "`# Jupyter Notebook\n",
    ".ipynb_checkpoints` <br>\n",
    "`# Environments\n",
    ".env`\n"
   ]
  },
  {
   "cell_type": "markdown",
   "metadata": {
    "slideshow": {
     "slide_type": "subslide"
    }
   },
   "source": [
    "# Great job!\n",
    "<center><img src=\"https://media.giphy.com/media/nXxOjZrbnbRxS/source.gif\" style=\"width:300px\"></center>"
   ]
  },
  {
   "cell_type": "markdown",
   "metadata": {
    "slideshow": {
     "slide_type": "slide"
    }
   },
   "source": [
    "# Outline\n",
    "* Introduction ✓\n",
    "* General idea ✓\n",
    "* Setup* ✓\n",
    "* Creating your first repo* ✓\n",
    "* Every day commands*\n",
    "* Every week commands*\n",
    "* Every month commands*\n",
    "* Fixing Mistakes*\n",
    "* GitFlow"
   ]
  },
  {
   "cell_type": "markdown",
   "metadata": {
    "slideshow": {
     "slide_type": "slide"
    }
   },
   "source": [
    "# Every day commands"
   ]
  },
  {
   "cell_type": "markdown",
   "metadata": {
    "slideshow": {
     "slide_type": "subslide"
    }
   },
   "source": [
    "# Every day commands\n",
    "* `git clone`: clones a repository to your local machine (SSH vs HTTPS)"
   ]
  },
  {
   "cell_type": "markdown",
   "metadata": {
    "slideshow": {
     "slide_type": "fragment"
    }
   },
   "source": [
    "* `git status`: check the status of your repo"
   ]
  },
  {
   "cell_type": "markdown",
   "metadata": {
    "slideshow": {
     "slide_type": "fragment"
    }
   },
   "source": [
    "* `git add`: add a file to staging area."
   ]
  },
  {
   "cell_type": "markdown",
   "metadata": {
    "slideshow": {
     "slide_type": "fragment"
    }
   },
   "source": [
    "* `git rm`: stage changed files for commit."
   ]
  },
  {
   "cell_type": "markdown",
   "metadata": {
    "slideshow": {
     "slide_type": "fragment"
    }
   },
   "source": [
    "* In the staging area you can review all files that are staged for commit"
   ]
  },
  {
   "cell_type": "markdown",
   "metadata": {
    "slideshow": {
     "slide_type": "fragment"
    }
   },
   "source": [
    "* `git commit`: commit your staged files to the repository"
   ]
  },
  {
   "cell_type": "markdown",
   "metadata": {
    "slideshow": {
     "slide_type": "subslide"
    }
   },
   "source": [
    "# git commit - Delta based VSC vs. Snapshots?\n",
    "<br>\n",
    "<center>\n",
    "    Delta:\n",
    "<img src=\"https://git-scm.com/book/en/v2/images/deltas.png\" style=\"width: 400px;\"/>\n",
    "    Snapshots: \n",
    "<img src=\"https://git-scm.com/book/en/v2/images/snapshots.png\" style=\"width: 400px;\"/></center>"
   ]
  },
  {
   "cell_type": "markdown",
   "metadata": {
    "slideshow": {
     "slide_type": "fragment"
    }
   },
   "source": [
    "## Snapshots!"
   ]
  },
  {
   "cell_type": "markdown",
   "metadata": {
    "slideshow": {
     "slide_type": "subslide"
    }
   },
   "source": [
    "# git commit message\n",
    "A commit usually contains a header with a small description of the changes applied, the commit message."
   ]
  },
  {
   "cell_type": "markdown",
   "metadata": {
    "slideshow": {
     "slide_type": "fragment"
    }
   },
   "source": [
    "<center><img src=\"https://imgs.xkcd.com/comics/git_commit_2x.png\" style=\"width:600px;\"/></center>"
   ]
  },
  {
   "cell_type": "markdown",
   "metadata": {
    "slideshow": {
     "slide_type": "subslide"
    }
   },
   "source": [
    "<center><img src=\"https://encrypted-tbn0.gstatic.com/images?q=tbn:ANd9GcQvz3khE8CJnyucbakuuawMuJjYZ6vKx8CB_fywstfzA1Rft0Gp&s\" style=\"width:400px;\"></center>"
   ]
  },
  {
   "cell_type": "markdown",
   "metadata": {
    "slideshow": {
     "slide_type": "subslide"
    }
   },
   "source": [
    "# git commit message - why it is important\n",
    "\n",
    "* Communicate context about a change to fellow developers and future self\n",
    "* A diff tells what changed, the commit message can tell you why\n",
    "* vicious cycle --> maintainable code base"
   ]
  },
  {
   "cell_type": "markdown",
   "metadata": {
    "slideshow": {
     "slide_type": "subslide"
    }
   },
   "source": [
    "# git commit message\n",
    "<center>\n",
    "<img src=\"https://mk0osnewswb2dmu4h0a.kinstacdn.com/images/comics/wtfm.jpg\"></center>\n",
    "A good commit message can reduce the WTFs/minute"
   ]
  },
  {
   "cell_type": "markdown",
   "metadata": {
    "slideshow": {
     "slide_type": "subslide"
    }
   },
   "source": [
    "# git commit message\n",
    "\n",
    "Always follow these rules:\n",
    "1. The message starts with a capital letter, is 50 characters (or less), and has no punctuation at the end\n",
    "2. It should be in the imperative voice. i.e. *‘Add function to create a random number’* or *‘Refactor code for readability’*\n",
    "3. It should complete the sentence: *If accepted, this commit will ...*"
   ]
  },
  {
   "cell_type": "markdown",
   "metadata": {
    "slideshow": {
     "slide_type": "fragment"
    }
   },
   "source": [
    "**Tip:** If you’re having a hard time writing a good commit message, you might be committing too many changes at once"
   ]
  },
  {
   "cell_type": "markdown",
   "metadata": {
    "slideshow": {
     "slide_type": "subslide"
    }
   },
   "source": [
    "# ProTip: `$ git add --patch `\n",
    "When you again did to much work to put in a single commit...\n",
    "<center><img src=\"https://media.giphy.com/media/LmNwrBhejkK9EFP504/source.gif\" style=\"width:400px\"></center>"
   ]
  },
  {
   "cell_type": "markdown",
   "metadata": {
    "slideshow": {
     "slide_type": "fragment"
    }
   },
   "source": [
    "<b>go over each change and decide wether you want to stage it for the commit</b>"
   ]
  },
  {
   "cell_type": "markdown",
   "metadata": {
    "slideshow": {
     "slide_type": "subslide"
    }
   },
   "source": [
    "<center><img src=\"https://encrypted-tbn0.gstatic.com/images?q=tbn%3AANd9GcTv0p9vTPHEbvwe8jQ0LeI0r0K4AUw1waHquW4PCLMUVj6_VUjw\" style=\"width:600px\"></center>"
   ]
  },
  {
   "cell_type": "markdown",
   "metadata": {
    "slideshow": {
     "slide_type": "subslide"
    }
   },
   "source": [
    "# Every day commands\n",
    "* `$ git log`: show all commits from the current branch"
   ]
  },
  {
   "cell_type": "markdown",
   "metadata": {
    "slideshow": {
     "slide_type": "fragment"
    }
   },
   "source": [
    "* `$ git diff file`: Difference of file with previous commit"
   ]
  },
  {
   "cell_type": "markdown",
   "metadata": {
    "slideshow": {
     "slide_type": "fragment"
    }
   },
   "source": [
    "* `$ git diff 1384c4c7c742fa 8871edc128`: Difference between two commits"
   ]
  },
  {
   "cell_type": "markdown",
   "metadata": {},
   "source": [
    "* `$ git show 8871edc128`: Show details of a commit"
   ]
  },
  {
   "cell_type": "markdown",
   "metadata": {
    "slideshow": {
     "slide_type": "fragment"
    }
   },
   "source": [
    "* `$ git checkout 8871edc128`: Go back in time to a certain commit"
   ]
  },
  {
   "cell_type": "markdown",
   "metadata": {
    "slideshow": {
     "slide_type": "subslide"
    }
   },
   "source": [
    "* `git push`: push your local commits to the server"
   ]
  },
  {
   "cell_type": "markdown",
   "metadata": {
    "slideshow": {
     "slide_type": "subslide"
    }
   },
   "source": [
    "# git push\n",
    "<center><img src=\"https://www.atlassian.com/dam/jcr:f148974e-7d4d-4c0e-bd31-8ac5467d1e6a/04.svg\" style=\"width: 500px;\"/></center>"
   ]
  },
  {
   "cell_type": "markdown",
   "metadata": {
    "slideshow": {
     "slide_type": "slide"
    }
   },
   "source": [
    "# Assignment - Every day commands\n",
    "\n",
    "* Clone the repo `git-assignment-2`. \n",
    "* It contains a magic 8 ball script `8ball.py` \n",
    "* When you shake it, it will tell you whether you will survive this training\n",
    "\n",
    "(https://github.com/Vantage-AI/git-assignment-basics)\n"
   ]
  },
  {
   "cell_type": "markdown",
   "metadata": {
    "slideshow": {
     "slide_type": "subslide"
    }
   },
   "source": [
    "# Assignment - Every day commands\n",
    "\n",
    "<b>Please perform the folowing actions</b>\n",
    "1. Consult whether you will survive this training\n",
    "1. Change one or more of the magic 8 ball answers in your favo editor and save file\n",
    "2. Check the status of your local repo in the terminal\n",
    "3. Add modified files to staging area, maybe check status again\n",
    "4. Commit your changes and look at the log of the repo\n",
    "5. Check the differences between your commit and the previous one\n",
    "5. Push your changes to the remote on branch master\n",
    "\n",
    "*Consult https://www.atlassian.com/git/tutorials if needed*"
   ]
  },
  {
   "cell_type": "markdown",
   "metadata": {
    "slideshow": {
     "slide_type": "subslide"
    }
   },
   "source": [
    "<center><img src=\"https://sagarhani.files.wordpress.com/2016/01/git.jpg?w=700\" style=\"width:900px;\"/></center>"
   ]
  },
  {
   "cell_type": "markdown",
   "metadata": {
    "slideshow": {
     "slide_type": "subslide"
    }
   },
   "source": [
    "# For some git push did not work... What is the matter?"
   ]
  },
  {
   "cell_type": "markdown",
   "metadata": {
    "slideshow": {
     "slide_type": "subslide"
    }
   },
   "source": [
    "<center><img src=\"https://www.atlassian.com/dam/jcr:00d011ed-03dc-440f-afc5-9b13d5e14fbf/bubble%20diagram-01.svg\" style=\"width: 750px;\"/></center>\n",
    "<b>Your local origin/master is not the same as the remote origin. There are now two versions of master, the remote one with new changes, and your local one, also with new changes. Combining these commits is not trivial!</b>"
   ]
  },
  {
   "cell_type": "markdown",
   "metadata": {
    "slideshow": {
     "slide_type": "slide"
    }
   },
   "source": [
    "# Outline\n",
    "* Introduction ✓\n",
    "* General idea ✓\n",
    "* Setup* ✓\n",
    "* Creating your first repo* ✓\n",
    "* Every day commands* ✓\n",
    "* Every week commands*\n",
    "* Every month commands*\n",
    "* Fixing Mistakes*\n",
    "* GitFlow"
   ]
  },
  {
   "cell_type": "markdown",
   "metadata": {
    "slideshow": {
     "slide_type": "subslide"
    }
   },
   "source": [
    "# ProTip:\n",
    "`main.py`:"
   ]
  },
  {
   "cell_type": "code",
   "execution_count": null,
   "metadata": {},
   "outputs": [],
   "source": [
    "import pandas as pd\n",
    "from pyspark.sql import SparkSession\n",
    "\n",
    "def load_data():\n",
    "    spark = SparkSession \\\n",
    "        .builder \\\n",
    "        .getOrCreate()\n",
    "\n",
    "    df = (spark.read\n",
    "               .format('csv')\n",
    "               .option('header','True')\n",
    "               .option('sep','|').load(\"data.csv\")\n",
    "    )\n",
    "    \n",
    "# def load_data():\n",
    "#     df = pd.read_csv('data.csv', header=True)\n",
    "#     return df\n",
    "        \n",
    "if __name__ == \"__main__\":\n",
    "    print(load_data())"
   ]
  },
  {
   "cell_type": "markdown",
   "metadata": {
    "slideshow": {
     "slide_type": "subslide"
    }
   },
   "source": [
    "#  ProTip: Don't turn your codebase into a graveyard\n",
    "<br>\n",
    "<center><img src=\"https://media3.giphy.com/media/WIzX83EliFzMs/giphy.gif?cid=790b7611bdd8fdcb5ff09601ebee8d695952d2bd15a5bf37&rid=giphy.gif\" style=\"width:600px;\"></center>\n"
   ]
  },
  {
   "cell_type": "markdown",
   "metadata": {
    "slideshow": {
     "slide_type": "slide"
    }
   },
   "source": [
    "# `git coffee`\n",
    "![](https://images-na.ssl-images-amazon.com/images/I/51cwzvjWFhL._SX425_.jpg)"
   ]
  },
  {
   "cell_type": "markdown",
   "metadata": {
    "slideshow": {
     "slide_type": "slide"
    }
   },
   "source": [
    "# Every week commands"
   ]
  },
  {
   "cell_type": "markdown",
   "metadata": {
    "slideshow": {
     "slide_type": "subslide"
    }
   },
   "source": [
    "# git pull\n",
    "<center><img src=\"https://www.atlassian.com/dam/jcr:b3a663dc-1985-40df-b0a5-c6bcbacd71af/bubble%20diagram-02.svg\" style=\"width: 750px;\"/></center>\n",
    "<b>Using git pull you can download changes committed to the remote and merge them with your local work. Then, you can push your local commit with the changes (actually merge instructions) to the remote<br></b>\n",
    "NB: git pull is actually git fetch and then git merge"
   ]
  },
  {
   "cell_type": "markdown",
   "metadata": {
    "slideshow": {
     "slide_type": "subslide"
    }
   },
   "source": [
    "# git fetch\n",
    "<center>\n",
    "<img src=\"https://www.atlassian.com/dam/jcr:0718ae20-0dc5-482c-a38c-25e4f1a1a3b0/02.svg\">\n",
    "</center>\n",
    "<b>git fetch downloads all commits from the remote and shows them as a different branch</b> <br>\n",
    "NB: You can check this with: `git branch -a`"
   ]
  },
  {
   "cell_type": "markdown",
   "metadata": {
    "slideshow": {
     "slide_type": "subslide"
    }
   },
   "source": [
    "# git merge \n",
    "![](https://www.atlassian.com/dam/jcr:86eba9ec-9391-45ea-800a-948cec1f2ed7/Branch-2.png)"
   ]
  },
  {
   "cell_type": "markdown",
   "metadata": {
    "slideshow": {
     "slide_type": "subslide"
    }
   },
   "source": [
    "# git merge \n",
    "![](https://www.atlassian.com/dam/jcr:83323200-3c57-4c29-9b7e-e67e98745427/Branch-1.png)"
   ]
  },
  {
   "cell_type": "markdown",
   "metadata": {
    "slideshow": {
     "slide_type": "subslide"
    }
   },
   "source": [
    "# Merge conflicts"
   ]
  },
  {
   "cell_type": "markdown",
   "metadata": {
    "slideshow": {
     "slide_type": "fragment"
    }
   },
   "source": [
    "**In terminal**<br>\n",
    "```$ git merge feature_branch\n",
    "Auto-merging model.py\n",
    "CONFLICT (content): Merge conflict in model.py\n",
    "Automatic merge failed; fix conflicts and then commit the result.```"
   ]
  },
  {
   "cell_type": "markdown",
   "metadata": {
    "slideshow": {
     "slide_type": "subslide"
    }
   },
   "source": [
    "merge conflicts show up in code like:"
   ]
  },
  {
   "cell_type": "code",
   "execution_count": null,
   "metadata": {},
   "outputs": [],
   "source": [
    "# in file model.py:\n",
    "import numpy\n",
    "<<<<<<< HEAD\n",
    "    import random\n",
    "=======\n",
    "    from random import sample\n",
    ">>>>>>> master\n",
    "import pandas as pd"
   ]
  },
  {
   "cell_type": "markdown",
   "metadata": {},
   "source": [
    "HEAD refers to what you had locally. Master refers to what was on the remote branche. <br>\n",
    "Merge conflicts have to be solved manually."
   ]
  },
  {
   "cell_type": "markdown",
   "metadata": {
    "slideshow": {
     "slide_type": "subslide"
    }
   },
   "source": [
    "Don't care to fix things and just want to overwrite history with your changes?<br>"
   ]
  },
  {
   "cell_type": "markdown",
   "metadata": {
    "slideshow": {
     "slide_type": "fragment"
    }
   },
   "source": [
    "<center><img src=\"https://i.imgflip.com/lrihf.jpg\"/ style=\"width: 500px;\"></center>"
   ]
  },
  {
   "cell_type": "markdown",
   "metadata": {
    "slideshow": {
     "slide_type": "fragment"
    }
   },
   "source": [
    "Usually not what you want"
   ]
  },
  {
   "cell_type": "markdown",
   "metadata": {
    "slideshow": {
     "slide_type": "subslide"
    }
   },
   "source": [
    "# Merge conflict\n",
    "* Fix conflicts in the code\n",
    "* Commit the result\n",
    "* Continue with your work"
   ]
  },
  {
   "cell_type": "markdown",
   "metadata": {
    "slideshow": {
     "slide_type": "subslide"
    }
   },
   "source": [
    "# git branch\n",
    "* Work on different developments in parallel.\n",
    "\n",
    "### advantages using branches in development \n",
    "* It gives you the chance to clean up your future's history before merging it into the main branch.\n",
    "* This makes it harder for unstable code to get merged into the main code base.\n",
    "* When you want to add a new feature or fix a bug—no matter how big or how small—you spawn a new branch to encapsulate your change"
   ]
  },
  {
   "cell_type": "markdown",
   "metadata": {
    "slideshow": {
     "slide_type": "subslide"
    }
   },
   "source": [
    "<center><img src=\"https://www.atlassian.com/dam/jcr:746be214-eb99-462c-9319-04a4d2eeebfa/01.svg\" style=\"width:800px;\"></center>"
   ]
  },
  {
   "cell_type": "markdown",
   "metadata": {
    "slideshow": {
     "slide_type": "subslide"
    }
   },
   "source": [
    "# git branch\n",
    "* possible to work on multiple branches in parallel\n",
    "* keeps the main master branch free from questionable code"
   ]
  },
  {
   "cell_type": "markdown",
   "metadata": {
    "slideshow": {
     "slide_type": "subslide"
    }
   },
   "source": [
    "# git branch\n",
    "* Create a branch with:<br>\n",
    "`$ git branch crazy-experiment`\n",
    "* Note: this only creates the new branch. \n",
    "* To start adding commits to it, select it with <br> `$ git checkout crazy-experiment`\n",
    "* Delete a branch with<br>\n",
    "`$ git branch -d crazy-experiment`"
   ]
  },
  {
   "cell_type": "markdown",
   "metadata": {
    "slideshow": {
     "slide_type": "subslide"
    }
   },
   "source": [
    "# git checkout\n",
    "* git checkout not only for going back to a previous commits\n",
    "* Also to switch between branches\n",
    "* Or directly create branch using checkout with <br>\n",
    "`$ git checkout -b crazy-experiment`"
   ]
  },
  {
   "cell_type": "markdown",
   "metadata": {
    "slideshow": {
     "slide_type": "subslide"
    }
   },
   "source": [
    "![](http://marklodato.github.io/visual-git-guide/checkout-branch.svg)"
   ]
  },
  {
   "cell_type": "markdown",
   "metadata": {
    "slideshow": {
     "slide_type": "subslide"
    }
   },
   "source": [
    "![](http://marklodato.github.io/visual-git-guide/checkout-detached.svg)"
   ]
  },
  {
   "cell_type": "markdown",
   "metadata": {
    "slideshow": {
     "slide_type": "skip"
    }
   },
   "source": [
    "![](https://git-scm.com/book/en/v2/images/head-to-master.png)"
   ]
  },
  {
   "cell_type": "markdown",
   "metadata": {
    "slideshow": {
     "slide_type": "skip"
    }
   },
   "source": [
    "![](https://git-scm.com/book/en/v2/images/head-to-testing.png)"
   ]
  },
  {
   "cell_type": "markdown",
   "metadata": {
    "slideshow": {
     "slide_type": "subslide"
    }
   },
   "source": [
    "# git stash\n",
    "* `$ git stash` temporarily shelves (or stashes) changes you've made to your working directory\n",
    "* Reapply previously stashed changes with git `$ stash apply`"
   ]
  },
  {
   "cell_type": "markdown",
   "metadata": {
    "slideshow": {
     "slide_type": "slide"
    }
   },
   "source": [
    "# Assignment - Every week commands\n",
    "\n",
    "\n",
    "7. Use `pull/fetch/merge/push` to combine your work with the changes found on the remote repository on the branch **master**\n",
    "8. Now create and checkout a new branch locally and do some edits, e.g. put random files in it\n",
    "8. Commit the new changes to your new branch and push your new branch upstream (to the remote)\n",
    "9. Now find a way to merge your branch into the master branch.\n",
    "10. If all went well, and your changes are merged with master, you can delete your temporary branch (both local and remote)\n",
    "\n",
    "*Consult https://www.atlassian.com/git/tutorials if needed*"
   ]
  },
  {
   "cell_type": "markdown",
   "metadata": {
    "slideshow": {
     "slide_type": "subslide"
    }
   },
   "source": [
    "![](https://media.giphy.com/media/XreQmk7ETCak0/source.gif)"
   ]
  },
  {
   "cell_type": "markdown",
   "metadata": {
    "slideshow": {
     "slide_type": "subslide"
    }
   },
   "source": [
    "# ProTip: Always commit and push your code at end of the day\n",
    "\n",
    "`$ git checkout -b guido_work_in_progress`<br>\n",
    "`$ git add . `<br>\n",
    "`$ git commit -m \"work in progress\"`<br>\n",
    "`$ git push origin guido_work_in_progress`<br>\n"
   ]
  },
  {
   "cell_type": "markdown",
   "metadata": {
    "slideshow": {
     "slide_type": "subslide"
    }
   },
   "source": [
    "<center><img src=\"https://www.mememaker.net/api/bucket?path=static/img/memes/full/2017/Apr/17/15/breaktime-tea-time.jpg\"><center>"
   ]
  },
  {
   "cell_type": "markdown",
   "metadata": {
    "slideshow": {
     "slide_type": "slide"
    }
   },
   "source": [
    "# Outline\n",
    "* Introduction ✓\n",
    "* General idea ✓\n",
    "* Setup* ✓\n",
    "* Creating your first repo* ✓\n",
    "* Every day commands* ✓\n",
    "* Every week commands* ✓\n",
    "* Every month commands* \n",
    "* Fixing Mistakes*\n",
    "* GitFlow"
   ]
  },
  {
   "cell_type": "code",
   "execution_count": null,
   "metadata": {},
   "outputs": [],
   "source": []
  },
  {
   "cell_type": "markdown",
   "metadata": {
    "slideshow": {
     "slide_type": "slide"
    }
   },
   "source": [
    "# Every month commands"
   ]
  },
  {
   "cell_type": "markdown",
   "metadata": {
    "slideshow": {
     "slide_type": "subslide"
    }
   },
   "source": [
    "# git rebase\n",
    "<center><img src=\"https://wac-cdn.atlassian.com/dam/jcr:e4a40899-636b-4988-9774-eaa8a440575b/02.svg?cdnVersion=674\" style=\"width:600px\"></center>\n",
    "Usage: <code> git rebase {base} </code>\n",
    "This rebases current work on base = commit reference, branch of head <br>\n",
    "Here we use:<br>\n",
    "<code> git checkout feature </code> <br/>\n",
    "<code> git rebase master </code>"
   ]
  },
  {
   "cell_type": "markdown",
   "metadata": {
    "slideshow": {
     "slide_type": "subslide"
    }
   },
   "source": [
    "## Merging vs. Rebasing\n",
    "<center><img src=\"https://wac-cdn.atlassian.com/dam/jcr:1896adb1-5d49-419a-9b50-3a36adac186c/09.svg?cdnVersion=674\" style=\"width:400px\"></center>"
   ]
  },
  {
   "cell_type": "markdown",
   "metadata": {
    "slideshow": {
     "slide_type": "slide"
    }
   },
   "source": [
    "# Assignment - Merge vs Rebase\n",
    "Assume we have the following code base\n",
    "![](images/ass_merge_rebase_1.png)\n",
    "Our goal: have all commits (m1 to m5 and f1 to f3) in master branch"
   ]
  },
  {
   "cell_type": "markdown",
   "metadata": {
    "slideshow": {
     "slide_type": "subslide"
    }
   },
   "source": [
    "# Assignment - Merge vs Rebase\n",
    "Our goal: have all commits (m1 to m5 and f1 to f3) in master branch\n",
    "1. Merge:\n",
    "    * clone https://github.com/Vantage-AI/git-assignment-rebase-merge\n",
    "    * Look around (in log for example)\n",
    "    * Use **Merge** to reach the goal\n",
    "2. Rebase\n",
    "    * clone https://github.com/Vantage-AI/git-assignment-rebase-merge\n",
    "    * Look around (in log and code)\n",
    "    * Use **Rebase** (and merge) to reach the goal\n",
    "\n",
    "## Please, do not push your work"
   ]
  },
  {
   "cell_type": "markdown",
   "metadata": {
    "slideshow": {
     "slide_type": "subslide"
    }
   },
   "source": [
    "# Assignment - Merge vs Rebase\n",
    "1. Merge:\n",
    "\n",
    "`$ git checkout master` <br>\n",
    "`$ git merge feature`\n",
    "![](images/ass_merge_rebase_2.png)"
   ]
  },
  {
   "cell_type": "markdown",
   "metadata": {
    "slideshow": {
     "slide_type": "subslide"
    }
   },
   "source": [
    "# Assignment - Merge vs Rebase\n",
    "2. Rebase:<br>\n",
    "`$ git checkout feature`<br>\n",
    "`$ git rebase master`<br>\n",
    "`$ git checkout master`<br>\n",
    "`$ git merge feature`<br>\n",
    "![](images/ass_merge_rebase_3.png)"
   ]
  },
  {
   "cell_type": "markdown",
   "metadata": {
    "slideshow": {
     "slide_type": "subslide"
    }
   },
   "source": [
    "# git rebase --interactive {base} <br>\n",
    "<center><img src='images/rebase_interactive_1.png' style=\"width:500px\"></center>\n",
    "<code>$ git rebase --interactive master</code>"
   ]
  },
  {
   "cell_type": "markdown",
   "metadata": {
    "slideshow": {
     "slide_type": "fragment"
    }
   },
   "source": [
    "## **DEMO TIME**"
   ]
  },
  {
   "cell_type": "markdown",
   "metadata": {
    "slideshow": {
     "slide_type": "subslide"
    }
   },
   "source": [
    "<center><img src=\"https://i.ytimg.com/vi/V5KrD7CmO4o/maxresdefault.jpg\" style=\"width:600px\"></center>"
   ]
  },
  {
   "cell_type": "markdown",
   "metadata": {
    "slideshow": {
     "slide_type": "subslide"
    }
   },
   "source": [
    "# git rebase --interactive {base} <br>\n",
    "<center><img src='images/rebase_interactive_2.png' style=\"width:500px\"></center>\n",
    "<code>$ git rebase --interactive master</code>"
   ]
  },
  {
   "cell_type": "markdown",
   "metadata": {
    "slideshow": {
     "slide_type": "subslide"
    }
   },
   "source": [
    "# git rebase --interactive {base} <br>\n",
    "<center><img src='images/rebase_interactive_3.png' style=\"width:500px\"></center>\n",
    "<code>Select what commits to keep. Change the history of your feature branch</code>"
   ]
  },
  {
   "cell_type": "markdown",
   "metadata": {
    "slideshow": {
     "slide_type": "subslide"
    }
   },
   "source": [
    "# git rebase --interactive {base}\n",
    "![](images/rebase_interactive_4.png)"
   ]
  },
  {
   "cell_type": "markdown",
   "metadata": {
    "slideshow": {
     "slide_type": "subslide"
    }
   },
   "source": [
    "# git squash \n",
    "Also possible to squash last *n* commands in current branch with: ``$ git rebase -i HEAD~n``"
   ]
  },
  {
   "cell_type": "markdown",
   "metadata": {
    "slideshow": {
     "slide_type": "subslide"
    }
   },
   "source": [
    "# Git blame <br>\n",
    "<center><img src=\"images/blame.png\" style=\"height:500px\"></center>"
   ]
  },
  {
   "cell_type": "markdown",
   "metadata": {
    "slideshow": {
     "slide_type": "subslide"
    }
   },
   "source": [
    "# ProTip: Make use of git aliases\n",
    "<br>\n",
    "<center><img src=\"https://toucantoco.com/img/tech-blog/git-alias.jpg\" style=\"width:500px\"></center>"
   ]
  },
  {
   "cell_type": "markdown",
   "metadata": {
    "slideshow": {
     "slide_type": "subslide"
    }
   },
   "source": [
    "# ProTip: Make use of git aliases\n",
    "in ~/.gitconfig: <br>\n",
    "```ruby\n",
    "[alias]\n",
    "lg = log --graph --abbrev-commit --decorate --format=format:'%C(bold blue)%h%C(reset) - %C(bold cyan)%aD%C(reset) %C(bold green)(%ar)%C(reset)%C(bold yellow)%d%C(reset)%n''          %C(white)%s%C(reset) %C(dim white)- %an%C(reset)' --all\n",
    "st = status -sb\n",
    "go  = checkout\n",
    "d = diff\n",
    "ds = diff --staged\n",
    "\n",
    "```\n"
   ]
  },
  {
   "cell_type": "markdown",
   "metadata": {
    "slideshow": {
     "slide_type": "slide"
    }
   },
   "source": [
    "# Outline\n",
    "* Introduction ✓\n",
    "* General idea ✓\n",
    "* Setup* ✓\n",
    "* Creating your first repo* ✓\n",
    "* Every day commands* ✓\n",
    "* Every week commands* ✓\n",
    "* Every month commands* \n",
    "* Fixing Mistakes*\n",
    "* GitFlow"
   ]
  },
  {
   "cell_type": "markdown",
   "metadata": {
    "slideshow": {
     "slide_type": "slide"
    }
   },
   "source": [
    "# $ `git coffee`\n",
    "<center><img src=\"https://media.giphy.com/media/RiWZUGcZPEKdQgrQ96/source.gif\" style=\"width:600px;\"></center>"
   ]
  },
  {
   "cell_type": "markdown",
   "metadata": {
    "slideshow": {
     "slide_type": "subslide"
    }
   },
   "source": [
    "![](https://i.redd.it/m6jxp14fsg301.gif)"
   ]
  },
  {
   "cell_type": "markdown",
   "metadata": {
    "slideshow": {
     "slide_type": "slide"
    }
   },
   "source": [
    "# Fixing mistakes\n",
    "<center><img src=\"https://encrypted-tbn0.gstatic.com/images?q=tbn%3AANd9GcRiSNIiR1Dp6LA5PnAGZU7jf1dQt8MfrukkY5w-3I6Lf-b1Ehlt\" style=\"width:400px\"></center>"
   ]
  },
  {
   "cell_type": "markdown",
   "metadata": {
    "slideshow": {
     "slide_type": "subslide"
    }
   },
   "source": [
    "<center><img src=\"https://pics.me.me/reverting-the-codebase-after-everything-breaks-nothing-to-see-here-please-57905317.png\"></center>"
   ]
  },
  {
   "cell_type": "markdown",
   "metadata": {
    "slideshow": {
     "slide_type": "subslide"
    }
   },
   "source": [
    "# Fixing local git mistakes\n",
    "* `$ git commit --ammend`: Add files to previous commit or edit commit message\n",
    "* `$ git reset:` undo last commit(s). Note difference between soft and hard reset<br>\n",
    "`$ git reset --soft HEAD~1`: Removes last commit, but keeps all changes <br>\n",
    "`$ git reset --hard HEAD~2`: Removes last two commits, including changes\n",
    "* Make sure to check: https://sethrobertson.github.io/GitFixUm/fixup.html#discard_all_unpushed"
   ]
  },
  {
   "cell_type": "markdown",
   "metadata": {},
   "source": [
    "<center><img src=\"https://wac-cdn.atlassian.com/dam/jcr:5c4cb0f2-856c-4d39-b014-9340ef1d05e4/hero.svg?cdnVersion=667\" style=\"width=700px;\">"
   ]
  },
  {
   "cell_type": "markdown",
   "metadata": {
    "slideshow": {
     "slide_type": "subslide"
    }
   },
   "source": [
    "# Already pushed mistakes to remote repo?"
   ]
  },
  {
   "cell_type": "markdown",
   "metadata": {
    "slideshow": {
     "slide_type": "fragment"
    }
   },
   "source": [
    "Use `$ git revert`. Automatically create a new commit with the inversion of the last commit, whilst keeping all history "
   ]
  },
  {
   "cell_type": "markdown",
   "metadata": {
    "slideshow": {
     "slide_type": "fragment"
    }
   },
   "source": [
    "<center>\n",
    "<img src=\"https://wac-cdn.atlassian.com/dam/jcr:b6fcf82b-5b15-4569-8f4f-a76454f9ca5b/03%20(7).svg?cdnVersion=667\" style=\"width=700px;\">\n",
    "</center>"
   ]
  },
  {
   "cell_type": "markdown",
   "metadata": {
    "slideshow": {
     "slide_type": "subslide"
    }
   },
   "source": [
    "# Git Reset vs Revert\n",
    "* git revert should be used to undo changes on a public branch\n",
    "* git reset should be reserved for undoing changes on a private branch"
   ]
  },
  {
   "cell_type": "markdown",
   "metadata": {
    "slideshow": {
     "slide_type": "subslide"
    }
   },
   "source": [
    "# Recovering lost commits - `git reflog`\n",
    "\n",
    "* Always remember, git saves everything. Even though you can't see it in git log, it's there.\n",
    "* For example, after a rebase with some squashed commits (as we did before)\n",
    "* **DEMO TIME** `$ git reset HEAD@{2}`\n",
    "* src: https://www.atlassian.com/git/tutorials/rewriting-history/git-reflog"
   ]
  },
  {
   "cell_type": "markdown",
   "metadata": {
    "slideshow": {
     "slide_type": "subslide"
    }
   },
   "source": [
    "# ProTip: Delete local branches that no longer exist in the remote repo\n",
    "\n",
    "`$ git remote prune origin`\n",
    "<br>\n",
    "<center><img src=\"https://upload.wikimedia.org/wikipedia/commons/9/96/Prune_d_ente.jpg\" style=\"width:500px;\"></center>\n"
   ]
  },
  {
   "cell_type": "markdown",
   "metadata": {
    "slideshow": {
     "slide_type": "slide"
    }
   },
   "source": [
    "# Git Workflow"
   ]
  },
  {
   "cell_type": "markdown",
   "metadata": {
    "slideshow": {
     "slide_type": "subslide"
    }
   },
   "source": [
    "# Git Workflow\n",
    "* Establisch a git workflow with your team\n",
    "* provides a robust framework for managing larger projects\n"
   ]
  },
  {
   "cell_type": "markdown",
   "metadata": {
    "slideshow": {
     "slide_type": "fragment"
    }
   },
   "source": [
    "\n",
    "## General guidelines\n",
    "* Have short-lived feature branches\n",
    "* Minimize reverts --> work witht small increments and testible branches"
   ]
  },
  {
   "cell_type": "markdown",
   "metadata": {
    "slideshow": {
     "slide_type": "subslide"
    }
   },
   "source": [
    "# Example git workflows:\n",
    "* Centralized workflow \n",
    "* Feature branch workflow\n",
    "* Gitflow workflow"
   ]
  },
  {
   "cell_type": "markdown",
   "metadata": {
    "slideshow": {
     "slide_type": "subslide"
    }
   },
   "source": [
    "## Centralized workflow\n",
    "* Only have a single branch: master"
   ]
  },
  {
   "cell_type": "markdown",
   "metadata": {
    "slideshow": {
     "slide_type": "subslide"
    }
   },
   "source": [
    "# John works on his feature in local clone of *master*\n",
    "<center><img src=\"https://www.atlassian.com/dam/jcr:76bfc199-100a-4ef7-b9cf-86179ea5507c/06%20(2).svg\" style=\"width:700px\"></center>"
   ]
  },
  {
   "cell_type": "markdown",
   "metadata": {
    "slideshow": {
     "slide_type": "subslide"
    }
   },
   "source": [
    "# Mary works on his feature in local clone of *master*\n",
    "<center><img src=\"https://www.atlassian.com/dam/jcr:a0aa8d1b-11a4-4aa4-a3a9-4f83f9be9a67/07.svg\" style=\"width:700px\"></center>"
   ]
  },
  {
   "cell_type": "markdown",
   "metadata": {
    "slideshow": {
     "slide_type": "subslide"
    }
   },
   "source": [
    "# John pushes his changes to master\n",
    "<center><img src=\"https://www.atlassian.com/dam/jcr:6e5dc66d-b041-4013-b321-b1908fecfdbd/08.svg\" style=\"width:700px\"></center>"
   ]
  },
  {
   "cell_type": "markdown",
   "metadata": {
    "slideshow": {
     "slide_type": "subslide"
    }
   },
   "source": [
    "# Mary pushes her changes but fails\n",
    "<center><img src=\"https://www.atlassian.com/dam/jcr:52e2347e-b8e0-49ab-9530-5d1e9129198e/09.svg\" style=\"width:700px\"></center>"
   ]
  },
  {
   "cell_type": "markdown",
   "metadata": {
    "slideshow": {
     "slide_type": "subslide"
    }
   },
   "source": [
    "# Mary rebases on top of John’s commit\n",
    "<center><img src=\"https://www.atlassian.com/dam/jcr:25edd772-a30a-475a-a6ca-d1055ae61737/10.svg\" style=\"width:700px\"></center>"
   ]
  },
  {
   "cell_type": "markdown",
   "metadata": {
    "slideshow": {
     "slide_type": "subslide"
    }
   },
   "source": [
    "# `$ git pull --rebase origin master`\n",
    "<center><img src=\"https://www.atlassian.com/dam/jcr:5165668f-b62d-4417-95e6-fde8ed97ec60/11.svg\" style=\"width:700px\"></center>"
   ]
  },
  {
   "cell_type": "markdown",
   "metadata": {
    "slideshow": {
     "slide_type": "subslide"
    }
   },
   "source": [
    "# Mary resolves merge conflict\n",
    "<center><img src=\"https://www.atlassian.com/dam/jcr:eaad29a3-6d94-4916-8a2c-3dea71aea4c2/12.svg\" style=\"width:700px\"></center>"
   ]
  },
  {
   "cell_type": "markdown",
   "metadata": {
    "slideshow": {
     "slide_type": "subslide"
    }
   },
   "source": [
    "# Mary pushes her changes\n",
    "<center><img src=\"https://www.atlassian.com/dam/jcr:de2dabdd-542f-4f64-9be4-870abff06f60/14.svg\" style=\"width:700px\"></center>"
   ]
  },
  {
   "cell_type": "markdown",
   "metadata": {
    "slideshow": {
     "slide_type": "subslide"
    }
   },
   "source": [
    "![](https://media.makeameme.org/created/yeah-if-you-nmp8gh.jpg)"
   ]
  },
  {
   "cell_type": "markdown",
   "metadata": {
    "slideshow": {
     "slide_type": "subslide"
    }
   },
   "source": [
    "# Git Feature Branch Workflow\n",
    "* All feature development should take place in a dedicated branch\n",
    "* *Advantage:* Master branch will never contain broken code\n",
    "* Leverage *pull requests*\n"
   ]
  },
  {
   "cell_type": "markdown",
   "metadata": {
    "slideshow": {
     "slide_type": "subslide"
    }
   },
   "source": [
    "# Pull requests\n",
    "* Master branche is **protected**. No one is allowed to push to master.\n",
    "* To merge your branche with master, you create a pull request\n",
    "\n",
    "\n",
    "* Unwritten rules pull request:\n",
    "    * At least 1 but preferable 2 reviewers\n",
    "    * The creator of the pull request is the owner and responsible for merging if request is verified "
   ]
  },
  {
   "cell_type": "markdown",
   "metadata": {
    "slideshow": {
     "slide_type": "subslide"
    }
   },
   "source": [
    "# Mary makes a feature branch\n",
    "<br>\n",
    "<center><img src=\"https://www.atlassian.com/dam/jcr:223f5106-2191-4450-8916-e5c80d7d907a/02.svg\" style=\"width:700px\"></center>\n"
   ]
  },
  {
   "cell_type": "markdown",
   "metadata": {
    "slideshow": {
     "slide_type": "subslide"
    }
   },
   "source": [
    "# Mary works on her feature\n",
    "<br>\n",
    "<center><img src=\"https://www.atlassian.com/dam/jcr:e2c88c1b-fb28-46a3-93be-c1c45f86bd1c/03%20(1).svg\" style=\"width:700px\"></center>\n"
   ]
  },
  {
   "cell_type": "markdown",
   "metadata": {
    "slideshow": {
     "slide_type": "subslide"
    }
   },
   "source": [
    "# Mary is done\n",
    "<br>\n",
    "<center><img src=\"https://www.atlassian.com/dam/jcr:d0c471b4-61c8-4005-86bc-904d894e391b/04.svg\" style=\"width:700px\"></center>\n"
   ]
  },
  {
   "cell_type": "markdown",
   "metadata": {
    "slideshow": {
     "slide_type": "subslide"
    }
   },
   "source": [
    "# Bill receives a pull request\n",
    "<br>\n",
    "<center><img src=\"https://www.atlassian.com/dam/jcr:2119c2a3-7dff-43ad-bf98-77672d93242f/05%20(1).svg\" style=\"width:700px\"></center>\n",
    "And request some changes"
   ]
  },
  {
   "cell_type": "markdown",
   "metadata": {
    "slideshow": {
     "slide_type": "subslide"
    }
   },
   "source": [
    "# Mary makes the requested changes\n",
    "<br>\n",
    "<center><img src=\"https://www.atlassian.com/dam/jcr:d0c471b4-61c8-4005-86bc-904d894e391b/04.svg\" style=\"width:700px\"></center>\n"
   ]
  },
  {
   "cell_type": "markdown",
   "metadata": {
    "slideshow": {
     "slide_type": "subslide"
    }
   },
   "source": [
    "# Mary merges her feature branch with *master*\n",
    "<br>\n",
    "<center><img src=\"https://www.atlassian.com/dam/jcr:09308632-38a3-4637-bba2-af2110629d56/07.svg\" style=\"width:700px\"></center>\n"
   ]
  },
  {
   "cell_type": "markdown",
   "metadata": {
    "slideshow": {
     "slide_type": "subslide"
    }
   },
   "source": [
    "# Gitflow Workflow\n",
    "* Seperate environments for different goals\n",
    "* Production/master, Develop, Acceptance, Test, Feature, Release, hotfix\n",
    "* Some branchs like Master, Acceptance, Test, Develop are **protected**\n",
    "* https://leanpub.com/site_images/git-flow/git-flow-nvie.png"
   ]
  },
  {
   "cell_type": "markdown",
   "metadata": {
    "slideshow": {
     "slide_type": "subslide"
    }
   },
   "source": [
    "<center><img src=\"https://www.atlassian.com/dam/jcr:b5259cce-6245-49f2-b89b-9871f9ee3fa4/03%20(2).svg\" style=\"width:700px\"></center>\n"
   ]
  },
  {
   "cell_type": "markdown",
   "metadata": {
    "slideshow": {
     "slide_type": "subslide"
    }
   },
   "source": [
    "# Gitflow Workflow\n",
    "![](https://born4joy.files.wordpress.com/2019/05/git-flow.png?w=622&h=315)"
   ]
  },
  {
   "cell_type": "markdown",
   "metadata": {
    "slideshow": {
     "slide_type": "subslide"
    }
   },
   "source": [
    "Scenario 1: Feature A development and Hotfix\n",
    "* Developer creates “A” branch from Master then work on it.\n",
    "* After local development completed, send PR to Develop branch to test in sandbox.\n",
    "* After sandbox test successful, send PR to Master branch.\n",
    "* Create QA branch from Master and make deployment\n",
    "* After QA successful, create UAT branch from QA and make deployment\n",
    "* In UAT, there is issue found, developer work on fix in its own A branch.\n",
    "* At the meantime there is a Hotfix happen, round 1 release is put on hold\n",
    "* Create a Hotfix branch from Production then work on it.\n",
    "* After local development completed, send PR to both Production and Master branches.\n",
    "* Developer finish the fix and send anther PR to Master branch\n",
    "* Abandon the round 1 QA and UAT branches, recreate them for round 2. This time, the QA and UAT branches contain both * feature A and Hot fix.\n",
    "* Everything test good in both QA and UAT. Then send UAT PR to Production for release\n"
   ]
  },
  {
   "cell_type": "markdown",
   "metadata": {
    "slideshow": {
     "slide_type": "subslide"
    }
   },
   "source": [
    "Scenario 2: Feature B development.\n",
    "\n",
    "* Developer create “B” branch from Master then work on it.\n",
    "* After local development completed, send PR to Develop branch to test in sandbox.\n",
    "* After sandbox test successful, send PR to Master branch.\n",
    "* Create QA branch from Master and make deployment\n",
    "* After QA successful, create UAT branch from QA and make deployment\n",
    "* After UAT successful, it is ready to PR to Production branch for release"
   ]
  },
  {
   "cell_type": "markdown",
   "metadata": {
    "slideshow": {
     "slide_type": "subslide"
    }
   },
   "source": [
    "# BFG Repo-Cleaner\n",
    "* Removes large or troublesome blobs like git-filter-branch does, but faster. Like:\n",
    "* Removing Crazy Big Files\n",
    "* Removing Passwords, Credentials & other Private data"
   ]
  },
  {
   "cell_type": "markdown",
   "metadata": {
    "slideshow": {
     "slide_type": "subslide"
    }
   },
   "source": [
    "# Git Large File Storage (LFS)\n",
    "* Git is a distributed version control system\n",
    "* Entire history of the repository is downloaded when cloning\n",
    "* Not convenient if a lot of large files in repo\n",
    "\n",
    "\n",
    "**GIT LFS:**\n",
    "*  Downloading relevant versions of files *lazily* (at checkout)\n",
    "* Documentation and install instructions at https://git-lfs.github.com/"
   ]
  },
  {
   "cell_type": "markdown",
   "metadata": {
    "slideshow": {
     "slide_type": "subslide"
    }
   },
   "source": [
    "# Git submodules\n",
    "<br>\n",
    "<center><img src=\"https://lh3.googleusercontent.com/proxy/URpCJDNnHFvuyly3sgPv68s8UG2oxhVqQKW4dazLqefIPU7XLrmSn7A20Z-E0fSuuXXR3JiBnDeXMAWQ0jlpMFSVyjUFUdmVWRSwdnKeSKjouYTScB3k_lGEqAXhaqRA5XoOtVn2k4JMqVsWweVui_DgrPP7hFAfvDs\" style=\"width:500px\"></center>"
   ]
  },
  {
   "cell_type": "markdown",
   "metadata": {
    "slideshow": {
     "slide_type": "slide"
    }
   },
   "source": [
    "# Git cheatsheet\n",
    "http://ndpsoftware.com/git-cheatsheet.html"
   ]
  },
  {
   "cell_type": "markdown",
   "metadata": {},
   "source": [
    "![](https://static.wixstatic.com/media/947254_43701ec264a243ce9480cb816e3f75da~mv2.jpg/v1/fill/w_410,h_410/947254_43701ec264a243ce9480cb816e3f75da~mv2.jpg)"
   ]
  },
  {
   "cell_type": "markdown",
   "metadata": {
    "slideshow": {
     "slide_type": "slide"
    }
   },
   "source": [
    "# Summary"
   ]
  },
  {
   "cell_type": "markdown",
   "metadata": {
    "slideshow": {
     "slide_type": "subslide"
    }
   },
   "source": [
    "![](https://i.pinimg.com/originals/2b/a1/16/2ba116a2e021dc1d14c6994ec73998d3.png)"
   ]
  },
  {
   "cell_type": "markdown",
   "metadata": {
    "slideshow": {
     "slide_type": "subslide"
    }
   },
   "source": [
    "# Summary\n",
    "* Track and save everything\n",
    "* Collaborate in a structured way in large project with many developers\n",
    "* Not easy, but very powerfull\n",
    "* And remember:"
   ]
  },
  {
   "cell_type": "markdown",
   "metadata": {
    "slideshow": {
     "slide_type": "subslide"
    }
   },
   "source": [
    "<center><img src=\"https://pics.me.me/iforgot-to-git-commit-after-adding-important-features-theni-screwed-48151850.png\" style=\"width:400px\"></center>"
   ]
  }
 ],
 "metadata": {
  "celltoolbar": "Slideshow",
  "kernelspec": {
   "display_name": "Python 3",
   "language": "python",
   "name": "python3"
  },
  "language_info": {
   "codemirror_mode": {
    "name": "ipython",
    "version": 3
   },
   "file_extension": ".py",
   "mimetype": "text/x-python",
   "name": "python",
   "nbconvert_exporter": "python",
   "pygments_lexer": "ipython3",
   "version": "3.7.3"
  }
 },
 "nbformat": 4,
 "nbformat_minor": 2
}
