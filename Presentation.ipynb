{
 "cells": [
  {
   "cell_type": "markdown",
   "metadata": {
    "collapsed": true,
    "slideshow": {
     "slide_type": "slide"
    }
   },
   "source": [
    "## Git workshop for Data Science Guild\n",
    "\n",
    "\n",
    "<br><br><br>\n",
    "<center><img src=\"https://www.bergler.nl/wp-content/uploads/2018/02/git.jpg\" style=\"width: 500px;\" align=\"middle\"/></center>\n"
   ]
  },
  {
   "cell_type": "markdown",
   "metadata": {
    "slideshow": {
     "slide_type": "slide"
    }
   },
   "source": [
    "\n",
    "<center><img src=\"https://files.meetup.com/18422985/yuSjmlk.png\" alt=\"Drawing\" style=\"width: 900px;\"/></center>\n"
   ]
  },
  {
   "cell_type": "markdown",
   "metadata": {
    "slideshow": {
     "slide_type": "subslide"
    }
   },
   "source": [
    "# Companies using git\n",
    "* Google, Microsoft, Intel, Amazon, LinkedIn, Cisco, IBM, Accenture, Facebook, Rackspace, Yahoo, Apple, T-Mobile, Zendesk Lenovo, Atlassian, Netflix, Twitter, Dropbox, Paypall, Nasa, IceMobile, many others"
   ]
  },
  {
   "cell_type": "markdown",
   "metadata": {
    "slideshow": {
     "slide_type": "subslide"
    }
   },
   "source": [
    "## Alternatives for git? Sure!\n",
    "* Mercurial\n",
    "* Perforce\n",
    "* Trac\n",
    "* Bazaar"
   ]
  },
  {
   "cell_type": "markdown",
   "metadata": {
    "slideshow": {
     "slide_type": "subslide"
    }
   },
   "source": [
    "# However\n",
    "* git is predominantly used\n",
    "* git is used at IceMobile"
   ]
  },
  {
   "cell_type": "markdown",
   "metadata": {
    "slideshow": {
     "slide_type": "slide"
    }
   },
   "source": [
    "# Outline\n",
    "* General idea\n",
    "* Setup\n",
    "* Every day commands\n",
    "* Every week commands\n",
    "* Fixing Mistakes\n",
    "* Git Flow"
   ]
  },
  {
   "cell_type": "markdown",
   "metadata": {
    "slideshow": {
     "slide_type": "slide"
    }
   },
   "source": [
    "# General idea"
   ]
  },
  {
   "cell_type": "markdown",
   "metadata": {
    "slideshow": {
     "slide_type": "subslide"
    }
   },
   "source": [
    "<center><img src=\"https://imgs.xkcd.com/comics/git.png\" alt=\"Drawing\" style=\"width: 500px;\"/></center>"
   ]
  },
  {
   "cell_type": "markdown",
   "metadata": {
    "slideshow": {
     "slide_type": "subslide"
    }
   },
   "source": [
    "* Git is a free, fast and open source distributed version control system \n",
    "* Git let's you store everything\n",
    "* Git let's you go back in time\n",
    "* Git facilitates sensible collaboration with others in the same code base\n",
    "* Git is quite hard to master, but very powerfull"
   ]
  },
  {
   "cell_type": "markdown",
   "metadata": {
    "slideshow": {
     "slide_type": "slide"
    }
   },
   "source": [
    "# Setup\n",
    "* Let git know who you are\n",
    "* Setting up a repo\n",
    "* SSH keys (IceMobile requires 2-step verification)  \n",
    "* `.gitignore`"
   ]
  },
  {
   "cell_type": "markdown",
   "metadata": {
    "slideshow": {
     "slide_type": "subslide"
    }
   },
   "source": [
    "## Before first time use of git \n",
    "\n",
    "### Let git know who you are\n",
    "* Go to terminal\n",
    "* ```git config --global user.name \"Your Name\"```\n",
    "* ```git config --global user.email guido@example.com```"
   ]
  },
  {
   "cell_type": "markdown",
   "metadata": {
    "slideshow": {
     "slide_type": "subslide"
    }
   },
   "source": [
    "## Set up a git repository locally\n",
    "* Initialize a folder as a git repository: `git init`\n",
    "* Create a README.md\n",
    "* Stage files to track: `git add README.md`\n",
    "* Commit files `git commit -m \"My first commit, the readme file\"` or just use ( `git commit` )"
   ]
  },
  {
   "cell_type": "markdown",
   "metadata": {
    "slideshow": {
     "slide_type": "subslide"
    }
   },
   "source": [
    "## Set up a remote repository\n",
    "* Go to https://github.com/new or some other website that let's you host git remotes\n",
    "* Enter a name of your repo and create!\n",
    "* You should see something as https://github.com/guidotournois-icemobile/test"
   ]
  },
  {
   "cell_type": "markdown",
   "metadata": {
    "slideshow": {
     "slide_type": "subslide"
    }
   },
   "source": [
    "## Synchronise you local repo with the remote\n",
    "* Add remote:<br>\n",
    "`git remote add origin git@github.com:<username>/<repositoryname>.git`\n",
    "* `git push -u origin master`\n",
    "<br><br>\n",
    "*The -u option automatically links your repo to a central one (origin master). That way, in the future, Git \"knows\" where you want to push to and where you want to pull from, so you can use git pull or git push without arguments.*"
   ]
  },
  {
   "cell_type": "markdown",
   "metadata": {
    "slideshow": {
     "slide_type": "subslide"
    }
   },
   "source": [
    "## Configure SSH key\n",
    "* You must verify that your computer is allowed to push to the remote \n",
    "* Because IceMobile requires two step verification, we need SSH keys\n",
    "* Google for ```github ssh key```\n",
    "* Follow steps"
   ]
  },
  {
   "cell_type": "markdown",
   "metadata": {
    "slideshow": {
     "slide_type": "subslide"
    }
   },
   "source": [
    "# .gitignore\n",
    "* Ignore unwanted files from git"
   ]
  },
  {
   "cell_type": "markdown",
   "metadata": {},
   "source": [
    "* Such as: .pyc, .ipynb_checkpoints, .env, config.yaml"
   ]
  },
  {
   "cell_type": "markdown",
   "metadata": {},
   "source": [
    "* or passwords"
   ]
  },
  {
   "cell_type": "markdown",
   "metadata": {
    "slideshow": {
     "slide_type": "fragment"
    }
   },
   "source": [
    "## Assignment\n",
    "* Create a new repository with readme and .gitignore file"
   ]
  },
  {
   "cell_type": "markdown",
   "metadata": {
    "slideshow": {
     "slide_type": "slide"
    }
   },
   "source": [
    "# Every day commands"
   ]
  },
  {
   "cell_type": "markdown",
   "metadata": {
    "slideshow": {
     "slide_type": "subslide"
    }
   },
   "source": [
    "# Every day commands\n",
    "* `git clone`: clones a repository to your local machine"
   ]
  },
  {
   "cell_type": "markdown",
   "metadata": {
    "slideshow": {
     "slide_type": "fragment"
    }
   },
   "source": [
    "* `git status`: check the status of your repo"
   ]
  },
  {
   "cell_type": "markdown",
   "metadata": {
    "slideshow": {
     "slide_type": "fragment"
    }
   },
   "source": [
    "* `git add`: stage changed files for commit."
   ]
  },
  {
   "cell_type": "markdown",
   "metadata": {
    "slideshow": {
     "slide_type": "fragment"
    }
   },
   "source": [
    "* `git rm`: stage changed files for commit."
   ]
  },
  {
   "cell_type": "markdown",
   "metadata": {
    "slideshow": {
     "slide_type": "fragment"
    }
   },
   "source": [
    "* In the staging area you can review all files that are staged for commit"
   ]
  },
  {
   "cell_type": "markdown",
   "metadata": {
    "slideshow": {
     "slide_type": "fragment"
    }
   },
   "source": [
    "* `git commit`: commit your staged files to the repository"
   ]
  },
  {
   "cell_type": "markdown",
   "metadata": {
    "slideshow": {
     "slide_type": "fragment"
    }
   },
   "source": [
    "* `git push`: push your local commits to the server"
   ]
  },
  {
   "cell_type": "markdown",
   "metadata": {
    "slideshow": {
     "slide_type": "subslide"
    }
   },
   "source": [
    "# git push\n",
    "<center><img src=\"https://www.atlassian.com/dam/jcr:f148974e-7d4d-4c0e-bd31-8ac5467d1e6a/04.svg\" style=\"width: 500px;\"/></center>"
   ]
  },
  {
   "cell_type": "markdown",
   "metadata": {
    "slideshow": {
     "slide_type": "subslide"
    }
   },
   "source": [
    "# Every day commands\n",
    "* `git log`: show all commits from the current branch"
   ]
  },
  {
   "cell_type": "markdown",
   "metadata": {
    "slideshow": {
     "slide_type": "fragment"
    }
   },
   "source": [
    "* `git diff file`: Difference of file with previous commit"
   ]
  },
  {
   "cell_type": "markdown",
   "metadata": {
    "slideshow": {
     "slide_type": "fragment"
    }
   },
   "source": [
    "* `git diff 1384c4c7c742fa 8871edc128`: Difference between two commits"
   ]
  },
  {
   "cell_type": "markdown",
   "metadata": {},
   "source": [
    "* `git show 8871edc128`: Show details of a commit"
   ]
  },
  {
   "cell_type": "markdown",
   "metadata": {
    "slideshow": {
     "slide_type": "fragment"
    }
   },
   "source": [
    "* `git checkout 8871edc128`: Go back in time to a certain commit"
   ]
  },
  {
   "cell_type": "markdown",
   "metadata": {
    "slideshow": {
     "slide_type": "slide"
    }
   },
   "source": [
    "# Assignment\n",
    "\n",
    "* Clone the repo `git-assignment`. It contains a magic 8 ball script `8ball.py`\n",
    "\n",
    "### Basics 1\n",
    "1. Change one of the magic 8 ball answers in your favo editor and save file\n",
    "2. Check the status of your local repo in the terminal\n",
    "3. Stage changes for commit\n",
    "4. Commit your changes and checkout the log of the repo\n",
    "5. Push your changes to the remote on branch master\n",
    "\n",
    "*Consult https://www.atlassian.com/git/tutorials if needed*"
   ]
  },
  {
   "cell_type": "markdown",
   "metadata": {
    "slideshow": {
     "slide_type": "slide"
    }
   },
   "source": [
    "![](https://sagarhani.files.wordpress.com/2016/01/git.jpg?w=700)"
   ]
  },
  {
   "cell_type": "markdown",
   "metadata": {
    "slideshow": {
     "slide_type": "slide"
    }
   },
   "source": [
    "# git push did not work, what's the matter?\n",
    "<center><img src=\"https://www.atlassian.com/dam/jcr:00d011ed-03dc-440f-afc5-9b13d5e14fbf/bubble%20diagram-01.svg\" style=\"width: 800px;\"/></center>\n",
    "__Your local origin/master is not the same as the remote origin. There are now two branches__"
   ]
  },
  {
   "cell_type": "markdown",
   "metadata": {
    "slideshow": {
     "slide_type": "slide"
    }
   },
   "source": [
    "# Every week commands"
   ]
  },
  {
   "cell_type": "markdown",
   "metadata": {
    "slideshow": {
     "slide_type": "subslide"
    }
   },
   "source": [
    "# git pull\n",
    "<center><img src=\"https://www.atlassian.com/dam/jcr:b3a663dc-1985-40df-b0a5-c6bcbacd71af/bubble%20diagram-02.svg\" style=\"width: 800px;\"/></center>\n",
    "**Using git pull you can download changes committed to the remote and merge them with your local work**<br>\n",
    "**Then, you can push your work to the remote**<br>\n",
    "NB: git pull is actually git fetch and then git merge"
   ]
  },
  {
   "cell_type": "markdown",
   "metadata": {
    "slideshow": {
     "slide_type": "subslide"
    }
   },
   "source": [
    "# git fetch\n",
    "<center>![](https://www.atlassian.com/dam/jcr:0718ae20-0dc5-482c-a38c-25e4f1a1a3b0/02.svg)</center>\n",
    "**git fetch downloads all commits from the remote and shows them as a different branch**. <br>\n",
    "NB: You can check this with: `git branch -a`"
   ]
  },
  {
   "cell_type": "markdown",
   "metadata": {
    "slideshow": {
     "slide_type": "slide"
    }
   },
   "source": [
    "# git merge \n",
    "![](https://www.atlassian.com/dam/jcr:86eba9ec-9391-45ea-800a-948cec1f2ed7/Branch-2.png)"
   ]
  },
  {
   "cell_type": "markdown",
   "metadata": {
    "slideshow": {
     "slide_type": "subslide"
    }
   },
   "source": [
    "# git merge \n",
    "![](https://www.atlassian.com/dam/jcr:83323200-3c57-4c29-9b7e-e67e98745427/Branch-1.png)"
   ]
  },
  {
   "cell_type": "markdown",
   "metadata": {
    "slideshow": {
     "slide_type": "slide"
    }
   },
   "source": [
    "<center>![](http://www.globalnerdy.com/wordpress/wp-content/uploads/2018/02/bro-do-you-even-git.jpg)</center>"
   ]
  },
  {
   "cell_type": "markdown",
   "metadata": {
    "slideshow": {
     "slide_type": "subslide"
    }
   },
   "source": [
    "# Merge conflicts"
   ]
  },
  {
   "cell_type": "markdown",
   "metadata": {
    "slideshow": {
     "slide_type": "fragment"
    }
   },
   "source": [
    "**In terminal**<br>\n",
    "``` $ git merge feature_branch\n",
    "Auto-merging model.py\n",
    "CONFLICT (content): Merge conflict in model.py\n",
    "Automatic merge failed; fix conflicts and then commit the result.\n",
    "```"
   ]
  },
  {
   "cell_type": "markdown",
   "metadata": {
    "slideshow": {
     "slide_type": "fragment"
    }
   },
   "source": [
    "Merge conflicts show up in code as:"
   ]
  },
  {
   "cell_type": "code",
   "execution_count": 14,
   "metadata": {},
   "outputs": [],
   "source": [
    "# in file model.py:\n",
    "import numpy\n",
    "<<<<<<< HEAD\n",
    "    import random\n",
    "=======\n",
    "    from random import sample\n",
    ">>>>>>> master\n",
    "import pandas as pd"
   ]
  },
  {
   "cell_type": "markdown",
   "metadata": {},
   "source": [
    "HEAD refers to what you had locally. Master refers to what was on the remote branche. <br>\n",
    "Merge conflicts have to be solved manually."
   ]
  },
  {
   "cell_type": "markdown",
   "metadata": {
    "slideshow": {
     "slide_type": "slide"
    }
   },
   "source": [
    "# git branch\n",
    "* When you want to add a new feature or fix a bug—no matter how big or how small—you spawn a new branch to encapsulate your changes\n",
    "* This makes it harder for unstable code to get merged into the main code base.\n",
    "* It gives you the chance to clean up your future's history before merging it into the main branch."
   ]
  },
  {
   "cell_type": "markdown",
   "metadata": {
    "slideshow": {
     "slide_type": "subslide"
    }
   },
   "source": [
    "![](https://www.atlassian.com/dam/jcr:746be214-eb99-462c-9319-04a4d2eeebfa/01.svg)"
   ]
  },
  {
   "cell_type": "markdown",
   "metadata": {
    "slideshow": {
     "slide_type": "subslide"
    }
   },
   "source": [
    "# git branch\n",
    "* possible to work on multiple branches in parallel\n",
    "* keeps the main master branch free from questionable code"
   ]
  },
  {
   "cell_type": "markdown",
   "metadata": {
    "slideshow": {
     "slide_type": "subslide"
    }
   },
   "source": [
    "# git branch\n",
    "* Create a branch with:<br>\n",
    "`git branch crazy-experiment`\n",
    "* Note: this only creates the new branch. \n",
    "* To start adding commits to it, select it with <br> `git checkout crazy-experiment`\n",
    "* Delete a branch with<br>\n",
    "`git branch -d crazy-experiment`"
   ]
  },
  {
   "cell_type": "markdown",
   "metadata": {
    "slideshow": {
     "slide_type": "slide"
    }
   },
   "source": [
    "# git checkout\n",
    "* git checkout not only for going back to a previous commits\n",
    "* Also to switch between branches\n",
    "* Create branch and checkout with <br>\n",
    "`git checkout -b crazy-experiment`"
   ]
  },
  {
   "cell_type": "markdown",
   "metadata": {},
   "source": [
    "# git stash\n",
    "* `git stash` temporarily shelves (or stashes) changes you've made to your working directory\n",
    "* Reapply previously stashed changes with git `stash pop`"
   ]
  },
  {
   "cell_type": "markdown",
   "metadata": {
    "slideshow": {
     "slide_type": "slide"
    }
   },
   "source": [
    "# Assignment\n",
    "\n",
    "### Basics 2\n",
    "6. Use `pull/fetch/merge/push` to get your commits to the remote on the branch master\n",
    "7. Create and checkout a new branch locally and put random files in it\n",
    "8. Add and commit the newly added files to your branch and push it upstream\n",
    "9. Merge your branch with the master branch and push master back upstream\n",
    "10. Remove your temporary branch\n",
    "\n",
    "*Consult https://www.atlassian.com/git/tutorials if needed*"
   ]
  },
  {
   "cell_type": "markdown",
   "metadata": {
    "slideshow": {
     "slide_type": "slide"
    }
   },
   "source": [
    "# Fixing mistakes"
   ]
  },
  {
   "cell_type": "markdown",
   "metadata": {
    "slideshow": {
     "slide_type": "subslide"
    }
   },
   "source": [
    "# Fixing mistakes\n",
    "* git commit --ammend: Add files to previous commit\n",
    "* git reset: undo some things, to undo last commit and redo<br>\n",
    "```$ git commit ...\n",
    "$ git reset --soft HEAD^      \n",
    "$ edit                        \n",
    "$ git commit -a -c ORIG_HEAD  ```\n",
    "* or delete commits perminantly <br>\n",
    "```$ git commit ...\n",
    "$ git reset --hard HEAD~2   ``` This would remove last 2 commits\n",
    "* Make sure to check: https://sethrobertson.github.io/GitFixUm/fixup.html#discard_all_unpushed"
   ]
  },
  {
   "cell_type": "markdown",
   "metadata": {
    "slideshow": {
     "slide_type": "slide"
    }
   },
   "source": [
    "# Gitflow Workflow"
   ]
  },
  {
   "cell_type": "markdown",
   "metadata": {
    "slideshow": {
     "slide_type": "subslide"
    }
   },
   "source": [
    "# Gitflow Workflow\n",
    "* provides a robust framework for managing larger projects\n",
    "* Not a single master branches.\n",
    "* Production/master, Develop, Feature, Release, hotfix\n",
    "* Master and develop branche are protected\n",
    "* https://leanpub.com/site_images/git-flow/git-flow-nvie.png"
   ]
  },
  {
   "cell_type": "markdown",
   "metadata": {
    "slideshow": {
     "slide_type": "subslide"
    }
   },
   "source": [
    "# Pull requests\n",
    "* You created a cool new feature\n",
    "* You want your feature in the develop branche\n",
    "* Develop branche is protected, you cannot just merge your feature branch with dev.\n",
    "* You create a pull request\n",
    "\n",
    "* Unwritten rules:\n",
    "    * At least 1 but preferable 2 reviewers\n",
    "    * The creator of the pull request is the owner and responsible for merging if request is verified "
   ]
  },
  {
   "cell_type": "markdown",
   "metadata": {
    "slideshow": {
     "slide_type": "slide"
    }
   },
   "source": [
    "# Summary"
   ]
  },
  {
   "cell_type": "markdown",
   "metadata": {
    "slideshow": {
     "slide_type": "subslide"
    }
   },
   "source": [
    "![](https://i.pinimg.com/originals/2b/a1/16/2ba116a2e021dc1d14c6994ec73998d3.png)"
   ]
  },
  {
   "cell_type": "markdown",
   "metadata": {
    "slideshow": {
     "slide_type": "subslide"
    }
   },
   "source": [
    "# Summary\n",
    "* track and save everything\n",
    "* collaborate in a structured way in large project with many developers\n",
    "* a lot of development in IceMobile is done with git\n",
    "* Not easy, but very powerfull"
   ]
  },
  {
   "cell_type": "code",
   "execution_count": null,
   "metadata": {},
   "outputs": [],
   "source": []
  }
 ],
 "metadata": {
  "celltoolbar": "Slideshow",
  "kernelspec": {
   "display_name": "Python 3",
   "language": "python",
   "name": "python3"
  },
  "language_info": {
   "codemirror_mode": {
    "name": "ipython",
    "version": 3
   },
   "file_extension": ".py",
   "mimetype": "text/x-python",
   "name": "python",
   "nbconvert_exporter": "python",
   "pygments_lexer": "ipython3",
   "version": "3.6.1"
  }
 },
 "nbformat": 4,
 "nbformat_minor": 2
}
